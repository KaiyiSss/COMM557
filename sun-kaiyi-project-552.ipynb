{
 "cells": [
  {
   "cell_type": "code",
   "execution_count": 1,
   "id": "87a72f0c",
   "metadata": {
    "execution": {
     "iopub.execute_input": "2023-05-09T08:40:01.922735Z",
     "iopub.status.busy": "2023-05-09T08:40:01.922315Z",
     "iopub.status.idle": "2023-05-09T08:40:09.375074Z",
     "shell.execute_reply": "2023-05-09T08:40:09.373883Z"
    },
    "executionInfo": {
     "elapsed": 168,
     "status": "ok",
     "timestamp": 1683534029508,
     "user": {
      "displayName": "Datt Patel",
      "userId": "03546091703206854124"
     },
     "user_tz": 420
    },
    "id": "zuocW4vSOTeX",
    "papermill": {
     "duration": 7.481267,
     "end_time": "2023-05-09T08:40:09.377413",
     "exception": false,
     "start_time": "2023-05-09T08:40:01.896146",
     "status": "completed"
    },
    "tags": []
   },
   "outputs": [
    {
     "name": "stderr",
     "output_type": "stream",
     "text": [
      "/opt/conda/lib/python3.10/site-packages/scipy/__init__.py:146: UserWarning: A NumPy version >=1.16.5 and <1.23.0 is required for this version of SciPy (detected version 1.23.5\n",
      "  warnings.warn(f\"A NumPy version >={np_minversion} and <{np_maxversion}\"\n"
     ]
    }
   ],
   "source": [
    "import tensorflow as tf\n",
    "import matplotlib.pyplot as plt\n",
    "import numpy as np\n",
    "import os\n",
    "import cv2\n",
    "from tqdm import tqdm\n",
    "from sklearn.metrics import confusion_matrix\n",
    "import pathlib "
   ]
  },
  {
   "cell_type": "code",
   "execution_count": 2,
   "id": "6a075b05",
   "metadata": {
    "execution": {
     "iopub.execute_input": "2023-05-09T08:40:09.403729Z",
     "iopub.status.busy": "2023-05-09T08:40:09.402331Z",
     "iopub.status.idle": "2023-05-09T08:40:09.407514Z",
     "shell.execute_reply": "2023-05-09T08:40:09.406720Z"
    },
    "executionInfo": {
     "elapsed": 4,
     "status": "ok",
     "timestamp": 1683534032831,
     "user": {
      "displayName": "Datt Patel",
      "userId": "03546091703206854124"
     },
     "user_tz": 420
    },
    "id": "iEdpV8G5O5_7",
    "papermill": {
     "duration": 0.019601,
     "end_time": "2023-05-09T08:40:09.409353",
     "exception": false,
     "start_time": "2023-05-09T08:40:09.389752",
     "status": "completed"
    },
    "tags": []
   },
   "outputs": [],
   "source": [
    "IMG_WID, IMG_HG = 224, 224\n",
    "IMG_SIZE = (IMG_WID, IMG_HG)\n",
    "VAL_RATIO = 0.15\n",
    "PATIENCE = 2\n",
    "TRAIN_Ratio = 0.7\n",
    "TEST_Ratio = 1\n",
    "VAL_Ratio = 0.15\n",
    "EPOCHS = 1\n",
    "FIT_BATCH = 128"
   ]
  },
  {
   "cell_type": "code",
   "execution_count": 3,
   "id": "ddbc7088",
   "metadata": {
    "execution": {
     "iopub.execute_input": "2023-05-09T08:40:09.434129Z",
     "iopub.status.busy": "2023-05-09T08:40:09.433354Z",
     "iopub.status.idle": "2023-05-09T08:40:09.437634Z",
     "shell.execute_reply": "2023-05-09T08:40:09.436798Z"
    },
    "executionInfo": {
     "elapsed": 4,
     "status": "ok",
     "timestamp": 1683534032831,
     "user": {
      "displayName": "Datt Patel",
      "userId": "03546091703206854124"
     },
     "user_tz": 420
    },
    "id": "_l3nS2vGOFYW",
    "papermill": {
     "duration": 0.018557,
     "end_time": "2023-05-09T08:40:09.439510",
     "exception": false,
     "start_time": "2023-05-09T08:40:09.420953",
     "status": "completed"
    },
    "tags": []
   },
   "outputs": [],
   "source": [
    "data_images = '/kaggle/input/project-images/Data/Sport Images'\n",
    "data_video = '/kaggle/input/project-images/Data/Sport Videos'"
   ]
  },
  {
   "cell_type": "markdown",
   "id": "ed561e2d",
   "metadata": {
    "id": "SgwSihQO1RXV",
    "papermill": {
     "duration": 0.011659,
     "end_time": "2023-05-09T08:40:09.462834",
     "exception": false,
     "start_time": "2023-05-09T08:40:09.451175",
     "status": "completed"
    },
    "tags": []
   },
   "source": [
    "## Creating the required dataset"
   ]
  },
  {
   "cell_type": "code",
   "execution_count": 4,
   "id": "74495e8f",
   "metadata": {
    "execution": {
     "iopub.execute_input": "2023-05-09T08:40:09.488118Z",
     "iopub.status.busy": "2023-05-09T08:40:09.487337Z",
     "iopub.status.idle": "2023-05-09T08:40:09.493655Z",
     "shell.execute_reply": "2023-05-09T08:40:09.492819Z"
    },
    "executionInfo": {
     "elapsed": 4,
     "status": "ok",
     "timestamp": 1683534032832,
     "user": {
      "displayName": "Datt Patel",
      "userId": "03546091703206854124"
     },
     "user_tz": 420
    },
    "id": "DsNl8q4jmQvu",
    "papermill": {
     "duration": 0.020496,
     "end_time": "2023-05-09T08:40:09.495447",
     "exception": false,
     "start_time": "2023-05-09T08:40:09.474951",
     "status": "completed"
    },
    "tags": []
   },
   "outputs": [],
   "source": [
    "def split_folders(image_path, label_count):\n",
    "    dataset = tf.keras.utils.image_dataset_from_directory(image_path,labels=None,label_mode='int',color_mode='rgb',batch_size=None,image_size=IMG_SIZE,seed=20)\n",
    "    dataset = dataset.map(lambda x: (x, label_count))\n",
    "    total_file = len(dataset)\n",
    "    train_size, val_size = int(np.ceil(total_file*TRAIN_Ratio)), int(np.ceil(total_file*VAL_Ratio))\n",
    "    test_size = int(TEST_Ratio*(total_file - (train_size + val_size)))\n",
    "    train = dataset.take(train_size)\n",
    "    val = dataset.skip(train_size).take(val_size)\n",
    "    test = dataset.skip(train_size + val_size).take(test_size)\n",
    "    return [train, val, test]"
   ]
  },
  {
   "cell_type": "code",
   "execution_count": 5,
   "id": "4b8c8816",
   "metadata": {
    "execution": {
     "iopub.execute_input": "2023-05-09T08:40:09.520380Z",
     "iopub.status.busy": "2023-05-09T08:40:09.520128Z",
     "iopub.status.idle": "2023-05-09T08:40:13.287440Z",
     "shell.execute_reply": "2023-05-09T08:40:13.286468Z"
    },
    "executionInfo": {
     "elapsed": 5,
     "status": "ok",
     "timestamp": 1683534032833,
     "user": {
      "displayName": "Datt Patel",
      "userId": "03546091703206854124"
     },
     "user_tz": 420
    },
    "id": "KUf_5OKhPwZy",
    "papermill": {
     "duration": 3.781754,
     "end_time": "2023-05-09T08:40:13.289434",
     "exception": false,
     "start_time": "2023-05-09T08:40:09.507680",
     "status": "completed"
    },
    "tags": []
   },
   "outputs": [
    {
     "name": "stdout",
     "output_type": "stream",
     "text": [
      "Found 734 files belonging to 1 classes.\n",
      "Found 492 files belonging to 1 classes.\n",
      "Found 634 files belonging to 1 classes.\n",
      "Found 715 files belonging to 1 classes.\n",
      "Found 704 files belonging to 1 classes.\n"
     ]
    }
   ],
   "source": [
    "classes = ['baseball','basketball','fencing','tennis','volleyball']\n",
    "data_sets = []\n",
    "for idx in range(len(classes)):\n",
    "    data_sets.append(split_folders(data_images+'/'+classes[idx], idx))"
   ]
  },
  {
   "cell_type": "code",
   "execution_count": 6,
   "id": "c8c2f2d6",
   "metadata": {
    "execution": {
     "iopub.execute_input": "2023-05-09T08:40:13.315809Z",
     "iopub.status.busy": "2023-05-09T08:40:13.314973Z",
     "iopub.status.idle": "2023-05-09T08:40:13.327901Z",
     "shell.execute_reply": "2023-05-09T08:40:13.327053Z"
    },
    "papermill": {
     "duration": 0.02795,
     "end_time": "2023-05-09T08:40:13.329907",
     "exception": false,
     "start_time": "2023-05-09T08:40:13.301957",
     "status": "completed"
    },
    "tags": []
   },
   "outputs": [],
   "source": [
    "train, val, test = data_sets[0][0],data_sets[0][1],data_sets[0][2]\n",
    "for t, v, tst in data_sets[1:]:\n",
    "    train = train.concatenate(t)\n",
    "    val = val.concatenate(v)\n",
    "    test = test.concatenate(tst)"
   ]
  },
  {
   "cell_type": "markdown",
   "id": "b18e5eb9",
   "metadata": {
    "id": "svVTxzl-dgPB",
    "papermill": {
     "duration": 0.012047,
     "end_time": "2023-05-09T08:40:13.354071",
     "exception": false,
     "start_time": "2023-05-09T08:40:13.342024",
     "status": "completed"
    },
    "tags": []
   },
   "source": [
    "# Data Augmentation"
   ]
  },
  {
   "cell_type": "code",
   "execution_count": 7,
   "id": "273cd606",
   "metadata": {
    "execution": {
     "iopub.execute_input": "2023-05-09T08:40:13.379392Z",
     "iopub.status.busy": "2023-05-09T08:40:13.379100Z",
     "iopub.status.idle": "2023-05-09T08:40:13.393006Z",
     "shell.execute_reply": "2023-05-09T08:40:13.392164Z"
    },
    "executionInfo": {
     "elapsed": 4,
     "status": "ok",
     "timestamp": 1683534033664,
     "user": {
      "displayName": "Datt Patel",
      "userId": "03546091703206854124"
     },
     "user_tz": 420
    },
    "id": "8noPqsnh3Wmg",
    "papermill": {
     "duration": 0.028926,
     "end_time": "2023-05-09T08:40:13.394838",
     "exception": false,
     "start_time": "2023-05-09T08:40:13.365912",
     "status": "completed"
    },
    "tags": []
   },
   "outputs": [],
   "source": [
    "image_augmentation_flip = tf.keras.layers.RandomFlip(\"horizontal_and_vertical\")\n",
    "image_augmentation_rotation = tf.keras.layers.RandomRotation((-0.1, 0.3))\n",
    "image_augmentation_translation = tf.keras.layers.RandomTranslation((-0.1, 0.5), (-0.2, 0.4))\n",
    "image_augmentation_zoom = tf.keras.layers.RandomZoom((-0.1, 0.4))\n",
    "image_augmentation_brightness = tf.keras.layers.RandomBrightness(0.6)\n",
    "image_augmentation_contrast = tf.keras.layers.RandomContrast(0.3)"
   ]
  },
  {
   "cell_type": "code",
   "execution_count": 8,
   "id": "3c5bd999",
   "metadata": {
    "execution": {
     "iopub.execute_input": "2023-05-09T08:40:13.422595Z",
     "iopub.status.busy": "2023-05-09T08:40:13.421603Z",
     "iopub.status.idle": "2023-05-09T08:40:13.427176Z",
     "shell.execute_reply": "2023-05-09T08:40:13.426334Z"
    },
    "executionInfo": {
     "elapsed": 4,
     "status": "ok",
     "timestamp": 1683534033664,
     "user": {
      "displayName": "Datt Patel",
      "userId": "03546091703206854124"
     },
     "user_tz": 420
    },
    "id": "XWTcyveJpouC",
    "papermill": {
     "duration": 0.022045,
     "end_time": "2023-05-09T08:40:13.429001",
     "exception": false,
     "start_time": "2023-05-09T08:40:13.406956",
     "status": "completed"
    },
    "tags": []
   },
   "outputs": [],
   "source": [
    "def chooseRandom(img):\n",
    "    choice = [0,1]\n",
    "    np.random.shuffle(choice)\n",
    "    if choice == 1:\n",
    "        return image_augmentation_zoom(image_augmentation_rotation(image_augmentation_brightness(image_augmentation_translation(img))))\n",
    "    else:\n",
    "        return image_augmentation_contrast(image_augmentation_flip(img))"
   ]
  },
  {
   "cell_type": "code",
   "execution_count": 9,
   "id": "7107416e",
   "metadata": {
    "execution": {
     "iopub.execute_input": "2023-05-09T08:40:13.455505Z",
     "iopub.status.busy": "2023-05-09T08:40:13.454081Z",
     "iopub.status.idle": "2023-05-09T08:40:13.841508Z",
     "shell.execute_reply": "2023-05-09T08:40:13.840585Z"
    },
    "executionInfo": {
     "elapsed": 4,
     "status": "ok",
     "timestamp": 1683534033664,
     "user": {
      "displayName": "Datt Patel",
      "userId": "03546091703206854124"
     },
     "user_tz": 420
    },
    "id": "Yvc1RFKAmQvx",
    "papermill": {
     "duration": 0.402674,
     "end_time": "2023-05-09T08:40:13.843852",
     "exception": false,
     "start_time": "2023-05-09T08:40:13.441178",
     "status": "completed"
    },
    "tags": []
   },
   "outputs": [],
   "source": [
    "dataset_random_augmentation = train.map(lambda i,l:(chooseRandom(i), l))\n",
    "dataset_flip = train.map(lambda i,l:(image_augmentation_flip(i), l))\n",
    "dataset_rotated = train.map(lambda i,l:(image_augmentation_rotation(i), l))\n",
    "dataset_bright = train.map(lambda i,l:(image_augmentation_brightness(i), l))\n",
    "dataset_zoomed = train.map(lambda i,l:(image_augmentation_zoom(i), l))"
   ]
  },
  {
   "cell_type": "code",
   "execution_count": 10,
   "id": "4f442a51",
   "metadata": {
    "execution": {
     "iopub.execute_input": "2023-05-09T08:40:13.869950Z",
     "iopub.status.busy": "2023-05-09T08:40:13.869643Z",
     "iopub.status.idle": "2023-05-09T08:40:13.876934Z",
     "shell.execute_reply": "2023-05-09T08:40:13.876124Z"
    },
    "executionInfo": {
     "elapsed": 4,
     "status": "ok",
     "timestamp": 1683534033665,
     "user": {
      "displayName": "Datt Patel",
      "userId": "03546091703206854124"
     },
     "user_tz": 420
    },
    "id": "8rBXtKLEbSLZ",
    "papermill": {
     "duration": 0.022728,
     "end_time": "2023-05-09T08:40:13.878994",
     "exception": false,
     "start_time": "2023-05-09T08:40:13.856266",
     "status": "completed"
    },
    "tags": []
   },
   "outputs": [],
   "source": [
    "augmented_train = train.concatenate(dataset_random_augmentation)\n",
    "augmented_train = augmented_train.concatenate(dataset_flip)\n",
    "augmented_train = augmented_train.concatenate(dataset_bright)\n",
    "augmented_train = augmented_train.concatenate(dataset_zoomed)"
   ]
  },
  {
   "cell_type": "code",
   "execution_count": 11,
   "id": "62b1ab62",
   "metadata": {
    "execution": {
     "iopub.execute_input": "2023-05-09T08:40:13.904370Z",
     "iopub.status.busy": "2023-05-09T08:40:13.903596Z",
     "iopub.status.idle": "2023-05-09T08:40:13.912881Z",
     "shell.execute_reply": "2023-05-09T08:40:13.911871Z"
    },
    "executionInfo": {
     "elapsed": 4,
     "status": "ok",
     "timestamp": 1683534033665,
     "user": {
      "displayName": "Datt Patel",
      "userId": "03546091703206854124"
     },
     "user_tz": 420
    },
    "id": "iAmg5inNbSLZ",
    "papermill": {
     "duration": 0.023952,
     "end_time": "2023-05-09T08:40:13.914882",
     "exception": false,
     "start_time": "2023-05-09T08:40:13.890930",
     "status": "completed"
    },
    "tags": []
   },
   "outputs": [],
   "source": [
    "batched_augmented_train = augmented_train.batch(128, drop_remainder=True)\n",
    "batched_val = val.batch(128, drop_remainder=True)\n",
    "batched_test = test.batch(128, drop_remainder=True)"
   ]
  },
  {
   "cell_type": "code",
   "execution_count": 12,
   "id": "c07de563",
   "metadata": {
    "execution": {
     "iopub.execute_input": "2023-05-09T08:40:13.940410Z",
     "iopub.status.busy": "2023-05-09T08:40:13.939853Z",
     "iopub.status.idle": "2023-05-09T08:40:13.946116Z",
     "shell.execute_reply": "2023-05-09T08:40:13.945298Z"
    },
    "papermill": {
     "duration": 0.020895,
     "end_time": "2023-05-09T08:40:13.947997",
     "exception": false,
     "start_time": "2023-05-09T08:40:13.927102",
     "status": "completed"
    },
    "tags": []
   },
   "outputs": [
    {
     "data": {
      "text/plain": [
       "<BatchDataset element_spec=(TensorSpec(shape=(128, 224, 224, 3), dtype=tf.float32, name=None), TensorSpec(shape=(128,), dtype=tf.int32, name=None))>"
      ]
     },
     "execution_count": 12,
     "metadata": {},
     "output_type": "execute_result"
    }
   ],
   "source": [
    "batched_augmented_train"
   ]
  },
  {
   "cell_type": "code",
   "execution_count": 13,
   "id": "dedf51ce",
   "metadata": {
    "execution": {
     "iopub.execute_input": "2023-05-09T08:40:13.974024Z",
     "iopub.status.busy": "2023-05-09T08:40:13.973688Z",
     "iopub.status.idle": "2023-05-09T08:40:13.979778Z",
     "shell.execute_reply": "2023-05-09T08:40:13.978710Z"
    },
    "papermill": {
     "duration": 0.021442,
     "end_time": "2023-05-09T08:40:13.981631",
     "exception": false,
     "start_time": "2023-05-09T08:40:13.960189",
     "status": "completed"
    },
    "tags": []
   },
   "outputs": [
    {
     "data": {
      "text/plain": [
       "<BatchDataset element_spec=(TensorSpec(shape=(128, 224, 224, 3), dtype=tf.float32, name=None), TensorSpec(shape=(128,), dtype=tf.int32, name=None))>"
      ]
     },
     "execution_count": 13,
     "metadata": {},
     "output_type": "execute_result"
    }
   ],
   "source": [
    "batched_val"
   ]
  },
  {
   "cell_type": "code",
   "execution_count": 14,
   "id": "2cd6e3ea",
   "metadata": {
    "execution": {
     "iopub.execute_input": "2023-05-09T08:40:14.008277Z",
     "iopub.status.busy": "2023-05-09T08:40:14.007974Z",
     "iopub.status.idle": "2023-05-09T08:40:14.015635Z",
     "shell.execute_reply": "2023-05-09T08:40:14.014842Z"
    },
    "papermill": {
     "duration": 0.023204,
     "end_time": "2023-05-09T08:40:14.017512",
     "exception": false,
     "start_time": "2023-05-09T08:40:13.994308",
     "status": "completed"
    },
    "tags": []
   },
   "outputs": [
    {
     "data": {
      "text/plain": [
       "<BatchDataset element_spec=(TensorSpec(shape=(128, 224, 224, 3), dtype=tf.float32, name=None), TensorSpec(shape=(128,), dtype=tf.int32, name=None))>"
      ]
     },
     "execution_count": 14,
     "metadata": {},
     "output_type": "execute_result"
    }
   ],
   "source": [
    "batched_test"
   ]
  },
  {
   "cell_type": "markdown",
   "id": "fbb6041b",
   "metadata": {
    "id": "y7K_E131mQvx",
    "papermill": {
     "duration": 0.011958,
     "end_time": "2023-05-09T08:40:14.041694",
     "exception": false,
     "start_time": "2023-05-09T08:40:14.029736",
     "status": "completed"
    },
    "tags": []
   },
   "source": [
    "# Model Creation"
   ]
  },
  {
   "cell_type": "code",
   "execution_count": 15,
   "id": "8eddabdf",
   "metadata": {
    "execution": {
     "iopub.execute_input": "2023-05-09T08:40:14.067754Z",
     "iopub.status.busy": "2023-05-09T08:40:14.066940Z",
     "iopub.status.idle": "2023-05-09T08:40:14.073774Z",
     "shell.execute_reply": "2023-05-09T08:40:14.072931Z"
    },
    "executionInfo": {
     "elapsed": 283,
     "status": "ok",
     "timestamp": 1683534033944,
     "user": {
      "displayName": "Datt Patel",
      "userId": "03546091703206854124"
     },
     "user_tz": 420
    },
    "id": "fgLf822vt0jb",
    "papermill": {
     "duration": 0.021842,
     "end_time": "2023-05-09T08:40:14.075664",
     "exception": false,
     "start_time": "2023-05-09T08:40:14.053822",
     "status": "completed"
    },
    "tags": []
   },
   "outputs": [],
   "source": [
    "def modelCreation(base):\n",
    "    for layer in base.layers:\n",
    "        layer.trainable = False\n",
    "    model = tf.keras.layers.MaxPooling2D(pool_size=(2, 2), strides=None, padding='valid', data_format=None)(base.output)\n",
    "    model = tf.keras.layers.Flatten()(model)\n",
    "    model = tf.keras.layers.Dense(32, activation='relu')(model)\n",
    "    model = tf.keras.layers.Dropout(0.2)(model)\n",
    "    model = tf.keras.layers.BatchNormalization()(model)\n",
    "    model_prediction = tf.keras.layers.Dense(5, activation = 'softmax')(model)\n",
    "    model_final = tf.keras.Model(inputs = base.input, outputs = model_prediction)\n",
    "    model_final.compile(optimizer='adam', loss=\"sparse_categorical_crossentropy\", metrics=['accuracy'])\n",
    "    return model_final"
   ]
  },
  {
   "cell_type": "code",
   "execution_count": 16,
   "id": "d92b390d",
   "metadata": {
    "execution": {
     "iopub.execute_input": "2023-05-09T08:40:14.100951Z",
     "iopub.status.busy": "2023-05-09T08:40:14.100669Z",
     "iopub.status.idle": "2023-05-09T08:40:19.283257Z",
     "shell.execute_reply": "2023-05-09T08:40:19.282246Z"
    },
    "executionInfo": {
     "elapsed": 3790,
     "status": "ok",
     "timestamp": 1683534037732,
     "user": {
      "displayName": "Datt Patel",
      "userId": "03546091703206854124"
     },
     "user_tz": 420
    },
    "id": "rUqlAWS9mQvx",
    "papermill": {
     "duration": 5.199021,
     "end_time": "2023-05-09T08:40:19.286825",
     "exception": false,
     "start_time": "2023-05-09T08:40:14.087804",
     "status": "completed"
    },
    "tags": []
   },
   "outputs": [
    {
     "name": "stdout",
     "output_type": "stream",
     "text": [
      "Downloading data from https://storage.googleapis.com/tensorflow/keras-applications/resnet/resnet50_weights_tf_dim_ordering_tf_kernels_notop.h5\n",
      "94765736/94765736 [==============================] - 0s 0us/step\n",
      "Downloading data from https://storage.googleapis.com/keras-applications/efficientnetb0_notop.h5\n",
      "16705208/16705208 [==============================] - 0s 0us/step\n",
      "Downloading data from https://storage.googleapis.com/tensorflow/keras-applications/vgg16/vgg16_weights_tf_dim_ordering_tf_kernels_notop.h5\n",
      "58889256/58889256 [==============================] - 0s 0us/step\n"
     ]
    }
   ],
   "source": [
    "resnet = tf.keras.applications.ResNet50(weights = 'imagenet', include_top = False, input_shape = (IMG_WID, IMG_HG, 3))\n",
    "efficient = tf.keras.applications.EfficientNetB0(weights = 'imagenet', include_top = False, input_shape = (IMG_WID, IMG_HG, 3))\n",
    "vgg = tf.keras.applications.VGG16(weights = 'imagenet', include_top = False, input_shape = (IMG_WID, IMG_HG, 3))"
   ]
  },
  {
   "cell_type": "code",
   "execution_count": 17,
   "id": "b755eafe",
   "metadata": {
    "execution": {
     "iopub.execute_input": "2023-05-09T08:40:19.317673Z",
     "iopub.status.busy": "2023-05-09T08:40:19.316859Z",
     "iopub.status.idle": "2023-05-09T08:40:19.494807Z",
     "shell.execute_reply": "2023-05-09T08:40:19.493946Z"
    },
    "executionInfo": {
     "elapsed": 364,
     "status": "ok",
     "timestamp": 1683534038094,
     "user": {
      "displayName": "Datt Patel",
      "userId": "03546091703206854124"
     },
     "user_tz": 420
    },
    "id": "Tl4W7ZfNwKoz",
    "papermill": {
     "duration": 0.194617,
     "end_time": "2023-05-09T08:40:19.496965",
     "exception": false,
     "start_time": "2023-05-09T08:40:19.302348",
     "status": "completed"
    },
    "tags": []
   },
   "outputs": [],
   "source": [
    "resnet_model = modelCreation(resnet)\n",
    "efficient_model = modelCreation(efficient)\n",
    "vgg_model = modelCreation(vgg)"
   ]
  },
  {
   "cell_type": "code",
   "execution_count": 18,
   "id": "3e4cb8ee",
   "metadata": {
    "execution": {
     "iopub.execute_input": "2023-05-09T08:40:19.526678Z",
     "iopub.status.busy": "2023-05-09T08:40:19.525356Z",
     "iopub.status.idle": "2023-05-09T08:40:19.530693Z",
     "shell.execute_reply": "2023-05-09T08:40:19.529928Z"
    },
    "executionInfo": {
     "elapsed": 4,
     "status": "ok",
     "timestamp": 1683534038095,
     "user": {
      "displayName": "Datt Patel",
      "userId": "03546091703206854124"
     },
     "user_tz": 420
    },
    "id": "Ky5Q5CRMmQvy",
    "papermill": {
     "duration": 0.021938,
     "end_time": "2023-05-09T08:40:19.532524",
     "exception": false,
     "start_time": "2023-05-09T08:40:19.510586",
     "status": "completed"
    },
    "tags": []
   },
   "outputs": [],
   "source": [
    "# Early stop and restore weight from best model, min validation loss\n",
    "early_stopper = tf.keras.callbacks.EarlyStopping(monitor='val_loss', patience=PATIENCE, verbose=1, mode='min', restore_best_weights=True)"
   ]
  },
  {
   "cell_type": "code",
   "execution_count": 19,
   "id": "6555f86c",
   "metadata": {
    "execution": {
     "iopub.execute_input": "2023-05-09T08:40:19.561324Z",
     "iopub.status.busy": "2023-05-09T08:40:19.560024Z",
     "iopub.status.idle": "2023-05-09T08:41:33.788580Z",
     "shell.execute_reply": "2023-05-09T08:41:33.787645Z"
    },
    "executionInfo": {
     "elapsed": 156518,
     "status": "ok",
     "timestamp": 1683534715863,
     "user": {
      "displayName": "Datt Patel",
      "userId": "03546091703206854124"
     },
     "user_tz": 420
    },
    "id": "v-zb8LWbmQvy",
    "outputId": "cb478421-b474-4d57-d3b8-c0f4de4a135e",
    "papermill": {
     "duration": 74.244988,
     "end_time": "2023-05-09T08:41:33.790754",
     "exception": false,
     "start_time": "2023-05-09T08:40:19.545766",
     "status": "completed"
    },
    "tags": []
   },
   "outputs": [
    {
     "name": "stdout",
     "output_type": "stream",
     "text": [
      "89/89 [==============================] - 74s 706ms/step - loss: 1.7351 - accuracy: 0.2096 - val_loss: 1.2443 - val_accuracy: 0.5807\n"
     ]
    }
   ],
   "source": [
    "resnet_history = resnet_model.fit(batched_augmented_train, epochs=EPOCHS, batch_size=FIT_BATCH, callbacks=[early_stopper], verbose=1, validation_data=batched_val)"
   ]
  },
  {
   "cell_type": "code",
   "execution_count": 20,
   "id": "ccb47c1b",
   "metadata": {
    "execution": {
     "iopub.execute_input": "2023-05-09T08:41:33.829636Z",
     "iopub.status.busy": "2023-05-09T08:41:33.828068Z",
     "iopub.status.idle": "2023-05-09T08:42:34.428171Z",
     "shell.execute_reply": "2023-05-09T08:42:34.427220Z"
    },
    "executionInfo": {
     "elapsed": 675446,
     "status": "ok",
     "timestamp": 1683535391305,
     "user": {
      "displayName": "Datt Patel",
      "userId": "03546091703206854124"
     },
     "user_tz": 420
    },
    "id": "sZFMuMcjrRRw",
    "outputId": "a61e5d9a-6407-4118-e90d-54884f5a82a3",
    "papermill": {
     "duration": 60.626697,
     "end_time": "2023-05-09T08:42:34.435776",
     "exception": false,
     "start_time": "2023-05-09T08:41:33.809079",
     "status": "completed"
    },
    "tags": []
   },
   "outputs": [
    {
     "name": "stderr",
     "output_type": "stream",
     "text": [
      "2023-05-09 08:41:39.101805: E tensorflow/core/grappler/optimizers/meta_optimizer.cc:954] layout failed: INVALID_ARGUMENT: Size of values 0 does not match size of permutation 4 @ fanin shape inmodel_1/block2b_drop/dropout/SelectV2-2-TransposeNHWCToNCHW-LayoutOptimizer\n"
     ]
    },
    {
     "name": "stdout",
     "output_type": "stream",
     "text": [
      "89/89 [==============================] - 61s 603ms/step - loss: 1.7705 - accuracy: 0.2382 - val_loss: 1.0487 - val_accuracy: 0.8073\n"
     ]
    }
   ],
   "source": [
    "efficient_history = efficient_model.fit(batched_augmented_train, epochs=EPOCHS, batch_size=FIT_BATCH, callbacks=[early_stopper], verbose=1, validation_data=batched_val)"
   ]
  },
  {
   "cell_type": "code",
   "execution_count": 21,
   "id": "d6026762",
   "metadata": {
    "execution": {
     "iopub.execute_input": "2023-05-09T08:42:34.481969Z",
     "iopub.status.busy": "2023-05-09T08:42:34.481643Z",
     "iopub.status.idle": "2023-05-09T08:43:57.276849Z",
     "shell.execute_reply": "2023-05-09T08:43:57.275777Z"
    },
    "executionInfo": {
     "elapsed": 1348311,
     "status": "ok",
     "timestamp": 1683536865882,
     "user": {
      "displayName": "Datt Patel",
      "userId": "03546091703206854124"
     },
     "user_tz": 420
    },
    "id": "JoBRfPHRrfCc",
    "outputId": "0ece5e87-7daa-4c69-bf66-74632c27fccd",
    "papermill": {
     "duration": 82.820957,
     "end_time": "2023-05-09T08:43:57.279355",
     "exception": false,
     "start_time": "2023-05-09T08:42:34.458398",
     "status": "completed"
    },
    "tags": []
   },
   "outputs": [
    {
     "name": "stdout",
     "output_type": "stream",
     "text": [
      "89/89 [==============================] - 71s 667ms/step - loss: 1.8145 - accuracy: 0.2058 - val_loss: 1.2961 - val_accuracy: 0.4714\n"
     ]
    }
   ],
   "source": [
    "vgg_history = vgg_model.fit(batched_augmented_train, epochs=EPOCHS, batch_size=FIT_BATCH, callbacks=[early_stopper], verbose=1, validation_data=batched_val)"
   ]
  },
  {
   "cell_type": "markdown",
   "id": "a23fe55c",
   "metadata": {
    "id": "t0nA3B4xmQvy",
    "papermill": {
     "duration": 0.027912,
     "end_time": "2023-05-09T08:43:57.336823",
     "exception": false,
     "start_time": "2023-05-09T08:43:57.308911",
     "status": "completed"
    },
    "tags": []
   },
   "source": [
    "# Model Evaluation"
   ]
  },
  {
   "cell_type": "code",
   "execution_count": 22,
   "id": "00466da1",
   "metadata": {
    "execution": {
     "iopub.execute_input": "2023-05-09T08:43:57.395532Z",
     "iopub.status.busy": "2023-05-09T08:43:57.394695Z",
     "iopub.status.idle": "2023-05-09T08:43:57.402259Z",
     "shell.execute_reply": "2023-05-09T08:43:57.401269Z"
    },
    "executionInfo": {
     "elapsed": 187,
     "status": "ok",
     "timestamp": 1683537106821,
     "user": {
      "displayName": "Datt Patel",
      "userId": "03546091703206854124"
     },
     "user_tz": 420
    },
    "id": "EPE0Jt9Gwzy9",
    "papermill": {
     "duration": 0.038698,
     "end_time": "2023-05-09T08:43:57.403877",
     "exception": false,
     "start_time": "2023-05-09T08:43:57.365179",
     "status": "completed"
    },
    "tags": []
   },
   "outputs": [],
   "source": [
    "def plotLossVSEpoch(model_history, model):\n",
    "    plt.plot(model_history.history['loss'])\n",
    "    plt.plot(model_history.history['val_loss'])\n",
    "    plt.title('{} Loss vs Epoch'.format(model))\n",
    "    plt.ylabel('Loss')\n",
    "    plt.xlabel('Epochs')\n",
    "    plt.legend(['Train', 'Validation'], loc='best')\n",
    "    plt.show()"
   ]
  },
  {
   "cell_type": "code",
   "execution_count": 23,
   "id": "03a166bf",
   "metadata": {
    "execution": {
     "iopub.execute_input": "2023-05-09T08:43:57.458644Z",
     "iopub.status.busy": "2023-05-09T08:43:57.458344Z",
     "iopub.status.idle": "2023-05-09T08:43:57.694217Z",
     "shell.execute_reply": "2023-05-09T08:43:57.693354Z"
    },
    "executionInfo": {
     "elapsed": 514,
     "status": "ok",
     "timestamp": 1683537108708,
     "user": {
      "displayName": "Datt Patel",
      "userId": "03546091703206854124"
     },
     "user_tz": 420
    },
    "id": "DXISAsXjmQvy",
    "outputId": "cc5b494e-7aeb-4d99-c601-e1ca7c1cfc22",
    "papermill": {
     "duration": 0.265413,
     "end_time": "2023-05-09T08:43:57.696353",
     "exception": false,
     "start_time": "2023-05-09T08:43:57.430940",
     "status": "completed"
    },
    "tags": []
   },
   "outputs": [
    {
     "data": {
      "image/png": "[encoded data removed]",
      "text/plain": [
       "<Figure size 640x480 with 1 Axes>"
      ]
     },
     "metadata": {},
     "output_type": "display_data"
    }
   ],
   "source": [
    "plotLossVSEpoch(resnet_history, 'ResNet50')"
   ]
  },
  {
   "cell_type": "code",
   "execution_count": 24,
   "id": "729b6219",
   "metadata": {
    "execution": {
     "iopub.execute_input": "2023-05-09T08:43:57.752122Z",
     "iopub.status.busy": "2023-05-09T08:43:57.751798Z",
     "iopub.status.idle": "2023-05-09T08:43:57.984229Z",
     "shell.execute_reply": "2023-05-09T08:43:57.983307Z"
    },
    "executionInfo": {
     "elapsed": 500,
     "status": "ok",
     "timestamp": 1683537111291,
     "user": {
      "displayName": "Datt Patel",
      "userId": "03546091703206854124"
     },
     "user_tz": 420
    },
    "id": "xfl9G8eJscWi",
    "outputId": "ff6ff781-8eb8-454a-9e2f-eda75e5289cb",
    "papermill": {
     "duration": 0.262237,
     "end_time": "2023-05-09T08:43:57.986264",
     "exception": false,
     "start_time": "2023-05-09T08:43:57.724027",
     "status": "completed"
    },
    "tags": []
   },
   "outputs": [
    {
     "data": {
      "image/png": "[encoded data removed]",
      "text/plain": [
       "<Figure size 640x480 with 1 Axes>"
      ]
     },
     "metadata": {},
     "output_type": "display_data"
    }
   ],
   "source": [
    "plotLossVSEpoch(efficient_history, 'EfficientNetB0')"
   ]
  },
  {
   "cell_type": "code",
   "execution_count": 25,
   "id": "5efb0a1a",
   "metadata": {
    "execution": {
     "iopub.execute_input": "2023-05-09T08:43:58.043073Z",
     "iopub.status.busy": "2023-05-09T08:43:58.042767Z",
     "iopub.status.idle": "2023-05-09T08:43:58.265633Z",
     "shell.execute_reply": "2023-05-09T08:43:58.264789Z"
    },
    "executionInfo": {
     "elapsed": 941,
     "status": "ok",
     "timestamp": 1683537114830,
     "user": {
      "displayName": "Datt Patel",
      "userId": "03546091703206854124"
     },
     "user_tz": 420
    },
    "id": "6-0rlZPrmQvy",
    "outputId": "6011ff1c-b8eb-40f9-eae6-62d6679c981b",
    "papermill": {
     "duration": 0.253392,
     "end_time": "2023-05-09T08:43:58.267698",
     "exception": false,
     "start_time": "2023-05-09T08:43:58.014306",
     "status": "completed"
    },
    "tags": []
   },
   "outputs": [
    {
     "data": {
      "image/png": "[encoded data removed]",
      "text/plain": [
       "<Figure size 640x480 with 1 Axes>"
      ]
     },
     "metadata": {},
     "output_type": "display_data"
    }
   ],
   "source": [
    "plotLossVSEpoch(vgg_history, 'VGG16')"
   ]
  },
  {
   "cell_type": "markdown",
   "id": "80013880",
   "metadata": {
    "id": "4JDHsHIHrwRf",
    "papermill": {
     "duration": 0.02735,
     "end_time": "2023-05-09T08:43:58.323327",
     "exception": false,
     "start_time": "2023-05-09T08:43:58.295977",
     "status": "completed"
    },
    "tags": []
   },
   "source": [
    "# Predictions"
   ]
  },
  {
   "cell_type": "markdown",
   "id": "b9fe5b0f",
   "metadata": {
    "papermill": {
     "duration": 0.026997,
     "end_time": "2023-05-09T08:43:58.377797",
     "exception": false,
     "start_time": "2023-05-09T08:43:58.350800",
     "status": "completed"
    },
    "tags": []
   },
   "source": [
    "#### Train"
   ]
  },
  {
   "cell_type": "code",
   "execution_count": 26,
   "id": "4931ad51",
   "metadata": {
    "execution": {
     "iopub.execute_input": "2023-05-09T08:43:58.434004Z",
     "iopub.status.busy": "2023-05-09T08:43:58.433641Z",
     "iopub.status.idle": "2023-05-09T08:47:37.715391Z",
     "shell.execute_reply": "2023-05-09T08:47:37.714355Z"
    },
    "executionInfo": {
     "elapsed": 170945,
     "status": "ok",
     "timestamp": 1683540869550,
     "user": {
      "displayName": "Datt Patel",
      "userId": "03546091703206854124"
     },
     "user_tz": 420
    },
    "id": "xnAQpac0173X",
    "outputId": "527cca8e-e045-4c92-e33c-2debfe6a2eb1",
    "papermill": {
     "duration": 219.312473,
     "end_time": "2023-05-09T08:47:37.717638",
     "exception": false,
     "start_time": "2023-05-09T08:43:58.405165",
     "status": "completed"
    },
    "tags": []
   },
   "outputs": [
    {
     "name": "stdout",
     "output_type": "stream",
     "text": [
      "89/89 [==============================] - 54s 588ms/step\n",
      "89/89 [==============================] - 50s 538ms/step\n",
      "89/89 [==============================] - 56s 618ms/step\n"
     ]
    }
   ],
   "source": [
    "train_resnet_probabilities = resnet_model.predict(batched_augmented_train)\n",
    "train_efficient_probabilities = efficient_model.predict(batched_augmented_train)\n",
    "train_vgg_probabilities = vgg_model.predict(batched_augmented_train)\n",
    "\n",
    "# Pick class with highest probabilty\n",
    "train_resnet_prediction = np.argmax(train_resnet_probabilities, axis=1)\n",
    "train_efficient_prediction = np.argmax(train_efficient_probabilities, axis=1)\n",
    "train_vgg_prediction = np.argmax(train_vgg_probabilities, axis=1)"
   ]
  },
  {
   "cell_type": "markdown",
   "id": "63e98f60",
   "metadata": {
    "papermill": {
     "duration": 0.040497,
     "end_time": "2023-05-09T08:47:37.802328",
     "exception": false,
     "start_time": "2023-05-09T08:47:37.761831",
     "status": "completed"
    },
    "tags": []
   },
   "source": [
    "#### Test"
   ]
  },
  {
   "cell_type": "code",
   "execution_count": 27,
   "id": "c5be705d",
   "metadata": {
    "execution": {
     "iopub.execute_input": "2023-05-09T08:47:37.887034Z",
     "iopub.status.busy": "2023-05-09T08:47:37.885638Z",
     "iopub.status.idle": "2023-05-09T08:47:53.645111Z",
     "shell.execute_reply": "2023-05-09T08:47:53.644056Z"
    },
    "executionInfo": {
     "elapsed": 13216,
     "status": "ok",
     "timestamp": 1683538044758,
     "user": {
      "displayName": "Datt Patel",
      "userId": "03546091703206854124"
     },
     "user_tz": 420
    },
    "id": "4QnNu7X7rxhZ",
    "outputId": "74495046-0428-4f59-dc82-87fbbca885f4",
    "papermill": {
     "duration": 15.80466,
     "end_time": "2023-05-09T08:47:53.647642",
     "exception": false,
     "start_time": "2023-05-09T08:47:37.842982",
     "status": "completed"
    },
    "tags": []
   },
   "outputs": [
    {
     "name": "stdout",
     "output_type": "stream",
     "text": [
      "3/3 [==============================] - 5s 2s/step\n",
      "3/3 [==============================] - 5s 1s/step\n",
      "3/3 [==============================] - 5s 2s/step\n"
     ]
    }
   ],
   "source": [
    "test_resnet_probabilities = resnet_model.predict(batched_test)\n",
    "test_efficient_probabilities = efficient_model.predict(batched_test)\n",
    "test_vgg_probabilities = vgg_model.predict(batched_test)\n",
    "\n",
    "# Pick class with highest probabilty\n",
    "test_resnet_prediction = np.argmax(test_resnet_probabilities, axis=1)\n",
    "test_efficient_prediction = np.argmax(test_efficient_probabilities, axis=1)\n",
    "test_vgg_prediction = np.argmax(test_vgg_probabilities, axis=1)"
   ]
  },
  {
   "cell_type": "markdown",
   "id": "da798608",
   "metadata": {
    "id": "OCgJlCAnxj0-",
    "papermill": {
     "duration": 0.040946,
     "end_time": "2023-05-09T08:47:53.734402",
     "exception": false,
     "start_time": "2023-05-09T08:47:53.693456",
     "status": "completed"
    },
    "tags": []
   },
   "source": [
    "### Analysis of Image Models"
   ]
  },
  {
   "cell_type": "markdown",
   "id": "a03973b9",
   "metadata": {
    "papermill": {
     "duration": 0.040585,
     "end_time": "2023-05-09T08:47:53.816836",
     "exception": false,
     "start_time": "2023-05-09T08:47:53.776251",
     "status": "completed"
    },
    "tags": []
   },
   "source": [
    "All methods below from: \n",
    "https://www.kaggle.com/code/nkitgupta/evaluation-metrics-for-multi-class-classification"
   ]
  },
  {
   "cell_type": "code",
   "execution_count": 28,
   "id": "c102f58a",
   "metadata": {
    "execution": {
     "iopub.execute_input": "2023-05-09T08:47:53.903883Z",
     "iopub.status.busy": "2023-05-09T08:47:53.903561Z",
     "iopub.status.idle": "2023-05-09T08:47:53.908646Z",
     "shell.execute_reply": "2023-05-09T08:47:53.907697Z"
    },
    "executionInfo": {
     "elapsed": 120,
     "status": "ok",
     "timestamp": 1683540542278,
     "user": {
      "displayName": "Datt Patel",
      "userId": "03546091703206854124"
     },
     "user_tz": 420
    },
    "id": "e_s-Ccv4zoKX",
    "papermill": {
     "duration": 0.049384,
     "end_time": "2023-05-09T08:47:53.910524",
     "exception": false,
     "start_time": "2023-05-09T08:47:53.861140",
     "status": "completed"
    },
    "tags": []
   },
   "outputs": [],
   "source": [
    "def findaccuracy(y_true, y_pred):\n",
    "    # Intitializing variable to store count of correctly predicted classes\n",
    "    correct_predictions = 0    \n",
    "    for yt, yp in zip(y_true, y_pred):\n",
    "        if yt == yp:            \n",
    "            correct_predictions += 1\n",
    "    return correct_predictions / len(y_true)"
   ]
  },
  {
   "cell_type": "code",
   "execution_count": 29,
   "id": "d09abfc2",
   "metadata": {
    "execution": {
     "iopub.execute_input": "2023-05-09T08:47:53.994603Z",
     "iopub.status.busy": "2023-05-09T08:47:53.994285Z",
     "iopub.status.idle": "2023-05-09T08:47:54.005201Z",
     "shell.execute_reply": "2023-05-09T08:47:54.004394Z"
    },
    "executionInfo": {
     "elapsed": 529,
     "status": "ok",
     "timestamp": 1683541494537,
     "user": {
      "displayName": "Datt Patel",
      "userId": "03546091703206854124"
     },
     "user_tz": 420
    },
    "id": "972PltMtzoIF",
    "papermill": {
     "duration": 0.055381,
     "end_time": "2023-05-09T08:47:54.007148",
     "exception": false,
     "start_time": "2023-05-09T08:47:53.951767",
     "status": "completed"
    },
    "tags": []
   },
   "outputs": [],
   "source": [
    "# Functions to compute True Positives, True Negatives, False Positives and False Negatives\n",
    "def true_positive(y_true, y_pred):\n",
    "    tp = 0\n",
    "    for yt, yp in zip(y_true, y_pred):        \n",
    "        if yt == 1 and yp == 1:\n",
    "            tp += 1\n",
    "    return tp\n",
    "\n",
    "def true_negative(y_true, y_pred):    \n",
    "    tn = 0\n",
    "    for yt, yp in zip(y_true, y_pred):        \n",
    "        if yt == 0 and yp == 0:\n",
    "            tn += 1\n",
    "    return tn\n",
    "\n",
    "def false_positive(y_true, y_pred):    \n",
    "    fp = 0\n",
    "    for yt, yp in zip(y_true, y_pred):\n",
    "        if yt == 0 and yp == 1:\n",
    "            fp += 1            \n",
    "    return fp\n",
    "\n",
    "def false_negative(y_true, y_pred):\n",
    "    fn = 0    \n",
    "    for yt, yp in zip(y_true, y_pred):\n",
    "        if yt == 1 and yp == 0:\n",
    "            fn += 1            \n",
    "    return fn\n",
    "#Computation of macro-averaged precision\n",
    "\n",
    "def macro_precision(y_true, y_pred):\n",
    "    # find the number of classes\n",
    "    num_classes = len(np.unique(y_true))\n",
    "    # initialize precision to 0\n",
    "    precision = 0\n",
    "    # loop over all classes\n",
    "    for class_ in np.unique(y_true):\n",
    "        # all classes except current are considered negative\n",
    "        temp_true = [1 if p == class_ else 0 for p in y_true]\n",
    "        temp_pred = [1 if p == class_ else 0 for p in y_pred]\n",
    "        # compute true positive for current class\n",
    "        tp = true_positive(temp_true, temp_pred)\n",
    "        # compute false positive for current class\n",
    "        fp = false_positive(temp_true, temp_pred)\n",
    "        # compute precision for current class\n",
    "        temp_precision = tp / (tp + fp + 1e-6)\n",
    "        # keep adding precision for all classes\n",
    "        precision += temp_precision\n",
    "    # calculate and return average precision over all classes\n",
    "    precision /= num_classes\n",
    "    return precision"
   ]
  },
  {
   "cell_type": "code",
   "execution_count": 30,
   "id": "82ef5b16",
   "metadata": {
    "execution": {
     "iopub.execute_input": "2023-05-09T08:47:54.090705Z",
     "iopub.status.busy": "2023-05-09T08:47:54.090420Z",
     "iopub.status.idle": "2023-05-09T08:47:54.096286Z",
     "shell.execute_reply": "2023-05-09T08:47:54.095307Z"
    },
    "executionInfo": {
     "elapsed": 1,
     "status": "ok",
     "timestamp": 1683541495127,
     "user": {
      "displayName": "Datt Patel",
      "userId": "03546091703206854124"
     },
     "user_tz": 420
    },
    "id": "t06mVemxzoFW",
    "papermill": {
     "duration": 0.050347,
     "end_time": "2023-05-09T08:47:54.098326",
     "exception": false,
     "start_time": "2023-05-09T08:47:54.047979",
     "status": "completed"
    },
    "tags": []
   },
   "outputs": [],
   "source": [
    "def macro_recall(y_true, y_pred):\n",
    "    # find the number of classes\n",
    "    num_classes = len(np.unique(y_true))\n",
    "    # initialize recall to 0\n",
    "    recall = 0\n",
    "    # loop over all classes\n",
    "    for class_ in np.unique(y_true):\n",
    "        # all classes except current are considered negative\n",
    "        temp_true = [1 if p == class_ else 0 for p in y_true]\n",
    "        temp_pred = [1 if p == class_ else 0 for p in y_pred]\n",
    "        # compute true positive for current class\n",
    "        tp = true_positive(temp_true, temp_pred)\n",
    "        # compute false negative for current class\n",
    "        fn = false_negative(temp_true, temp_pred)\n",
    "        # compute recall for current class\n",
    "        temp_recall = tp / (tp + fn + 1e-6)\n",
    "        # keep adding recall for all classes\n",
    "        recall += temp_recall\n",
    "    # calculate and return average recall over all classes\n",
    "    recall /= num_classes\n",
    "    return recall"
   ]
  },
  {
   "cell_type": "code",
   "execution_count": 31,
   "id": "89e4c173",
   "metadata": {
    "execution": {
     "iopub.execute_input": "2023-05-09T08:47:54.181336Z",
     "iopub.status.busy": "2023-05-09T08:47:54.181076Z",
     "iopub.status.idle": "2023-05-09T08:47:54.188110Z",
     "shell.execute_reply": "2023-05-09T08:47:54.187271Z"
    },
    "executionInfo": {
     "elapsed": 220,
     "status": "ok",
     "timestamp": 1683541496974,
     "user": {
      "displayName": "Datt Patel",
      "userId": "03546091703206854124"
     },
     "user_tz": 420
    },
    "id": "VUMhIDtZzoAw",
    "papermill": {
     "duration": 0.050802,
     "end_time": "2023-05-09T08:47:54.190052",
     "exception": false,
     "start_time": "2023-05-09T08:47:54.139250",
     "status": "completed"
    },
    "tags": []
   },
   "outputs": [],
   "source": [
    "def macro_f1(y_true, y_pred):\n",
    "    # find the number of classes\n",
    "    num_classes = len(np.unique(y_true))\n",
    "    # initialize f1 to 0\n",
    "    f1 = 0\n",
    "    # loop over all classes\n",
    "    for class_ in np.unique(y_true):\n",
    "        # all classes except current are considered negative\n",
    "        temp_true = [1 if p == class_ else 0 for p in y_true]\n",
    "        temp_pred = [1 if p == class_ else 0 for p in y_pred]\n",
    "        # compute true positive for current class\n",
    "        tp = true_positive(temp_true, temp_pred)\n",
    "        # compute false negative for current class\n",
    "        fn = false_negative(temp_true, temp_pred)\n",
    "        # compute false positive for current class\n",
    "        fp = false_positive(temp_true, temp_pred)\n",
    "        # compute recall for current class\n",
    "        temp_recall = tp / (tp + fn + 1e-6)\n",
    "        # compute precision for current class\n",
    "        temp_precision = tp / (tp + fp + 1e-6)\n",
    "        temp_f1 = 2 * temp_precision * temp_recall / (temp_precision + temp_recall + 1e-6)\n",
    "        # keep adding f1 score for all classes\n",
    "        f1 += temp_f1\n",
    "    # calculate and return average f1 score over all classes\n",
    "    f1 /= num_classes\n",
    "    return f1"
   ]
  },
  {
   "cell_type": "code",
   "execution_count": 32,
   "id": "9d4a7c28",
   "metadata": {
    "execution": {
     "iopub.execute_input": "2023-05-09T08:47:54.272552Z",
     "iopub.status.busy": "2023-05-09T08:47:54.272298Z",
     "iopub.status.idle": "2023-05-09T08:47:54.277594Z",
     "shell.execute_reply": "2023-05-09T08:47:54.276664Z"
    },
    "executionInfo": {
     "elapsed": 136,
     "status": "ok",
     "timestamp": 1683541515041,
     "user": {
      "displayName": "Datt Patel",
      "userId": "03546091703206854124"
     },
     "user_tz": 420
    },
    "id": "wLSDG3olxmro",
    "papermill": {
     "duration": 0.049082,
     "end_time": "2023-05-09T08:47:54.279648",
     "exception": false,
     "start_time": "2023-05-09T08:47:54.230566",
     "status": "completed"
    },
    "tags": []
   },
   "outputs": [],
   "source": [
    "\n",
    "def printResults(model_name, y_true, y_prediction):\n",
    "    print(\"Results for model {}\".format(model_name))\n",
    "    # Calculate the confusion matrix\n",
    "    cm = confusion_matrix( y_true, y_prediction)\n",
    "    print(\"Confusion Matrix:\\n\", cm)\n",
    "\n",
    "    precision = macro_precision( y_true, y_prediction)\n",
    "    recall = macro_recall( y_true, y_prediction)\n",
    "    accuracy = findaccuracy( y_true, y_prediction)\n",
    "    f1 = macro_f1( y_true, y_prediction)\n",
    "\n",
    "    print(\"Precision:\", precision)\n",
    "    print(\"Recall:\", recall)\n",
    "    print(\"Accuracy:\", accuracy)\n",
    "    print(\"F1 Score:\", f1)"
   ]
  },
  {
   "cell_type": "code",
   "execution_count": 33,
   "id": "a94ecb0b",
   "metadata": {
    "execution": {
     "iopub.execute_input": "2023-05-09T08:47:54.363677Z",
     "iopub.status.busy": "2023-05-09T08:47:54.362769Z",
     "iopub.status.idle": "2023-05-09T08:48:39.998563Z",
     "shell.execute_reply": "2023-05-09T08:48:39.997568Z"
    },
    "executionInfo": {
     "elapsed": 477,
     "status": "ok",
     "timestamp": 1683539092184,
     "user": {
      "displayName": "Datt Patel",
      "userId": "03546091703206854124"
     },
     "user_tz": 420
    },
    "id": "J4u0561EsEFR",
    "papermill": {
     "duration": 45.680705,
     "end_time": "2023-05-09T08:48:40.001220",
     "exception": false,
     "start_time": "2023-05-09T08:47:54.320515",
     "status": "completed"
    },
    "tags": []
   },
   "outputs": [],
   "source": [
    "testing_labels = []\n",
    "for img, label in (batched_test.take(len(batched_test))):\n",
    "    testing_labels += list(label.numpy())\n",
    "testing_labels = np.array(testing_labels)\n",
    "\n",
    "training_labels = []\n",
    "for img, label in (batched_augmented_train.take(len(batched_augmented_train))):\n",
    "    training_labels += list(label.numpy())\n",
    "training_labels = np.array(training_labels)"
   ]
  },
  {
   "cell_type": "markdown",
   "id": "51bbbcd4",
   "metadata": {
    "id": "peH3XpD42hRn",
    "papermill": {
     "duration": 0.041003,
     "end_time": "2023-05-09T08:48:40.085321",
     "exception": false,
     "start_time": "2023-05-09T08:48:40.044318",
     "status": "completed"
    },
    "tags": []
   },
   "source": [
    "#### Train "
   ]
  },
  {
   "cell_type": "code",
   "execution_count": 34,
   "id": "f13f9961",
   "metadata": {
    "execution": {
     "iopub.execute_input": "2023-05-09T08:48:40.169582Z",
     "iopub.status.busy": "2023-05-09T08:48:40.169223Z",
     "iopub.status.idle": "2023-05-09T08:48:40.258927Z",
     "shell.execute_reply": "2023-05-09T08:48:40.257938Z"
    },
    "executionInfo": {
     "elapsed": 877,
     "status": "ok",
     "timestamp": 1683541518785,
     "user": {
      "displayName": "Datt Patel",
      "userId": "03546091703206854124"
     },
     "user_tz": 420
    },
    "id": "56lX7zeC2g91",
    "outputId": "2a2b9a5a-aa3d-4242-8a20-67b39f370ce7",
    "papermill": {
     "duration": 0.134966,
     "end_time": "2023-05-09T08:48:40.261242",
     "exception": false,
     "start_time": "2023-05-09T08:48:40.126276",
     "status": "completed"
    },
    "tags": []
   },
   "outputs": [
    {
     "name": "stdout",
     "output_type": "stream",
     "text": [
      "Results for model ResNet50\n",
      "Confusion Matrix:\n",
      " [[1262  877  252   56  123]\n",
      " [  94 1492   20   10  109]\n",
      " [ 196  221 1297   77  429]\n",
      " [ 486 1204  210  500  105]\n",
      " [ 144  632  164   30 1402]]\n",
      "Precision: 0.5945225783871343\n",
      "Recall: 0.5461751091692199\n",
      "Accuracy: 0.522559691011236\n",
      "F1 Score: 0.5143319420214824\n"
     ]
    }
   ],
   "source": [
    "printResults('ResNet50', training_labels, train_resnet_prediction)"
   ]
  },
  {
   "cell_type": "code",
   "execution_count": 35,
   "id": "e3b0ecc6",
   "metadata": {
    "execution": {
     "iopub.execute_input": "2023-05-09T08:48:40.345518Z",
     "iopub.status.busy": "2023-05-09T08:48:40.344985Z",
     "iopub.status.idle": "2023-05-09T08:48:40.431886Z",
     "shell.execute_reply": "2023-05-09T08:48:40.430584Z"
    },
    "executionInfo": {
     "elapsed": 743,
     "status": "ok",
     "timestamp": 1683541521044,
     "user": {
      "displayName": "Datt Patel",
      "userId": "03546091703206854124"
     },
     "user_tz": 420
    },
    "id": "c8wdoODV2g4C",
    "outputId": "67059a26-4128-435e-f852-c0f45eba9895",
    "papermill": {
     "duration": 0.131317,
     "end_time": "2023-05-09T08:48:40.433720",
     "exception": false,
     "start_time": "2023-05-09T08:48:40.302403",
     "status": "completed"
    },
    "tags": []
   },
   "outputs": [
    {
     "name": "stdout",
     "output_type": "stream",
     "text": [
      "Results for model EfficientNetB0\n",
      "Confusion Matrix:\n",
      " [[1654  343  157  272  144]\n",
      " [  11 1656   16   29   13]\n",
      " [  73   99 1833  178   37]\n",
      " [ 184  544  188 1560   29]\n",
      " [  38 1125  206  340  663]]\n",
      "Precision: 0.6902558732220108\n",
      "Recall: 0.666304178579892\n",
      "Accuracy: 0.6465941011235955\n",
      "F1 Score: 0.6345249586236129\n"
     ]
    }
   ],
   "source": [
    "printResults('EfficientNetB0', training_labels, train_efficient_prediction)"
   ]
  },
  {
   "cell_type": "code",
   "execution_count": 36,
   "id": "777ee74b",
   "metadata": {
    "execution": {
     "iopub.execute_input": "2023-05-09T08:48:40.517925Z",
     "iopub.status.busy": "2023-05-09T08:48:40.517601Z",
     "iopub.status.idle": "2023-05-09T08:48:40.604767Z",
     "shell.execute_reply": "2023-05-09T08:48:40.603841Z"
    },
    "executionInfo": {
     "elapsed": 286,
     "status": "ok",
     "timestamp": 1683541522262,
     "user": {
      "displayName": "Datt Patel",
      "userId": "03546091703206854124"
     },
     "user_tz": 420
    },
    "id": "VSBo7Jvg2gsk",
    "outputId": "6a9eda59-eabf-48b6-c534-5f7bb188f3a1",
    "papermill": {
     "duration": 0.131197,
     "end_time": "2023-05-09T08:48:40.606619",
     "exception": false,
     "start_time": "2023-05-09T08:48:40.475422",
     "status": "completed"
    },
    "tags": []
   },
   "outputs": [
    {
     "name": "stdout",
     "output_type": "stream",
     "text": [
      "Results for model VGG16\n",
      "Confusion Matrix:\n",
      " [[ 514 1098  107  758   93]\n",
      " [   3 1629    4   72   17]\n",
      " [ 125  573  934  275  313]\n",
      " [  85 1208   49 1059  104]\n",
      " [  32 1430   64  108  738]]\n",
      "Precision: 0.5615226091635119\n",
      "Recall: 0.4597905769880538\n",
      "Accuracy: 0.4278441011235955\n",
      "F1 Score: 0.42723052271358686\n"
     ]
    }
   ],
   "source": [
    "printResults('VGG16', training_labels, train_vgg_prediction)"
   ]
  },
  {
   "cell_type": "markdown",
   "id": "20a79cd8",
   "metadata": {
    "id": "nhSELG_w2ike",
    "papermill": {
     "duration": 0.040954,
     "end_time": "2023-05-09T08:48:40.688511",
     "exception": false,
     "start_time": "2023-05-09T08:48:40.647557",
     "status": "completed"
    },
    "tags": []
   },
   "source": [
    "#### Test"
   ]
  },
  {
   "cell_type": "code",
   "execution_count": 37,
   "id": "89c459cb",
   "metadata": {
    "execution": {
     "iopub.execute_input": "2023-05-09T08:48:40.772568Z",
     "iopub.status.busy": "2023-05-09T08:48:40.772025Z",
     "iopub.status.idle": "2023-05-09T08:48:40.782521Z",
     "shell.execute_reply": "2023-05-09T08:48:40.781073Z"
    },
    "executionInfo": {
     "elapsed": 131,
     "status": "ok",
     "timestamp": 1683541523928,
     "user": {
      "displayName": "Datt Patel",
      "userId": "03546091703206854124"
     },
     "user_tz": 420
    },
    "id": "mOSTLcixwC9E",
    "outputId": "99e7335c-66ee-4fca-92c2-13cde9ed61cb",
    "papermill": {
     "duration": 0.05447,
     "end_time": "2023-05-09T08:48:40.784444",
     "exception": false,
     "start_time": "2023-05-09T08:48:40.729974",
     "status": "completed"
    },
    "tags": []
   },
   "outputs": [
    {
     "name": "stdout",
     "output_type": "stream",
     "text": [
      "Results for model ResNet50\n",
      "Confusion Matrix:\n",
      " [[68 27  8  3  3]\n",
      " [ 6 63  1  0  3]\n",
      " [16  6 56  4 12]\n",
      " [24 49  6 24  3]\n",
      " [ 0  1  0  0  1]]\n",
      "Precision: 0.5272757038512342\n",
      "Recall: 0.5618052817621785\n",
      "Accuracy: 0.5520833333333334\n",
      "F1 Score: 0.45953842876274004\n"
     ]
    }
   ],
   "source": [
    "printResults('ResNet50', testing_labels, test_resnet_prediction)"
   ]
  },
  {
   "cell_type": "code",
   "execution_count": 38,
   "id": "3afad95c",
   "metadata": {
    "execution": {
     "iopub.execute_input": "2023-05-09T08:48:40.870862Z",
     "iopub.status.busy": "2023-05-09T08:48:40.870527Z",
     "iopub.status.idle": "2023-05-09T08:48:40.881230Z",
     "shell.execute_reply": "2023-05-09T08:48:40.879961Z"
    },
    "executionInfo": {
     "elapsed": 175,
     "status": "ok",
     "timestamp": 1683541525422,
     "user": {
      "displayName": "Datt Patel",
      "userId": "03546091703206854124"
     },
     "user_tz": 420
    },
    "id": "YXLmS4Rm1xFU",
    "outputId": "0fdc421d-dee0-4ac8-b2ca-e26d9abb4d1f",
    "papermill": {
     "duration": 0.055824,
     "end_time": "2023-05-09T08:48:40.883160",
     "exception": false,
     "start_time": "2023-05-09T08:48:40.827336",
     "status": "completed"
    },
    "tags": []
   },
   "outputs": [
    {
     "name": "stdout",
     "output_type": "stream",
     "text": [
      "Results for model EfficientNetB0\n",
      "Confusion Matrix:\n",
      " [[74 13  8  9  5]\n",
      " [ 0 71  0  1  1]\n",
      " [ 4  2 79  6  3]\n",
      " [11 18  3 73  1]\n",
      " [ 0  2  0  0  0]]\n",
      "Precision: 0.6398548914321196\n",
      "Recall: 0.636121312900664\n",
      "Accuracy: 0.7734375\n",
      "F1 Score: 0.6296364860916848\n"
     ]
    }
   ],
   "source": [
    "printResults('EfficientNetB0', testing_labels, test_efficient_prediction)"
   ]
  },
  {
   "cell_type": "code",
   "execution_count": 39,
   "id": "ced07377",
   "metadata": {
    "execution": {
     "iopub.execute_input": "2023-05-09T08:48:40.970665Z",
     "iopub.status.busy": "2023-05-09T08:48:40.969031Z",
     "iopub.status.idle": "2023-05-09T08:48:40.979704Z",
     "shell.execute_reply": "2023-05-09T08:48:40.978184Z"
    },
    "executionInfo": {
     "elapsed": 784,
     "status": "ok",
     "timestamp": 1683541527385,
     "user": {
      "displayName": "Datt Patel",
      "userId": "03546091703206854124"
     },
     "user_tz": 420
    },
    "id": "T884KQOU1xa9",
    "outputId": "24c31107-930c-4d53-e82e-d7b545501c86",
    "papermill": {
     "duration": 0.056278,
     "end_time": "2023-05-09T08:48:40.981734",
     "exception": false,
     "start_time": "2023-05-09T08:48:40.925456",
     "status": "completed"
    },
    "tags": []
   },
   "outputs": [
    {
     "name": "stdout",
     "output_type": "stream",
     "text": [
      "Results for model VGG16\n",
      "Confusion Matrix:\n",
      " [[24 36  4 43  2]\n",
      " [ 1 71  0  1  0]\n",
      " [ 7 21 37 16 13]\n",
      " [ 3 37  0 64  2]\n",
      " [ 0  1  0  0  1]]\n",
      "Precision: 0.5175097379727557\n",
      "Recall: 0.5380353113840383\n",
      "Accuracy: 0.5130208333333334\n",
      "F1 Score: 0.4264287110683537\n"
     ]
    }
   ],
   "source": [
    "printResults('VGG16', testing_labels, test_vgg_prediction)"
   ]
  },
  {
   "cell_type": "markdown",
   "id": "7b76a06b",
   "metadata": {
    "id": "5Xl56Kqs3FDG",
    "papermill": {
     "duration": 0.04169,
     "end_time": "2023-05-09T08:48:41.067796",
     "exception": false,
     "start_time": "2023-05-09T08:48:41.026106",
     "status": "completed"
    },
    "tags": []
   },
   "source": [
    "### Video Analysis"
   ]
  },
  {
   "cell_type": "markdown",
   "id": "e561491b",
   "metadata": {
    "papermill": {
     "duration": 0.041661,
     "end_time": "2023-05-09T08:48:41.151269",
     "exception": false,
     "start_time": "2023-05-09T08:48:41.109608",
     "status": "completed"
    },
    "tags": []
   },
   "source": [
    "##### Retrain"
   ]
  },
  {
   "cell_type": "code",
   "execution_count": 40,
   "id": "4930bc51",
   "metadata": {
    "execution": {
     "iopub.execute_input": "2023-05-09T08:48:41.236155Z",
     "iopub.status.busy": "2023-05-09T08:48:41.235313Z",
     "iopub.status.idle": "2023-05-09T08:48:51.486485Z",
     "shell.execute_reply": "2023-05-09T08:48:51.485519Z"
    },
    "papermill": {
     "duration": 10.295366,
     "end_time": "2023-05-09T08:48:51.488537",
     "exception": false,
     "start_time": "2023-05-09T08:48:41.193171",
     "status": "completed"
    },
    "tags": []
   },
   "outputs": [
    {
     "name": "stdout",
     "output_type": "stream",
     "text": [
      "3/3 [==============================] - 10s 4s/step - loss: 1.5115 - accuracy: 0.3359 - val_loss: 1.2163 - val_accuracy: 0.5573\n"
     ]
    }
   ],
   "source": [
    "vide_resnet_history = resnet_model.fit(batched_val, epochs=EPOCHS, batch_size=FIT_BATCH, callbacks=[early_stopper], verbose=1, validation_data=batched_test)"
   ]
  },
  {
   "cell_type": "code",
   "execution_count": 41,
   "id": "8804f5eb",
   "metadata": {
    "execution": {
     "iopub.execute_input": "2023-05-09T08:48:51.575079Z",
     "iopub.status.busy": "2023-05-09T08:48:51.574601Z",
     "iopub.status.idle": "2023-05-09T08:49:02.223710Z",
     "shell.execute_reply": "2023-05-09T08:49:02.222795Z"
    },
    "papermill": {
     "duration": 10.694168,
     "end_time": "2023-05-09T08:49:02.225847",
     "exception": false,
     "start_time": "2023-05-09T08:48:51.531679",
     "status": "completed"
    },
    "tags": []
   },
   "outputs": [
    {
     "name": "stdout",
     "output_type": "stream",
     "text": [
      "3/3 [==============================] - 11s 4s/step - loss: 1.4432 - accuracy: 0.4635 - val_loss: 1.0302 - val_accuracy: 0.7708\n"
     ]
    }
   ],
   "source": [
    "vide_efficient_history = efficient_model.fit(batched_val, epochs=EPOCHS, batch_size=FIT_BATCH, callbacks=[early_stopper], verbose=1, validation_data=batched_test)"
   ]
  },
  {
   "cell_type": "code",
   "execution_count": 42,
   "id": "57dddceb",
   "metadata": {
    "execution": {
     "iopub.execute_input": "2023-05-09T08:49:02.360006Z",
     "iopub.status.busy": "2023-05-09T08:49:02.358786Z",
     "iopub.status.idle": "2023-05-09T08:49:22.846351Z",
     "shell.execute_reply": "2023-05-09T08:49:22.845056Z"
    },
    "papermill": {
     "duration": 20.535495,
     "end_time": "2023-05-09T08:49:22.849863",
     "exception": false,
     "start_time": "2023-05-09T08:49:02.314368",
     "status": "completed"
    },
    "tags": []
   },
   "outputs": [
    {
     "name": "stdout",
     "output_type": "stream",
     "text": [
      "3/3 [==============================] - 10s 4s/step - loss: 1.4696 - accuracy: 0.3932 - val_loss: 1.3475 - val_accuracy: 0.4896\n"
     ]
    }
   ],
   "source": [
    "vide_vgg_history = vgg_model.fit(batched_val, epochs=EPOCHS, batch_size=FIT_BATCH, callbacks=[early_stopper], verbose=1, validation_data=batched_test)"
   ]
  },
  {
   "cell_type": "markdown",
   "id": "45fe23d2",
   "metadata": {
    "papermill": {
     "duration": 0.072194,
     "end_time": "2023-05-09T08:49:23.024535",
     "exception": false,
     "start_time": "2023-05-09T08:49:22.952341",
     "status": "completed"
    },
    "tags": []
   },
   "source": [
    "#### Analysis"
   ]
  },
  {
   "cell_type": "code",
   "execution_count": 43,
   "id": "c643ef99",
   "metadata": {
    "execution": {
     "iopub.execute_input": "2023-05-09T08:49:23.111354Z",
     "iopub.status.busy": "2023-05-09T08:49:23.111011Z",
     "iopub.status.idle": "2023-05-09T08:49:23.115594Z",
     "shell.execute_reply": "2023-05-09T08:49:23.114707Z"
    },
    "papermill": {
     "duration": 0.050299,
     "end_time": "2023-05-09T08:49:23.117595",
     "exception": false,
     "start_time": "2023-05-09T08:49:23.067296",
     "status": "completed"
    },
    "tags": []
   },
   "outputs": [],
   "source": [
    "frames_split = 100\n",
    "\n",
    "def preprocess_frame(img):\n",
    "    img = cv2.resize(img, (IMG_WID, IMG_HG))\n",
    "    img = np.expand_dims(img, axis=0)\n",
    "    return img"
   ]
  },
  {
   "cell_type": "code",
   "execution_count": 44,
   "id": "0128b48b",
   "metadata": {
    "execution": {
     "iopub.execute_input": "2023-05-09T08:49:23.204455Z",
     "iopub.status.busy": "2023-05-09T08:49:23.204163Z",
     "iopub.status.idle": "2023-05-09T08:49:23.209658Z",
     "shell.execute_reply": "2023-05-09T08:49:23.208799Z"
    },
    "id": "z_rE7Pi53HqO",
    "papermill": {
     "duration": 0.050881,
     "end_time": "2023-05-09T08:49:23.211534",
     "exception": false,
     "start_time": "2023-05-09T08:49:23.160653",
     "status": "completed"
    },
    "tags": []
   },
   "outputs": [],
   "source": [
    "def getFilesLabels():\n",
    "    directory_video_Files = pathlib.Path('/kaggle/input/project-images/Data/Sport Videos')\n",
    "    video_file_paths = []\n",
    "    video_file_labels = []\n",
    "    folder_to_class = {'BaseballPitch':0,'Basketball':1,'Fencing':2,'TennisSwing':3,'VolleyballSpiking':4}\n",
    "    for video_path in directory_video_Files.glob('**/*.avi'):\n",
    "        file_folder_name = os.path.basename(os.path.dirname(video_path)).split('/')[-1]\n",
    "        video_file_labels.append(folder_to_class[file_folder_name])\n",
    "        video_file_paths.append(str(video_path))\n",
    "    return video_file_paths, video_file_labels"
   ]
  },
  {
   "cell_type": "code",
   "execution_count": 45,
   "id": "3ef8d5fa",
   "metadata": {
    "execution": {
     "iopub.execute_input": "2023-05-09T08:49:23.297793Z",
     "iopub.status.busy": "2023-05-09T08:49:23.297526Z",
     "iopub.status.idle": "2023-05-09T08:49:23.550623Z",
     "shell.execute_reply": "2023-05-09T08:49:23.549728Z"
    },
    "papermill": {
     "duration": 0.298883,
     "end_time": "2023-05-09T08:49:23.552802",
     "exception": false,
     "start_time": "2023-05-09T08:49:23.253919",
     "status": "completed"
    },
    "tags": []
   },
   "outputs": [],
   "source": [
    "file_paths, y_true = getFilesLabels()"
   ]
  },
  {
   "cell_type": "code",
   "execution_count": 46,
   "id": "dd06cb38",
   "metadata": {
    "execution": {
     "iopub.execute_input": "2023-05-09T08:49:23.640318Z",
     "iopub.status.busy": "2023-05-09T08:49:23.640029Z",
     "iopub.status.idle": "2023-05-09T08:49:23.647475Z",
     "shell.execute_reply": "2023-05-09T08:49:23.646494Z"
    },
    "papermill": {
     "duration": 0.053194,
     "end_time": "2023-05-09T08:49:23.649563",
     "exception": false,
     "start_time": "2023-05-09T08:49:23.596369",
     "status": "completed"
    },
    "tags": []
   },
   "outputs": [],
   "source": [
    "def videoPrediction(path):\n",
    "    resnet_model_prediction = []\n",
    "    efficient_model_prediction = [] \n",
    "    vgg_model_prediction = []\n",
    "    # Verify file type\n",
    "    if str(path)[-4:] == '.avi':\n",
    "        picked_frames =[]\n",
    "        cap = cv2.VideoCapture(str(path))\n",
    "        video_length = int(cap.get(cv2.CAP_PROP_FRAME_COUNT))\n",
    "        success = cap.grab()\n",
    "        while success:\n",
    "            if (len(picked_frames) < int(frames_split) or (len(picked_frames)/video_length) < 0.6):\n",
    "                success, img = cap.retrieve()\n",
    "                frame = preprocess_frame(img) # Frame as input to prediction\n",
    "                resnet_model_prediction.append(resnet_model.predict(frame, verbose=0))\n",
    "                efficient_model_prediction.append(efficient_model.predict(frame,verbose=0))\n",
    "                vgg_model_prediction.append(vgg_model.predict(frame,verbose=0))\n",
    "                success = cap.grab()\n",
    "        cap.release()\n",
    "    resnet_prediction = np.argmax(np.mean(resnet_model_prediction, axis=0)) \n",
    "    efficient_prediction = np.argmax(np.mean(efficient_model_prediction, axis=0))\n",
    "    vgg_prediction = np.argmax(np.mean(vgg_model_prediction, axis=0)) \n",
    "    return resnet_prediction,efficient_prediction,vgg_prediction"
   ]
  },
  {
   "cell_type": "code",
   "execution_count": 47,
   "id": "ed44624b",
   "metadata": {
    "execution": {
     "iopub.execute_input": "2023-05-09T08:49:23.736903Z",
     "iopub.status.busy": "2023-05-09T08:49:23.736561Z",
     "iopub.status.idle": "2023-05-09T08:49:23.777284Z",
     "shell.execute_reply": "2023-05-09T08:49:23.776115Z"
    },
    "papermill": {
     "duration": 0.087581,
     "end_time": "2023-05-09T08:49:23.779638",
     "exception": false,
     "start_time": "2023-05-09T08:49:23.692057",
     "status": "completed"
    },
    "tags": []
   },
   "outputs": [
    {
     "name": "stderr",
     "output_type": "stream",
     "text": [
      "  0%|          | 0/681 [00:00<?, ?it/s]/opt/conda/lib/python3.10/site-packages/numpy/core/fromnumeric.py:3432: RuntimeWarning: Mean of empty slice.\n",
      "  return _methods._mean(a, axis=axis, dtype=dtype,\n",
      "/opt/conda/lib/python3.10/site-packages/numpy/core/_methods.py:190: RuntimeWarning: invalid value encountered in double_scalars\n",
      "  ret = ret.dtype.type(ret / rcount)\n",
      "100%|██████████| 681/681 [00:00<00:00, 21179.58it/s]\n"
     ]
    }
   ],
   "source": [
    "predicted_list = list(map(videoPrediction, tqdm(y_true)))"
   ]
  },
  {
   "cell_type": "code",
   "execution_count": 48,
   "id": "06aa8e5c",
   "metadata": {
    "execution": {
     "iopub.execute_input": "2023-05-09T08:49:23.869289Z",
     "iopub.status.busy": "2023-05-09T08:49:23.868969Z",
     "iopub.status.idle": "2023-05-09T08:49:23.873834Z",
     "shell.execute_reply": "2023-05-09T08:49:23.872952Z"
    },
    "papermill": {
     "duration": 0.051745,
     "end_time": "2023-05-09T08:49:23.875706",
     "exception": false,
     "start_time": "2023-05-09T08:49:23.823961",
     "status": "completed"
    },
    "tags": []
   },
   "outputs": [],
   "source": [
    "columnwise_predictions = list(zip(*predicted_list))\n",
    "prediction_resnet_model = columnwise_predictions[0]\n",
    "prediction_efficient__model = columnwise_predictions[1]\n",
    "prediction_vgg_model  = columnwise_predictions[2]"
   ]
  },
  {
   "cell_type": "code",
   "execution_count": 49,
   "id": "6de396f9",
   "metadata": {
    "execution": {
     "iopub.execute_input": "2023-05-09T08:49:23.965556Z",
     "iopub.status.busy": "2023-05-09T08:49:23.964988Z",
     "iopub.status.idle": "2023-05-09T08:49:23.977173Z",
     "shell.execute_reply": "2023-05-09T08:49:23.976117Z"
    },
    "papermill": {
     "duration": 0.060569,
     "end_time": "2023-05-09T08:49:23.980043",
     "exception": false,
     "start_time": "2023-05-09T08:49:23.919474",
     "status": "completed"
    },
    "tags": []
   },
   "outputs": [
    {
     "name": "stdout",
     "output_type": "stream",
     "text": [
      "Results for model ResNet50\n",
      "Confusion Matrix:\n",
      " [[150   0   0   0   0]\n",
      " [137   0   0   0   0]\n",
      " [111   0   0   0   0]\n",
      " [167   0   0   0   0]\n",
      " [116   0   0   0   0]]\n",
      "Precision: 0.04405286337143486\n",
      "Recall: 0.19999999866666668\n",
      "Accuracy: 0.22026431718061673\n",
      "F1 Score: 0.07220210672197439\n"
     ]
    }
   ],
   "source": [
    "printResults('ResNet50', y_true, prediction_resnet_model)"
   ]
  },
  {
   "cell_type": "code",
   "execution_count": 50,
   "id": "7969cfe3",
   "metadata": {
    "execution": {
     "iopub.execute_input": "2023-05-09T08:49:24.070437Z",
     "iopub.status.busy": "2023-05-09T08:49:24.070118Z",
     "iopub.status.idle": "2023-05-09T08:49:24.082554Z",
     "shell.execute_reply": "2023-05-09T08:49:24.081443Z"
    },
    "papermill": {
     "duration": 0.059757,
     "end_time": "2023-05-09T08:49:24.085393",
     "exception": false,
     "start_time": "2023-05-09T08:49:24.025636",
     "status": "completed"
    },
    "tags": []
   },
   "outputs": [
    {
     "name": "stdout",
     "output_type": "stream",
     "text": [
      "Results for model EfficientNetB0\n",
      "Confusion Matrix:\n",
      " [[150   0   0   0   0]\n",
      " [137   0   0   0   0]\n",
      " [111   0   0   0   0]\n",
      " [167   0   0   0   0]\n",
      " [116   0   0   0   0]]\n",
      "Precision: 0.04405286337143486\n",
      "Recall: 0.19999999866666668\n",
      "Accuracy: 0.22026431718061673\n",
      "F1 Score: 0.07220210672197439\n"
     ]
    }
   ],
   "source": [
    "printResults('EfficientNetB0', y_true, prediction_efficient__model)"
   ]
  },
  {
   "cell_type": "code",
   "execution_count": 51,
   "id": "3abe1025",
   "metadata": {
    "execution": {
     "iopub.execute_input": "2023-05-09T08:49:24.183321Z",
     "iopub.status.busy": "2023-05-09T08:49:24.182998Z",
     "iopub.status.idle": "2023-05-09T08:49:24.197444Z",
     "shell.execute_reply": "2023-05-09T08:49:24.196364Z"
    },
    "papermill": {
     "duration": 0.062521,
     "end_time": "2023-05-09T08:49:24.199829",
     "exception": false,
     "start_time": "2023-05-09T08:49:24.137308",
     "status": "completed"
    },
    "tags": []
   },
   "outputs": [
    {
     "name": "stdout",
     "output_type": "stream",
     "text": [
      "Results for model VGG16\n",
      "Confusion Matrix:\n",
      " [[150   0   0   0   0]\n",
      " [137   0   0   0   0]\n",
      " [111   0   0   0   0]\n",
      " [167   0   0   0   0]\n",
      " [116   0   0   0   0]]\n",
      "Precision: 0.04405286337143486\n",
      "Recall: 0.19999999866666668\n",
      "Accuracy: 0.22026431718061673\n",
      "F1 Score: 0.07220210672197439\n"
     ]
    }
   ],
   "source": [
    "printResults('VGG16', y_true, prediction_vgg_model)"
   ]
  },
  {
   "cell_type": "markdown",
   "id": "8599ae4f",
   "metadata": {
    "id": "BodcfKzI1_F4",
    "papermill": {
     "duration": 0.048264,
     "end_time": "2023-05-09T08:49:24.304214",
     "exception": false,
     "start_time": "2023-05-09T08:49:24.255950",
     "status": "completed"
    },
    "tags": []
   },
   "source": [
    "### References\n",
    "\n",
    "https://www.tensorflow.org/api_docs/python/tf/data/Dataset\n",
    "\n",
    "https://www.tensorflow.org/api_docs/python/tf/data/Dataset#from_tensor_slices\n",
    "\n",
    "https://www.tensorflow.org/api_docs/python/tf/data/Dataset#take\n",
    "\n",
    "https://www.kaggle.com/code/nkitgupta/evaluation-metrics-for-multi-class-classification"
   ]
  }
 ],
 "metadata": {
  "kernelspec": {
   "display_name": "Python 3",
   "language": "python",
   "name": "python3"
  },
  "language_info": {
   "codemirror_mode": {
    "name": "ipython",
    "version": 3
   },
   "file_extension": ".py",
   "mimetype": "text/x-python",
   "name": "python",
   "nbconvert_exporter": "python",
   "pygments_lexer": "ipython3",
   "version": "3.10.10"
  },
  "papermill": {
   "default_parameters": {},
   "duration": 574.948483,
   "end_time": "2023-05-09T08:49:27.825169",
   "environment_variables": {},
   "exception": null,
   "input_path": "__notebook__.ipynb",
   "output_path": "__notebook__.ipynb",
   "parameters": {},
   "start_time": "2023-05-09T08:39:52.876686",
   "version": "2.4.0"
  }
 },
 "nbformat": 4,
 "nbformat_minor": 5
}
