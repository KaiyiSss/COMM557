{
 "cells": [
  {
   "cell_type": "code",
   "execution_count": 1,
   "id": "217f65fe",
   "metadata": {
    "execution": {
     "iopub.execute_input": "2023-05-09T08:53:44.174584Z",
     "iopub.status.busy": "2023-05-09T08:53:44.174189Z",
     "iopub.status.idle": "2023-05-09T08:53:50.203077Z",
     "shell.execute_reply": "2023-05-09T08:53:50.202231Z"
    },
    "executionInfo": {
     "elapsed": 168,
     "status": "ok",
     "timestamp": 1683534029508,
     "user": {
      "displayName": "Datt Patel",
      "userId": "03546091703206854124"
     },
     "user_tz": 420
    },
    "id": "zuocW4vSOTeX",
    "papermill": {
     "duration": 6.045001,
     "end_time": "2023-05-09T08:53:50.205564",
     "exception": false,
     "start_time": "2023-05-09T08:53:44.160563",
     "status": "completed"
    },
    "tags": []
   },
   "outputs": [
    {
     "name": "stderr",
     "output_type": "stream",
     "text": [
      "/opt/conda/lib/python3.10/site-packages/scipy/__init__.py:146: UserWarning: A NumPy version >=1.16.5 and <1.23.0 is required for this version of SciPy (detected version 1.23.5\n",
      "  warnings.warn(f\"A NumPy version >={np_minversion} and <{np_maxversion}\"\n"
     ]
    }
   ],
   "source": [
    "import tensorflow as tf\n",
    "import matplotlib.pyplot as plt\n",
    "import numpy as np\n",
    "import os\n",
    "import cv2\n",
    "from tqdm import tqdm\n",
    "from sklearn.metrics import confusion_matrix\n",
    "import pathlib "
   ]
  },
  {
   "cell_type": "code",
   "execution_count": 2,
   "id": "ccc14805",
   "metadata": {
    "execution": {
     "iopub.execute_input": "2023-05-09T08:53:50.231062Z",
     "iopub.status.busy": "2023-05-09T08:53:50.230533Z",
     "iopub.status.idle": "2023-05-09T08:53:50.235514Z",
     "shell.execute_reply": "2023-05-09T08:53:50.234635Z"
    },
    "executionInfo": {
     "elapsed": 4,
     "status": "ok",
     "timestamp": 1683534032831,
     "user": {
      "displayName": "Datt Patel",
      "userId": "03546091703206854124"
     },
     "user_tz": 420
    },
    "id": "iEdpV8G5O5_7",
    "papermill": {
     "duration": 0.019427,
     "end_time": "2023-05-09T08:53:50.237322",
     "exception": false,
     "start_time": "2023-05-09T08:53:50.217895",
     "status": "completed"
    },
    "tags": []
   },
   "outputs": [],
   "source": [
    "IMG_WID, IMG_HG = 224, 224\n",
    "IMG_SIZE = (IMG_WID, IMG_HG)\n",
    "VAL_RATIO = 0.15\n",
    "PATIENCE = 2\n",
    "TRAIN_Ratio = 0.7\n",
    "TEST_Ratio = 1\n",
    "VAL_Ratio = 0.15\n",
    "EPOCHS = 50\n",
    "FIT_BATCH = 128"
   ]
  },
  {
   "cell_type": "code",
   "execution_count": 3,
   "id": "b7ccf9fa",
   "metadata": {
    "execution": {
     "iopub.execute_input": "2023-05-09T08:53:50.262544Z",
     "iopub.status.busy": "2023-05-09T08:53:50.261731Z",
     "iopub.status.idle": "2023-05-09T08:53:50.265880Z",
     "shell.execute_reply": "2023-05-09T08:53:50.265136Z"
    },
    "executionInfo": {
     "elapsed": 4,
     "status": "ok",
     "timestamp": 1683534032831,
     "user": {
      "displayName": "Datt Patel",
      "userId": "03546091703206854124"
     },
     "user_tz": 420
    },
    "id": "_l3nS2vGOFYW",
    "papermill": {
     "duration": 0.01844,
     "end_time": "2023-05-09T08:53:50.267749",
     "exception": false,
     "start_time": "2023-05-09T08:53:50.249309",
     "status": "completed"
    },
    "tags": []
   },
   "outputs": [],
   "source": [
    "data_images = '/kaggle/input/project-images/Data/Sport Images'\n",
    "data_video = '/kaggle/input/project-images/Data/Sport Videos'"
   ]
  },
  {
   "cell_type": "markdown",
   "id": "2ff2f8f9",
   "metadata": {
    "id": "SgwSihQO1RXV",
    "papermill": {
     "duration": 0.011383,
     "end_time": "2023-05-09T08:53:50.290721",
     "exception": false,
     "start_time": "2023-05-09T08:53:50.279338",
     "status": "completed"
    },
    "tags": []
   },
   "source": [
    "## Creating the required dataset"
   ]
  },
  {
   "cell_type": "code",
   "execution_count": 4,
   "id": "b2e10245",
   "metadata": {
    "execution": {
     "iopub.execute_input": "2023-05-09T08:53:50.315770Z",
     "iopub.status.busy": "2023-05-09T08:53:50.314996Z",
     "iopub.status.idle": "2023-05-09T08:53:50.321103Z",
     "shell.execute_reply": "2023-05-09T08:53:50.320364Z"
    },
    "executionInfo": {
     "elapsed": 4,
     "status": "ok",
     "timestamp": 1683534032832,
     "user": {
      "displayName": "Datt Patel",
      "userId": "03546091703206854124"
     },
     "user_tz": 420
    },
    "id": "DsNl8q4jmQvu",
    "papermill": {
     "duration": 0.020235,
     "end_time": "2023-05-09T08:53:50.322871",
     "exception": false,
     "start_time": "2023-05-09T08:53:50.302636",
     "status": "completed"
    },
    "tags": []
   },
   "outputs": [],
   "source": [
    "def split_folders(image_path, label_count):\n",
    "    dataset = tf.keras.utils.image_dataset_from_directory(image_path,labels=None,label_mode='int',color_mode='rgb',batch_size=None,image_size=IMG_SIZE,seed=20)\n",
    "    dataset = dataset.map(lambda x: (x, label_count))\n",
    "    total_file = len(dataset)\n",
    "    train_size, val_size = int(np.ceil(total_file*TRAIN_Ratio)), int(np.ceil(total_file*VAL_Ratio))\n",
    "    test_size = int(TEST_Ratio*(total_file - (train_size + val_size)))\n",
    "    train = dataset.take(train_size)\n",
    "    val = dataset.skip(train_size).take(val_size)\n",
    "    test = dataset.skip(train_size + val_size).take(test_size)\n",
    "    return [train, val, test]"
   ]
  },
  {
   "cell_type": "code",
   "execution_count": 5,
   "id": "64e7f71d",
   "metadata": {
    "execution": {
     "iopub.execute_input": "2023-05-09T08:53:50.347508Z",
     "iopub.status.busy": "2023-05-09T08:53:50.346730Z",
     "iopub.status.idle": "2023-05-09T08:53:53.795102Z",
     "shell.execute_reply": "2023-05-09T08:53:53.794267Z"
    },
    "executionInfo": {
     "elapsed": 5,
     "status": "ok",
     "timestamp": 1683534032833,
     "user": {
      "displayName": "Datt Patel",
      "userId": "03546091703206854124"
     },
     "user_tz": 420
    },
    "id": "KUf_5OKhPwZy",
    "papermill": {
     "duration": 3.46262,
     "end_time": "2023-05-09T08:53:53.797086",
     "exception": false,
     "start_time": "2023-05-09T08:53:50.334466",
     "status": "completed"
    },
    "tags": []
   },
   "outputs": [
    {
     "name": "stdout",
     "output_type": "stream",
     "text": [
      "Found 734 files belonging to 1 classes.\n",
      "Found 492 files belonging to 1 classes.\n",
      "Found 634 files belonging to 1 classes.\n",
      "Found 715 files belonging to 1 classes.\n",
      "Found 704 files belonging to 1 classes.\n"
     ]
    }
   ],
   "source": [
    "classes = ['baseball','basketball','fencing','tennis','volleyball']\n",
    "data_sets = []\n",
    "for idx in range(len(classes)):\n",
    "    data_sets.append(split_folders(data_images+'/'+classes[idx], idx))"
   ]
  },
  {
   "cell_type": "code",
   "execution_count": 6,
   "id": "ff8cf119",
   "metadata": {
    "execution": {
     "iopub.execute_input": "2023-05-09T08:53:53.822527Z",
     "iopub.status.busy": "2023-05-09T08:53:53.822257Z",
     "iopub.status.idle": "2023-05-09T08:53:53.833868Z",
     "shell.execute_reply": "2023-05-09T08:53:53.833096Z"
    },
    "papermill": {
     "duration": 0.026163,
     "end_time": "2023-05-09T08:53:53.835588",
     "exception": false,
     "start_time": "2023-05-09T08:53:53.809425",
     "status": "completed"
    },
    "tags": []
   },
   "outputs": [],
   "source": [
    "train, val, test = data_sets[0][0],data_sets[0][1],data_sets[0][2]\n",
    "for t, v, tst in data_sets[1:]:\n",
    "    train = train.concatenate(t)\n",
    "    val = val.concatenate(v)\n",
    "    test = test.concatenate(tst)"
   ]
  },
  {
   "cell_type": "markdown",
   "id": "a35da579",
   "metadata": {
    "id": "svVTxzl-dgPB",
    "papermill": {
     "duration": 0.011878,
     "end_time": "2023-05-09T08:53:53.859353",
     "exception": false,
     "start_time": "2023-05-09T08:53:53.847475",
     "status": "completed"
    },
    "tags": []
   },
   "source": [
    "# Data Augmentation"
   ]
  },
  {
   "cell_type": "code",
   "execution_count": 7,
   "id": "bbaef74e",
   "metadata": {
    "execution": {
     "iopub.execute_input": "2023-05-09T08:53:53.884018Z",
     "iopub.status.busy": "2023-05-09T08:53:53.883752Z",
     "iopub.status.idle": "2023-05-09T08:53:53.895850Z",
     "shell.execute_reply": "2023-05-09T08:53:53.894933Z"
    },
    "executionInfo": {
     "elapsed": 4,
     "status": "ok",
     "timestamp": 1683534033664,
     "user": {
      "displayName": "Datt Patel",
      "userId": "03546091703206854124"
     },
     "user_tz": 420
    },
    "id": "8noPqsnh3Wmg",
    "papermill": {
     "duration": 0.026567,
     "end_time": "2023-05-09T08:53:53.897669",
     "exception": false,
     "start_time": "2023-05-09T08:53:53.871102",
     "status": "completed"
    },
    "tags": []
   },
   "outputs": [],
   "source": [
    "image_augmentation_flip = tf.keras.layers.RandomFlip(\"horizontal_and_vertical\")\n",
    "image_augmentation_rotation = tf.keras.layers.RandomRotation((-0.1, 0.3))\n",
    "image_augmentation_translation = tf.keras.layers.RandomTranslation((-0.1, 0.5), (-0.2, 0.4))\n",
    "image_augmentation_zoom = tf.keras.layers.RandomZoom((-0.1, 0.4))\n",
    "image_augmentation_brightness = tf.keras.layers.RandomBrightness(0.6)\n",
    "image_augmentation_contrast = tf.keras.layers.RandomContrast(0.3)"
   ]
  },
  {
   "cell_type": "code",
   "execution_count": 8,
   "id": "3667fb19",
   "metadata": {
    "execution": {
     "iopub.execute_input": "2023-05-09T08:53:53.922681Z",
     "iopub.status.busy": "2023-05-09T08:53:53.922426Z",
     "iopub.status.idle": "2023-05-09T08:53:53.926801Z",
     "shell.execute_reply": "2023-05-09T08:53:53.925903Z"
    },
    "executionInfo": {
     "elapsed": 4,
     "status": "ok",
     "timestamp": 1683534033664,
     "user": {
      "displayName": "Datt Patel",
      "userId": "03546091703206854124"
     },
     "user_tz": 420
    },
    "id": "XWTcyveJpouC",
    "papermill": {
     "duration": 0.018941,
     "end_time": "2023-05-09T08:53:53.928633",
     "exception": false,
     "start_time": "2023-05-09T08:53:53.909692",
     "status": "completed"
    },
    "tags": []
   },
   "outputs": [],
   "source": [
    "def chooseRandom(img):\n",
    "    choice = [0,1]\n",
    "    np.random.shuffle(choice)\n",
    "    if choice == 1:\n",
    "        return image_augmentation_zoom(image_augmentation_rotation(image_augmentation_brightness(image_augmentation_translation(img))))\n",
    "    else:\n",
    "        return image_augmentation_contrast(image_augmentation_flip(img))"
   ]
  },
  {
   "cell_type": "code",
   "execution_count": 9,
   "id": "89d37416",
   "metadata": {
    "execution": {
     "iopub.execute_input": "2023-05-09T08:53:53.953367Z",
     "iopub.status.busy": "2023-05-09T08:53:53.953101Z",
     "iopub.status.idle": "2023-05-09T08:53:54.331152Z",
     "shell.execute_reply": "2023-05-09T08:53:54.330276Z"
    },
    "executionInfo": {
     "elapsed": 4,
     "status": "ok",
     "timestamp": 1683534033664,
     "user": {
      "displayName": "Datt Patel",
      "userId": "03546091703206854124"
     },
     "user_tz": 420
    },
    "id": "Yvc1RFKAmQvx",
    "papermill": {
     "duration": 0.39328,
     "end_time": "2023-05-09T08:53:54.333588",
     "exception": false,
     "start_time": "2023-05-09T08:53:53.940308",
     "status": "completed"
    },
    "tags": []
   },
   "outputs": [],
   "source": [
    "dataset_random_augmentation = train.map(lambda i,l:(chooseRandom(i), l))\n",
    "dataset_flip = train.map(lambda i,l:(image_augmentation_flip(i), l))\n",
    "dataset_rotated = train.map(lambda i,l:(image_augmentation_rotation(i), l))\n",
    "dataset_bright = train.map(lambda i,l:(image_augmentation_brightness(i), l))\n",
    "dataset_zoomed = train.map(lambda i,l:(image_augmentation_zoom(i), l))"
   ]
  },
  {
   "cell_type": "code",
   "execution_count": 10,
   "id": "cae27806",
   "metadata": {
    "execution": {
     "iopub.execute_input": "2023-05-09T08:53:54.359181Z",
     "iopub.status.busy": "2023-05-09T08:53:54.358889Z",
     "iopub.status.idle": "2023-05-09T08:53:54.365247Z",
     "shell.execute_reply": "2023-05-09T08:53:54.364474Z"
    },
    "executionInfo": {
     "elapsed": 4,
     "status": "ok",
     "timestamp": 1683534033665,
     "user": {
      "displayName": "Datt Patel",
      "userId": "03546091703206854124"
     },
     "user_tz": 420
    },
    "id": "8rBXtKLEbSLZ",
    "papermill": {
     "duration": 0.020973,
     "end_time": "2023-05-09T08:53:54.367044",
     "exception": false,
     "start_time": "2023-05-09T08:53:54.346071",
     "status": "completed"
    },
    "tags": []
   },
   "outputs": [],
   "source": [
    "augmented_train = train.concatenate(dataset_random_augmentation)\n",
    "augmented_train = augmented_train.concatenate(dataset_flip)\n",
    "augmented_train = augmented_train.concatenate(dataset_bright)\n",
    "augmented_train = augmented_train.concatenate(dataset_zoomed)"
   ]
  },
  {
   "cell_type": "code",
   "execution_count": 11,
   "id": "85c09e28",
   "metadata": {
    "execution": {
     "iopub.execute_input": "2023-05-09T08:53:54.391872Z",
     "iopub.status.busy": "2023-05-09T08:53:54.391627Z",
     "iopub.status.idle": "2023-05-09T08:53:54.399244Z",
     "shell.execute_reply": "2023-05-09T08:53:54.398495Z"
    },
    "executionInfo": {
     "elapsed": 4,
     "status": "ok",
     "timestamp": 1683534033665,
     "user": {
      "displayName": "Datt Patel",
      "userId": "03546091703206854124"
     },
     "user_tz": 420
    },
    "id": "iAmg5inNbSLZ",
    "papermill": {
     "duration": 0.022281,
     "end_time": "2023-05-09T08:53:54.401262",
     "exception": false,
     "start_time": "2023-05-09T08:53:54.378981",
     "status": "completed"
    },
    "tags": []
   },
   "outputs": [],
   "source": [
    "batched_augmented_train = augmented_train.batch(128, drop_remainder=True)\n",
    "batched_val = val.batch(128, drop_remainder=True)\n",
    "batched_test = test.batch(128, drop_remainder=True)"
   ]
  },
  {
   "cell_type": "code",
   "execution_count": 12,
   "id": "70ae00cf",
   "metadata": {
    "execution": {
     "iopub.execute_input": "2023-05-09T08:53:54.426331Z",
     "iopub.status.busy": "2023-05-09T08:53:54.426054Z",
     "iopub.status.idle": "2023-05-09T08:53:54.431775Z",
     "shell.execute_reply": "2023-05-09T08:53:54.430994Z"
    },
    "papermill": {
     "duration": 0.019898,
     "end_time": "2023-05-09T08:53:54.433469",
     "exception": false,
     "start_time": "2023-05-09T08:53:54.413571",
     "status": "completed"
    },
    "tags": []
   },
   "outputs": [
    {
     "data": {
      "text/plain": [
       "<BatchDataset element_spec=(TensorSpec(shape=(128, 224, 224, 3), dtype=tf.float32, name=None), TensorSpec(shape=(128,), dtype=tf.int32, name=None))>"
      ]
     },
     "execution_count": 12,
     "metadata": {},
     "output_type": "execute_result"
    }
   ],
   "source": [
    "batched_augmented_train"
   ]
  },
  {
   "cell_type": "code",
   "execution_count": 13,
   "id": "ea7a0294",
   "metadata": {
    "execution": {
     "iopub.execute_input": "2023-05-09T08:53:54.459247Z",
     "iopub.status.busy": "2023-05-09T08:53:54.457938Z",
     "iopub.status.idle": "2023-05-09T08:53:54.464833Z",
     "shell.execute_reply": "2023-05-09T08:53:54.464060Z"
    },
    "papermill": {
     "duration": 0.021272,
     "end_time": "2023-05-09T08:53:54.466677",
     "exception": false,
     "start_time": "2023-05-09T08:53:54.445405",
     "status": "completed"
    },
    "tags": []
   },
   "outputs": [
    {
     "data": {
      "text/plain": [
       "<BatchDataset element_spec=(TensorSpec(shape=(128, 224, 224, 3), dtype=tf.float32, name=None), TensorSpec(shape=(128,), dtype=tf.int32, name=None))>"
      ]
     },
     "execution_count": 13,
     "metadata": {},
     "output_type": "execute_result"
    }
   ],
   "source": [
    "batched_val"
   ]
  },
  {
   "cell_type": "code",
   "execution_count": 14,
   "id": "d48eb51c",
   "metadata": {
    "execution": {
     "iopub.execute_input": "2023-05-09T08:53:54.493618Z",
     "iopub.status.busy": "2023-05-09T08:53:54.492171Z",
     "iopub.status.idle": "2023-05-09T08:53:54.498797Z",
     "shell.execute_reply": "2023-05-09T08:53:54.498031Z"
    },
    "papermill": {
     "duration": 0.021687,
     "end_time": "2023-05-09T08:53:54.500722",
     "exception": false,
     "start_time": "2023-05-09T08:53:54.479035",
     "status": "completed"
    },
    "tags": []
   },
   "outputs": [
    {
     "data": {
      "text/plain": [
       "<BatchDataset element_spec=(TensorSpec(shape=(128, 224, 224, 3), dtype=tf.float32, name=None), TensorSpec(shape=(128,), dtype=tf.int32, name=None))>"
      ]
     },
     "execution_count": 14,
     "metadata": {},
     "output_type": "execute_result"
    }
   ],
   "source": [
    "batched_test"
   ]
  },
  {
   "cell_type": "markdown",
   "id": "2e73f49f",
   "metadata": {
    "id": "y7K_E131mQvx",
    "papermill": {
     "duration": 0.012089,
     "end_time": "2023-05-09T08:53:54.525481",
     "exception": false,
     "start_time": "2023-05-09T08:53:54.513392",
     "status": "completed"
    },
    "tags": []
   },
   "source": [
    "# Model Creation"
   ]
  },
  {
   "cell_type": "code",
   "execution_count": 15,
   "id": "68073dfa",
   "metadata": {
    "execution": {
     "iopub.execute_input": "2023-05-09T08:53:54.551624Z",
     "iopub.status.busy": "2023-05-09T08:53:54.551386Z",
     "iopub.status.idle": "2023-05-09T08:53:54.557688Z",
     "shell.execute_reply": "2023-05-09T08:53:54.556753Z"
    },
    "executionInfo": {
     "elapsed": 283,
     "status": "ok",
     "timestamp": 1683534033944,
     "user": {
      "displayName": "Datt Patel",
      "userId": "03546091703206854124"
     },
     "user_tz": 420
    },
    "id": "fgLf822vt0jb",
    "papermill": {
     "duration": 0.021755,
     "end_time": "2023-05-09T08:53:54.559786",
     "exception": false,
     "start_time": "2023-05-09T08:53:54.538031",
     "status": "completed"
    },
    "tags": []
   },
   "outputs": [],
   "source": [
    "def modelCreation(base):\n",
    "    for layer in base.layers:\n",
    "        layer.trainable = False\n",
    "    model = tf.keras.layers.MaxPooling2D(pool_size=(2, 2), strides=None, padding='valid', data_format=None)(base.output)\n",
    "    model = tf.keras.layers.Flatten()(model)\n",
    "    model = tf.keras.layers.Dense(32, activation='relu')(model)\n",
    "    model = tf.keras.layers.Dropout(0.2)(model)\n",
    "    model = tf.keras.layers.BatchNormalization()(model)\n",
    "    model_prediction = tf.keras.layers.Dense(5, activation = 'softmax')(model)\n",
    "    model_final = tf.keras.Model(inputs = base.input, outputs = model_prediction)\n",
    "    model_final.compile(optimizer='adam', loss=\"sparse_categorical_crossentropy\", metrics=['accuracy'])\n",
    "    return model_final"
   ]
  },
  {
   "cell_type": "code",
   "execution_count": 16,
   "id": "d3577132",
   "metadata": {
    "execution": {
     "iopub.execute_input": "2023-05-09T08:53:54.585790Z",
     "iopub.status.busy": "2023-05-09T08:53:54.585556Z",
     "iopub.status.idle": "2023-05-09T08:54:09.712901Z",
     "shell.execute_reply": "2023-05-09T08:54:09.711921Z"
    },
    "executionInfo": {
     "elapsed": 3790,
     "status": "ok",
     "timestamp": 1683534037732,
     "user": {
      "displayName": "Datt Patel",
      "userId": "03546091703206854124"
     },
     "user_tz": 420
    },
    "id": "rUqlAWS9mQvx",
    "papermill": {
     "duration": 15.142931,
     "end_time": "2023-05-09T08:54:09.715378",
     "exception": false,
     "start_time": "2023-05-09T08:53:54.572447",
     "status": "completed"
    },
    "tags": []
   },
   "outputs": [
    {
     "name": "stdout",
     "output_type": "stream",
     "text": [
      "Downloading data from https://storage.googleapis.com/tensorflow/keras-applications/resnet/resnet50_weights_tf_dim_ordering_tf_kernels_notop.h5\n",
      "94765736/94765736 [==============================] - 5s 0us/step\n",
      "Downloading data from https://storage.googleapis.com/keras-applications/efficientnetb0_notop.h5\n",
      "16705208/16705208 [==============================] - 2s 0us/step\n",
      "Downloading data from https://storage.googleapis.com/tensorflow/keras-applications/vgg16/vgg16_weights_tf_dim_ordering_tf_kernels_notop.h5\n",
      "58889256/58889256 [==============================] - 3s 0us/step\n"
     ]
    }
   ],
   "source": [
    "resnet = tf.keras.applications.ResNet50(weights = 'imagenet', include_top = False, input_shape = (IMG_WID, IMG_HG, 3))\n",
    "efficient = tf.keras.applications.EfficientNetB0(weights = 'imagenet', include_top = False, input_shape = (IMG_WID, IMG_HG, 3))\n",
    "vgg = tf.keras.applications.VGG16(weights = 'imagenet', include_top = False, input_shape = (IMG_WID, IMG_HG, 3))"
   ]
  },
  {
   "cell_type": "code",
   "execution_count": 17,
   "id": "59f6ddac",
   "metadata": {
    "execution": {
     "iopub.execute_input": "2023-05-09T08:54:09.755444Z",
     "iopub.status.busy": "2023-05-09T08:54:09.755099Z",
     "iopub.status.idle": "2023-05-09T08:54:09.935741Z",
     "shell.execute_reply": "2023-05-09T08:54:09.934841Z"
    },
    "executionInfo": {
     "elapsed": 364,
     "status": "ok",
     "timestamp": 1683534038094,
     "user": {
      "displayName": "Datt Patel",
      "userId": "03546091703206854124"
     },
     "user_tz": 420
    },
    "id": "Tl4W7ZfNwKoz",
    "papermill": {
     "duration": 0.202993,
     "end_time": "2023-05-09T08:54:09.937986",
     "exception": false,
     "start_time": "2023-05-09T08:54:09.734993",
     "status": "completed"
    },
    "tags": []
   },
   "outputs": [],
   "source": [
    "resnet_model = modelCreation(resnet)\n",
    "efficient_model = modelCreation(efficient)\n",
    "vgg_model = modelCreation(vgg)"
   ]
  },
  {
   "cell_type": "code",
   "execution_count": 18,
   "id": "944dcf53",
   "metadata": {
    "execution": {
     "iopub.execute_input": "2023-05-09T08:54:09.978239Z",
     "iopub.status.busy": "2023-05-09T08:54:09.977916Z",
     "iopub.status.idle": "2023-05-09T08:54:09.982208Z",
     "shell.execute_reply": "2023-05-09T08:54:09.981297Z"
    },
    "executionInfo": {
     "elapsed": 4,
     "status": "ok",
     "timestamp": 1683534038095,
     "user": {
      "displayName": "Datt Patel",
      "userId": "03546091703206854124"
     },
     "user_tz": 420
    },
    "id": "Ky5Q5CRMmQvy",
    "papermill": {
     "duration": 0.026402,
     "end_time": "2023-05-09T08:54:09.984042",
     "exception": false,
     "start_time": "2023-05-09T08:54:09.957640",
     "status": "completed"
    },
    "tags": []
   },
   "outputs": [],
   "source": [
    "# Early stop and restore weight from best model, min validation loss\n",
    "early_stopper = tf.keras.callbacks.EarlyStopping(monitor='val_loss', patience=PATIENCE, verbose=1, mode='min', restore_best_weights=True)"
   ]
  },
  {
   "cell_type": "code",
   "execution_count": 19,
   "id": "1c317bcb",
   "metadata": {
    "execution": {
     "iopub.execute_input": "2023-05-09T08:54:10.023003Z",
     "iopub.status.busy": "2023-05-09T08:54:10.022748Z",
     "iopub.status.idle": "2023-05-09T09:02:47.133626Z",
     "shell.execute_reply": "2023-05-09T09:02:47.132727Z"
    },
    "executionInfo": {
     "elapsed": 156518,
     "status": "ok",
     "timestamp": 1683534715863,
     "user": {
      "displayName": "Datt Patel",
      "userId": "03546091703206854124"
     },
     "user_tz": 420
    },
    "id": "v-zb8LWbmQvy",
    "outputId": "cb478421-b474-4d57-d3b8-c0f4de4a135e",
    "papermill": {
     "duration": 517.132552,
     "end_time": "2023-05-09T09:02:47.135587",
     "exception": false,
     "start_time": "2023-05-09T08:54:10.003035",
     "status": "completed"
    },
    "tags": []
   },
   "outputs": [
    {
     "name": "stdout",
     "output_type": "stream",
     "text": [
      "Epoch 1/50\n",
      "89/89 [==============================] - 73s 703ms/step - loss: 1.7691 - accuracy: 0.2116 - val_loss: 1.3403 - val_accuracy: 0.4115\n",
      "Epoch 2/50\n",
      "89/89 [==============================] - 57s 638ms/step - loss: 1.6573 - accuracy: 0.2388 - val_loss: 1.2482 - val_accuracy: 0.7031\n",
      "Epoch 3/50\n",
      "89/89 [==============================] - 58s 644ms/step - loss: 1.6267 - accuracy: 0.2539 - val_loss: 1.1770 - val_accuracy: 0.8464\n",
      "Epoch 4/50\n",
      "89/89 [==============================] - 59s 652ms/step - loss: 1.6092 - accuracy: 0.2602 - val_loss: 1.1617 - val_accuracy: 0.8464\n",
      "Epoch 5/50\n",
      "89/89 [==============================] - 58s 641ms/step - loss: 1.5988 - accuracy: 0.2747 - val_loss: 1.1445 - val_accuracy: 0.8906\n",
      "Epoch 6/50\n",
      "89/89 [==============================] - 58s 643ms/step - loss: 1.5935 - accuracy: 0.2806 - val_loss: 1.1456 - val_accuracy: 0.8802\n",
      "Epoch 7/50\n",
      "89/89 [==============================] - ETA: 0s - loss: 1.5864 - accuracy: 0.2910Restoring model weights from the end of the best epoch: 5.\n",
      "89/89 [==============================] - 58s 647ms/step - loss: 1.5864 - accuracy: 0.2910 - val_loss: 1.1682 - val_accuracy: 0.8411\n",
      "Epoch 7: early stopping\n"
     ]
    }
   ],
   "source": [
    "resnet_history = resnet_model.fit(batched_augmented_train, epochs=EPOCHS, batch_size=FIT_BATCH, callbacks=[early_stopper], verbose=1, validation_data=batched_val)"
   ]
  },
  {
   "cell_type": "code",
   "execution_count": 20,
   "id": "018123c5",
   "metadata": {
    "execution": {
     "iopub.execute_input": "2023-05-09T09:02:47.240763Z",
     "iopub.status.busy": "2023-05-09T09:02:47.239294Z",
     "iopub.status.idle": "2023-05-09T09:06:03.702946Z",
     "shell.execute_reply": "2023-05-09T09:06:03.702034Z"
    },
    "executionInfo": {
     "elapsed": 675446,
     "status": "ok",
     "timestamp": 1683535391305,
     "user": {
      "displayName": "Datt Patel",
      "userId": "03546091703206854124"
     },
     "user_tz": 420
    },
    "id": "sZFMuMcjrRRw",
    "outputId": "a61e5d9a-6407-4118-e90d-54884f5a82a3",
    "papermill": {
     "duration": 196.516922,
     "end_time": "2023-05-09T09:06:03.704859",
     "exception": false,
     "start_time": "2023-05-09T09:02:47.187937",
     "status": "completed"
    },
    "tags": []
   },
   "outputs": [
    {
     "name": "stdout",
     "output_type": "stream",
     "text": [
      "Epoch 1/50\n"
     ]
    },
    {
     "name": "stderr",
     "output_type": "stream",
     "text": [
      "2023-05-09 09:02:52.148230: E tensorflow/core/grappler/optimizers/meta_optimizer.cc:954] layout failed: INVALID_ARGUMENT: Size of values 0 does not match size of permutation 4 @ fanin shape inmodel_1/block2b_drop/dropout/SelectV2-2-TransposeNHWCToNCHW-LayoutOptimizer\n"
     ]
    },
    {
     "name": "stdout",
     "output_type": "stream",
     "text": [
      "89/89 [==============================] - 62s 627ms/step - loss: 1.8112 - accuracy: 0.2287 - val_loss: 0.9164 - val_accuracy: 0.7943\n",
      "Epoch 2/50\n",
      "89/89 [==============================] - 54s 599ms/step - loss: 1.6707 - accuracy: 0.2560 - val_loss: 1.0094 - val_accuracy: 0.8750\n",
      "Epoch 3/50\n",
      "89/89 [==============================] - ETA: 0s - loss: 1.6349 - accuracy: 0.2725Restoring model weights from the end of the best epoch: 1.\n",
      "89/89 [==============================] - 55s 609ms/step - loss: 1.6349 - accuracy: 0.2725 - val_loss: 1.0202 - val_accuracy: 0.9453\n",
      "Epoch 3: early stopping\n"
     ]
    }
   ],
   "source": [
    "efficient_history = efficient_model.fit(batched_augmented_train, epochs=EPOCHS, batch_size=FIT_BATCH, callbacks=[early_stopper], verbose=1, validation_data=batched_val)"
   ]
  },
  {
   "cell_type": "code",
   "execution_count": 21,
   "id": "b05db140",
   "metadata": {
    "execution": {
     "iopub.execute_input": "2023-05-09T09:06:03.835969Z",
     "iopub.status.busy": "2023-05-09T09:06:03.835653Z",
     "iopub.status.idle": "2023-05-09T09:09:28.728990Z",
     "shell.execute_reply": "2023-05-09T09:09:28.728035Z"
    },
    "executionInfo": {
     "elapsed": 1348311,
     "status": "ok",
     "timestamp": 1683536865882,
     "user": {
      "displayName": "Datt Patel",
      "userId": "03546091703206854124"
     },
     "user_tz": 420
    },
    "id": "JoBRfPHRrfCc",
    "outputId": "0ece5e87-7daa-4c69-bf66-74632c27fccd",
    "papermill": {
     "duration": 204.960355,
     "end_time": "2023-05-09T09:09:28.731039",
     "exception": false,
     "start_time": "2023-05-09T09:06:03.770684",
     "status": "completed"
    },
    "tags": []
   },
   "outputs": [
    {
     "name": "stdout",
     "output_type": "stream",
     "text": [
      "Epoch 1/50\n",
      "89/89 [==============================] - 72s 670ms/step - loss: 1.7843 - accuracy: 0.2108 - val_loss: 1.1827 - val_accuracy: 0.5729\n",
      "Epoch 2/50\n",
      "89/89 [==============================] - 61s 680ms/step - loss: 1.6472 - accuracy: 0.2258 - val_loss: 1.2375 - val_accuracy: 0.7161\n",
      "Epoch 3/50\n",
      "89/89 [==============================] - ETA: 0s - loss: 1.6218 - accuracy: 0.2403Restoring model weights from the end of the best epoch: 1.\n",
      "89/89 [==============================] - 61s 672ms/step - loss: 1.6218 - accuracy: 0.2403 - val_loss: 1.2183 - val_accuracy: 0.7839\n",
      "Epoch 3: early stopping\n"
     ]
    }
   ],
   "source": [
    "vgg_history = vgg_model.fit(batched_augmented_train, epochs=EPOCHS, batch_size=FIT_BATCH, callbacks=[early_stopper], verbose=1, validation_data=batched_val)"
   ]
  },
  {
   "cell_type": "markdown",
   "id": "80c43386",
   "metadata": {
    "id": "t0nA3B4xmQvy",
    "papermill": {
     "duration": 0.078331,
     "end_time": "2023-05-09T09:09:28.888949",
     "exception": false,
     "start_time": "2023-05-09T09:09:28.810618",
     "status": "completed"
    },
    "tags": []
   },
   "source": [
    "# Model Evaluation"
   ]
  },
  {
   "cell_type": "code",
   "execution_count": 22,
   "id": "10bacbb5",
   "metadata": {
    "execution": {
     "iopub.execute_input": "2023-05-09T09:09:29.045439Z",
     "iopub.status.busy": "2023-05-09T09:09:29.045071Z",
     "iopub.status.idle": "2023-05-09T09:09:29.051717Z",
     "shell.execute_reply": "2023-05-09T09:09:29.050856Z"
    },
    "executionInfo": {
     "elapsed": 187,
     "status": "ok",
     "timestamp": 1683537106821,
     "user": {
      "displayName": "Datt Patel",
      "userId": "03546091703206854124"
     },
     "user_tz": 420
    },
    "id": "EPE0Jt9Gwzy9",
    "papermill": {
     "duration": 0.087197,
     "end_time": "2023-05-09T09:09:29.053599",
     "exception": false,
     "start_time": "2023-05-09T09:09:28.966402",
     "status": "completed"
    },
    "tags": []
   },
   "outputs": [],
   "source": [
    "def plotLossVSEpoch(model_history, model):\n",
    "    plt.plot(model_history.history['loss'])\n",
    "    plt.plot(model_history.history['val_loss'])\n",
    "    plt.title('{} Loss vs Epoch'.format(model))\n",
    "    plt.ylabel('Loss')\n",
    "    plt.xlabel('Epochs')\n",
    "    plt.legend(['Train', 'Validation'], loc='best')\n",
    "    plt.show()"
   ]
  },
  {
   "cell_type": "code",
   "execution_count": 23,
   "id": "873ad920",
   "metadata": {
    "execution": {
     "iopub.execute_input": "2023-05-09T09:09:29.254668Z",
     "iopub.status.busy": "2023-05-09T09:09:29.254014Z",
     "iopub.status.idle": "2023-05-09T09:09:29.538393Z",
     "shell.execute_reply": "2023-05-09T09:09:29.537532Z"
    },
    "executionInfo": {
     "elapsed": 514,
     "status": "ok",
     "timestamp": 1683537108708,
     "user": {
      "displayName": "Datt Patel",
      "userId": "03546091703206854124"
     },
     "user_tz": 420
    },
    "id": "DXISAsXjmQvy",
    "outputId": "cc5b494e-7aeb-4d99-c601-e1ca7c1cfc22",
    "papermill": {
     "duration": 0.364467,
     "end_time": "2023-05-09T09:09:29.540344",
     "exception": false,
     "start_time": "2023-05-09T09:09:29.175877",
     "status": "completed"
    },
    "tags": []
   },
   "outputs": [
    {
     "data": {
      "image/png": "[encoded data removed]",
      "text/plain": [
       "<Figure size 640x480 with 1 Axes>"
      ]
     },
     "metadata": {},
     "output_type": "display_data"
    }
   ],
   "source": [
    "plotLossVSEpoch(resnet_history, 'ResNet50')"
   ]
  },
  {
   "cell_type": "code",
   "execution_count": 24,
   "id": "75908143",
   "metadata": {
    "execution": {
     "iopub.execute_input": "2023-05-09T09:09:29.700241Z",
     "iopub.status.busy": "2023-05-09T09:09:29.698198Z",
     "iopub.status.idle": "2023-05-09T09:09:29.934031Z",
     "shell.execute_reply": "2023-05-09T09:09:29.933184Z"
    },
    "executionInfo": {
     "elapsed": 500,
     "status": "ok",
     "timestamp": 1683537111291,
     "user": {
      "displayName": "Datt Patel",
      "userId": "03546091703206854124"
     },
     "user_tz": 420
    },
    "id": "xfl9G8eJscWi",
    "outputId": "ff6ff781-8eb8-454a-9e2f-eda75e5289cb",
    "papermill": {
     "duration": 0.317163,
     "end_time": "2023-05-09T09:09:29.935989",
     "exception": false,
     "start_time": "2023-05-09T09:09:29.618826",
     "status": "completed"
    },
    "tags": []
   },
   "outputs": [
    {
     "data": {
      "image/png": "[encoded data removed]",
      "text/plain": [
       "<Figure size 640x480 with 1 Axes>"
      ]
     },
     "metadata": {},
     "output_type": "display_data"
    }
   ],
   "source": [
    "plotLossVSEpoch(efficient_history, 'EfficientNetB0')"
   ]
  },
  {
   "cell_type": "code",
   "execution_count": 25,
   "id": "d5403192",
   "metadata": {
    "execution": {
     "iopub.execute_input": "2023-05-09T09:09:30.094918Z",
     "iopub.status.busy": "2023-05-09T09:09:30.094602Z",
     "iopub.status.idle": "2023-05-09T09:09:30.332980Z",
     "shell.execute_reply": "2023-05-09T09:09:30.332003Z"
    },
    "executionInfo": {
     "elapsed": 941,
     "status": "ok",
     "timestamp": 1683537114830,
     "user": {
      "displayName": "Datt Patel",
      "userId": "03546091703206854124"
     },
     "user_tz": 420
    },
    "id": "6-0rlZPrmQvy",
    "outputId": "6011ff1c-b8eb-40f9-eae6-62d6679c981b",
    "papermill": {
     "duration": 0.31928,
     "end_time": "2023-05-09T09:09:30.334967",
     "exception": false,
     "start_time": "2023-05-09T09:09:30.015687",
     "status": "completed"
    },
    "tags": []
   },
   "outputs": [
    {
     "data": {
      "image/png": "[encoded data removed]",
      "text/plain": [
       "<Figure size 640x480 with 1 Axes>"
      ]
     },
     "metadata": {},
     "output_type": "display_data"
    }
   ],
   "source": [
    "plotLossVSEpoch(vgg_history, 'VGG16')"
   ]
  },
  {
   "cell_type": "markdown",
   "id": "99d412ef",
   "metadata": {
    "id": "4JDHsHIHrwRf",
    "papermill": {
     "duration": 0.081027,
     "end_time": "2023-05-09T09:09:30.496509",
     "exception": false,
     "start_time": "2023-05-09T09:09:30.415482",
     "status": "completed"
    },
    "tags": []
   },
   "source": [
    "# Predictions"
   ]
  },
  {
   "cell_type": "markdown",
   "id": "5ad792c5",
   "metadata": {
    "papermill": {
     "duration": 0.07783,
     "end_time": "2023-05-09T09:09:30.652851",
     "exception": false,
     "start_time": "2023-05-09T09:09:30.575021",
     "status": "completed"
    },
    "tags": []
   },
   "source": [
    "#### Train"
   ]
  },
  {
   "cell_type": "code",
   "execution_count": 26,
   "id": "1a089594",
   "metadata": {
    "execution": {
     "iopub.execute_input": "2023-05-09T09:09:30.814981Z",
     "iopub.status.busy": "2023-05-09T09:09:30.814644Z",
     "iopub.status.idle": "2023-05-09T09:13:12.424622Z",
     "shell.execute_reply": "2023-05-09T09:13:12.423696Z"
    },
    "executionInfo": {
     "elapsed": 170945,
     "status": "ok",
     "timestamp": 1683540869550,
     "user": {
      "displayName": "Datt Patel",
      "userId": "03546091703206854124"
     },
     "user_tz": 420
    },
    "id": "xnAQpac0173X",
    "outputId": "527cca8e-e045-4c92-e33c-2debfe6a2eb1",
    "papermill": {
     "duration": 221.695276,
     "end_time": "2023-05-09T09:13:12.426872",
     "exception": false,
     "start_time": "2023-05-09T09:09:30.731596",
     "status": "completed"
    },
    "tags": []
   },
   "outputs": [
    {
     "name": "stdout",
     "output_type": "stream",
     "text": [
      "89/89 [==============================] - 53s 581ms/step\n",
      "89/89 [==============================] - 51s 545ms/step\n",
      "89/89 [==============================] - 55s 609ms/step\n"
     ]
    }
   ],
   "source": [
    "train_resnet_probabilities = resnet_model.predict(batched_augmented_train)\n",
    "train_efficient_probabilities = efficient_model.predict(batched_augmented_train)\n",
    "train_vgg_probabilities = vgg_model.predict(batched_augmented_train)\n",
    "\n",
    "# Pick class with highest probabilty\n",
    "train_resnet_prediction = np.argmax(train_resnet_probabilities, axis=1)\n",
    "train_efficient_prediction = np.argmax(train_efficient_probabilities, axis=1)\n",
    "train_vgg_prediction = np.argmax(train_vgg_probabilities, axis=1)"
   ]
  },
  {
   "cell_type": "markdown",
   "id": "a0d61204",
   "metadata": {
    "papermill": {
     "duration": 0.091755,
     "end_time": "2023-05-09T09:13:12.613162",
     "exception": false,
     "start_time": "2023-05-09T09:13:12.521407",
     "status": "completed"
    },
    "tags": []
   },
   "source": [
    "#### Test"
   ]
  },
  {
   "cell_type": "code",
   "execution_count": 27,
   "id": "006849e1",
   "metadata": {
    "execution": {
     "iopub.execute_input": "2023-05-09T09:13:12.798721Z",
     "iopub.status.busy": "2023-05-09T09:13:12.796986Z",
     "iopub.status.idle": "2023-05-09T09:13:27.922834Z",
     "shell.execute_reply": "2023-05-09T09:13:27.921806Z"
    },
    "executionInfo": {
     "elapsed": 13216,
     "status": "ok",
     "timestamp": 1683538044758,
     "user": {
      "displayName": "Datt Patel",
      "userId": "03546091703206854124"
     },
     "user_tz": 420
    },
    "id": "4QnNu7X7rxhZ",
    "outputId": "74495046-0428-4f59-dc82-87fbbca885f4",
    "papermill": {
     "duration": 15.220546,
     "end_time": "2023-05-09T09:13:27.925346",
     "exception": false,
     "start_time": "2023-05-09T09:13:12.704800",
     "status": "completed"
    },
    "tags": []
   },
   "outputs": [
    {
     "name": "stdout",
     "output_type": "stream",
     "text": [
      "3/3 [==============================] - 5s 1s/step\n",
      "3/3 [==============================] - 5s 1s/step\n",
      "3/3 [==============================] - 5s 2s/step\n"
     ]
    }
   ],
   "source": [
    "test_resnet_probabilities = resnet_model.predict(batched_test)\n",
    "test_efficient_probabilities = efficient_model.predict(batched_test)\n",
    "test_vgg_probabilities = vgg_model.predict(batched_test)\n",
    "\n",
    "# Pick class with highest probabilty\n",
    "test_resnet_prediction = np.argmax(test_resnet_probabilities, axis=1)\n",
    "test_efficient_prediction = np.argmax(test_efficient_probabilities, axis=1)\n",
    "test_vgg_prediction = np.argmax(test_vgg_probabilities, axis=1)"
   ]
  },
  {
   "cell_type": "markdown",
   "id": "6eefcb92",
   "metadata": {
    "id": "OCgJlCAnxj0-",
    "papermill": {
     "duration": 0.094656,
     "end_time": "2023-05-09T09:13:28.118880",
     "exception": false,
     "start_time": "2023-05-09T09:13:28.024224",
     "status": "completed"
    },
    "tags": []
   },
   "source": [
    "### Analysis of Image Models"
   ]
  },
  {
   "cell_type": "markdown",
   "id": "6f5e5c20",
   "metadata": {
    "papermill": {
     "duration": 0.096242,
     "end_time": "2023-05-09T09:13:28.310039",
     "exception": false,
     "start_time": "2023-05-09T09:13:28.213797",
     "status": "completed"
    },
    "tags": []
   },
   "source": [
    "All methods below from: \n",
    "https://www.kaggle.com/code/nkitgupta/evaluation-metrics-for-multi-class-classification"
   ]
  },
  {
   "cell_type": "code",
   "execution_count": 28,
   "id": "4d9dcf16",
   "metadata": {
    "execution": {
     "iopub.execute_input": "2023-05-09T09:13:28.499908Z",
     "iopub.status.busy": "2023-05-09T09:13:28.499564Z",
     "iopub.status.idle": "2023-05-09T09:13:28.505505Z",
     "shell.execute_reply": "2023-05-09T09:13:28.504561Z"
    },
    "executionInfo": {
     "elapsed": 120,
     "status": "ok",
     "timestamp": 1683540542278,
     "user": {
      "displayName": "Datt Patel",
      "userId": "03546091703206854124"
     },
     "user_tz": 420
    },
    "id": "e_s-Ccv4zoKX",
    "papermill": {
     "duration": 0.103418,
     "end_time": "2023-05-09T09:13:28.507687",
     "exception": false,
     "start_time": "2023-05-09T09:13:28.404269",
     "status": "completed"
    },
    "tags": []
   },
   "outputs": [],
   "source": [
    "def findaccuracy(y_true, y_pred):\n",
    "    # Intitializing variable to store count of correctly predicted classes\n",
    "    correct_predictions = 0    \n",
    "    for yt, yp in zip(y_true, y_pred):\n",
    "        if yt == yp:            \n",
    "            correct_predictions += 1\n",
    "    return correct_predictions / len(y_true)"
   ]
  },
  {
   "cell_type": "code",
   "execution_count": 29,
   "id": "0b7878eb",
   "metadata": {
    "execution": {
     "iopub.execute_input": "2023-05-09T09:13:28.699475Z",
     "iopub.status.busy": "2023-05-09T09:13:28.698388Z",
     "iopub.status.idle": "2023-05-09T09:13:28.708788Z",
     "shell.execute_reply": "2023-05-09T09:13:28.707921Z"
    },
    "executionInfo": {
     "elapsed": 529,
     "status": "ok",
     "timestamp": 1683541494537,
     "user": {
      "displayName": "Datt Patel",
      "userId": "03546091703206854124"
     },
     "user_tz": 420
    },
    "id": "972PltMtzoIF",
    "papermill": {
     "duration": 0.10828,
     "end_time": "2023-05-09T09:13:28.710687",
     "exception": false,
     "start_time": "2023-05-09T09:13:28.602407",
     "status": "completed"
    },
    "tags": []
   },
   "outputs": [],
   "source": [
    "# Functions to compute True Positives, True Negatives, False Positives and False Negatives\n",
    "def true_positive(y_true, y_pred):\n",
    "    tp = 0\n",
    "    for yt, yp in zip(y_true, y_pred):        \n",
    "        if yt == 1 and yp == 1:\n",
    "            tp += 1\n",
    "    return tp\n",
    "\n",
    "def true_negative(y_true, y_pred):    \n",
    "    tn = 0\n",
    "    for yt, yp in zip(y_true, y_pred):        \n",
    "        if yt == 0 and yp == 0:\n",
    "            tn += 1\n",
    "    return tn\n",
    "\n",
    "def false_positive(y_true, y_pred):    \n",
    "    fp = 0\n",
    "    for yt, yp in zip(y_true, y_pred):\n",
    "        if yt == 0 and yp == 1:\n",
    "            fp += 1            \n",
    "    return fp\n",
    "\n",
    "def false_negative(y_true, y_pred):\n",
    "    fn = 0    \n",
    "    for yt, yp in zip(y_true, y_pred):\n",
    "        if yt == 1 and yp == 0:\n",
    "            fn += 1            \n",
    "    return fn\n",
    "#Computation of macro-averaged precision\n",
    "\n",
    "def macro_precision(y_true, y_pred):\n",
    "    # find the number of classes\n",
    "    num_classes = len(np.unique(y_true))\n",
    "    # initialize precision to 0\n",
    "    precision = 0\n",
    "    # loop over all classes\n",
    "    for class_ in np.unique(y_true):\n",
    "        # all classes except current are considered negative\n",
    "        temp_true = [1 if p == class_ else 0 for p in y_true]\n",
    "        temp_pred = [1 if p == class_ else 0 for p in y_pred]\n",
    "        # compute true positive for current class\n",
    "        tp = true_positive(temp_true, temp_pred)\n",
    "        # compute false positive for current class\n",
    "        fp = false_positive(temp_true, temp_pred)\n",
    "        # compute precision for current class\n",
    "        temp_precision = tp / (tp + fp + 1e-6)\n",
    "        # keep adding precision for all classes\n",
    "        precision += temp_precision\n",
    "    # calculate and return average precision over all classes\n",
    "    precision /= num_classes\n",
    "    return precision"
   ]
  },
  {
   "cell_type": "code",
   "execution_count": 30,
   "id": "3be95715",
   "metadata": {
    "execution": {
     "iopub.execute_input": "2023-05-09T09:13:28.899231Z",
     "iopub.status.busy": "2023-05-09T09:13:28.898859Z",
     "iopub.status.idle": "2023-05-09T09:13:28.906568Z",
     "shell.execute_reply": "2023-05-09T09:13:28.905661Z"
    },
    "executionInfo": {
     "elapsed": 1,
     "status": "ok",
     "timestamp": 1683541495127,
     "user": {
      "displayName": "Datt Patel",
      "userId": "03546091703206854124"
     },
     "user_tz": 420
    },
    "id": "t06mVemxzoFW",
    "papermill": {
     "duration": 0.10474,
     "end_time": "2023-05-09T09:13:28.908425",
     "exception": false,
     "start_time": "2023-05-09T09:13:28.803685",
     "status": "completed"
    },
    "tags": []
   },
   "outputs": [],
   "source": [
    "def macro_recall(y_true, y_pred):\n",
    "    # find the number of classes\n",
    "    num_classes = len(np.unique(y_true))\n",
    "    # initialize recall to 0\n",
    "    recall = 0\n",
    "    # loop over all classes\n",
    "    for class_ in np.unique(y_true):\n",
    "        # all classes except current are considered negative\n",
    "        temp_true = [1 if p == class_ else 0 for p in y_true]\n",
    "        temp_pred = [1 if p == class_ else 0 for p in y_pred]\n",
    "        # compute true positive for current class\n",
    "        tp = true_positive(temp_true, temp_pred)\n",
    "        # compute false negative for current class\n",
    "        fn = false_negative(temp_true, temp_pred)\n",
    "        # compute recall for current class\n",
    "        temp_recall = tp / (tp + fn + 1e-6)\n",
    "        # keep adding recall for all classes\n",
    "        recall += temp_recall\n",
    "    # calculate and return average recall over all classes\n",
    "    recall /= num_classes\n",
    "    return recall"
   ]
  },
  {
   "cell_type": "code",
   "execution_count": 31,
   "id": "3d5ec98c",
   "metadata": {
    "execution": {
     "iopub.execute_input": "2023-05-09T09:13:29.098352Z",
     "iopub.status.busy": "2023-05-09T09:13:29.097979Z",
     "iopub.status.idle": "2023-05-09T09:13:29.104751Z",
     "shell.execute_reply": "2023-05-09T09:13:29.103871Z"
    },
    "executionInfo": {
     "elapsed": 220,
     "status": "ok",
     "timestamp": 1683541496974,
     "user": {
      "displayName": "Datt Patel",
      "userId": "03546091703206854124"
     },
     "user_tz": 420
    },
    "id": "VUMhIDtZzoAw",
    "papermill": {
     "duration": 0.104743,
     "end_time": "2023-05-09T09:13:29.106617",
     "exception": false,
     "start_time": "2023-05-09T09:13:29.001874",
     "status": "completed"
    },
    "tags": []
   },
   "outputs": [],
   "source": [
    "def macro_f1(y_true, y_pred):\n",
    "    # find the number of classes\n",
    "    num_classes = len(np.unique(y_true))\n",
    "    # initialize f1 to 0\n",
    "    f1 = 0\n",
    "    # loop over all classes\n",
    "    for class_ in np.unique(y_true):\n",
    "        # all classes except current are considered negative\n",
    "        temp_true = [1 if p == class_ else 0 for p in y_true]\n",
    "        temp_pred = [1 if p == class_ else 0 for p in y_pred]\n",
    "        # compute true positive for current class\n",
    "        tp = true_positive(temp_true, temp_pred)\n",
    "        # compute false negative for current class\n",
    "        fn = false_negative(temp_true, temp_pred)\n",
    "        # compute false positive for current class\n",
    "        fp = false_positive(temp_true, temp_pred)\n",
    "        # compute recall for current class\n",
    "        temp_recall = tp / (tp + fn + 1e-6)\n",
    "        # compute precision for current class\n",
    "        temp_precision = tp / (tp + fp + 1e-6)\n",
    "        temp_f1 = 2 * temp_precision * temp_recall / (temp_precision + temp_recall + 1e-6)\n",
    "        # keep adding f1 score for all classes\n",
    "        f1 += temp_f1\n",
    "    # calculate and return average f1 score over all classes\n",
    "    f1 /= num_classes\n",
    "    return f1"
   ]
  },
  {
   "cell_type": "code",
   "execution_count": 32,
   "id": "635f19ce",
   "metadata": {
    "execution": {
     "iopub.execute_input": "2023-05-09T09:13:29.297302Z",
     "iopub.status.busy": "2023-05-09T09:13:29.296396Z",
     "iopub.status.idle": "2023-05-09T09:13:29.302677Z",
     "shell.execute_reply": "2023-05-09T09:13:29.301838Z"
    },
    "executionInfo": {
     "elapsed": 136,
     "status": "ok",
     "timestamp": 1683541515041,
     "user": {
      "displayName": "Datt Patel",
      "userId": "03546091703206854124"
     },
     "user_tz": 420
    },
    "id": "wLSDG3olxmro",
    "papermill": {
     "duration": 0.10392,
     "end_time": "2023-05-09T09:13:29.304540",
     "exception": false,
     "start_time": "2023-05-09T09:13:29.200620",
     "status": "completed"
    },
    "tags": []
   },
   "outputs": [],
   "source": [
    "\n",
    "def printResults(model_name, y_true, y_prediction):\n",
    "    print(\"Results for model {}\".format(model_name))\n",
    "    # Calculate the confusion matrix\n",
    "    cm = confusion_matrix( y_true, y_prediction)\n",
    "    print(\"Confusion Matrix:\\n\", cm)\n",
    "\n",
    "    precision = macro_precision( y_true, y_prediction)\n",
    "    recall = macro_recall( y_true, y_prediction)\n",
    "    accuracy = findaccuracy( y_true, y_prediction)\n",
    "    f1 = macro_f1( y_true, y_prediction)\n",
    "\n",
    "    print(\"Precision:\", precision)\n",
    "    print(\"Recall:\", recall)\n",
    "    print(\"Accuracy:\", accuracy)\n",
    "    print(\"F1 Score:\", f1)"
   ]
  },
  {
   "cell_type": "code",
   "execution_count": 33,
   "id": "40205b2e",
   "metadata": {
    "execution": {
     "iopub.execute_input": "2023-05-09T09:13:29.547916Z",
     "iopub.status.busy": "2023-05-09T09:13:29.547544Z",
     "iopub.status.idle": "2023-05-09T09:14:19.734616Z",
     "shell.execute_reply": "2023-05-09T09:14:19.733660Z"
    },
    "executionInfo": {
     "elapsed": 477,
     "status": "ok",
     "timestamp": 1683539092184,
     "user": {
      "displayName": "Datt Patel",
      "userId": "03546091703206854124"
     },
     "user_tz": 420
    },
    "id": "J4u0561EsEFR",
    "papermill": {
     "duration": 50.337339,
     "end_time": "2023-05-09T09:14:19.736850",
     "exception": false,
     "start_time": "2023-05-09T09:13:29.399511",
     "status": "completed"
    },
    "tags": []
   },
   "outputs": [],
   "source": [
    "testing_labels = []\n",
    "for img, label in (batched_test.take(len(batched_test))):\n",
    "    testing_labels += list(label.numpy())\n",
    "testing_labels = np.array(testing_labels)\n",
    "\n",
    "training_labels = []\n",
    "for img, label in (batched_augmented_train.take(len(batched_augmented_train))):\n",
    "    training_labels += list(label.numpy())\n",
    "training_labels = np.array(training_labels)"
   ]
  },
  {
   "cell_type": "markdown",
   "id": "bfa3049f",
   "metadata": {
    "id": "peH3XpD42hRn",
    "papermill": {
     "duration": 0.092689,
     "end_time": "2023-05-09T09:14:19.923830",
     "exception": false,
     "start_time": "2023-05-09T09:14:19.831141",
     "status": "completed"
    },
    "tags": []
   },
   "source": [
    "#### Train "
   ]
  },
  {
   "cell_type": "code",
   "execution_count": 34,
   "id": "4c4e058c",
   "metadata": {
    "execution": {
     "iopub.execute_input": "2023-05-09T09:14:20.109947Z",
     "iopub.status.busy": "2023-05-09T09:14:20.109606Z",
     "iopub.status.idle": "2023-05-09T09:14:20.197103Z",
     "shell.execute_reply": "2023-05-09T09:14:20.196106Z"
    },
    "executionInfo": {
     "elapsed": 877,
     "status": "ok",
     "timestamp": 1683541518785,
     "user": {
      "displayName": "Datt Patel",
      "userId": "03546091703206854124"
     },
     "user_tz": 420
    },
    "id": "56lX7zeC2g91",
    "outputId": "2a2b9a5a-aa3d-4242-8a20-67b39f370ce7",
    "papermill": {
     "duration": 0.183621,
     "end_time": "2023-05-09T09:14:20.199441",
     "exception": false,
     "start_time": "2023-05-09T09:14:20.015820",
     "status": "completed"
    },
    "tags": []
   },
   "outputs": [
    {
     "name": "stdout",
     "output_type": "stream",
     "text": [
      "Results for model ResNet50\n",
      "Confusion Matrix:\n",
      " [[1923  116  142  357   32]\n",
      " [   5 1670    9   14   27]\n",
      " [   9   20 2062   33   96]\n",
      " [ 181  148   70 2056   50]\n",
      " [  12  404  106   37 1813]]\n",
      "Precision: 0.8391938387043817\n",
      "Recall: 0.846057234931067\n",
      "Accuracy: 0.8360252808988764\n",
      "F1 Score: 0.8358263466039271\n"
     ]
    }
   ],
   "source": [
    "printResults('ResNet50', training_labels, train_resnet_prediction)"
   ]
  },
  {
   "cell_type": "code",
   "execution_count": 35,
   "id": "1c79366b",
   "metadata": {
    "execution": {
     "iopub.execute_input": "2023-05-09T09:14:20.387881Z",
     "iopub.status.busy": "2023-05-09T09:14:20.387557Z",
     "iopub.status.idle": "2023-05-09T09:14:20.473817Z",
     "shell.execute_reply": "2023-05-09T09:14:20.472628Z"
    },
    "executionInfo": {
     "elapsed": 743,
     "status": "ok",
     "timestamp": 1683541521044,
     "user": {
      "displayName": "Datt Patel",
      "userId": "03546091703206854124"
     },
     "user_tz": 420
    },
    "id": "c8wdoODV2g4C",
    "outputId": "67059a26-4128-435e-f852-c0f45eba9895",
    "papermill": {
     "duration": 0.183455,
     "end_time": "2023-05-09T09:14:20.475837",
     "exception": false,
     "start_time": "2023-05-09T09:14:20.292382",
     "status": "completed"
    },
    "tags": []
   },
   "outputs": [
    {
     "name": "stdout",
     "output_type": "stream",
     "text": [
      "Results for model EfficientNetB0\n",
      "Confusion Matrix:\n",
      " [[2190  158  119   97    6]\n",
      " [  14 1675   12   20    4]\n",
      " [ 166   66 1905   70   13]\n",
      " [ 612  405  201 1246   41]\n",
      " [  30 1675  214   89  364]]\n",
      "Precision: 0.7188824801363274\n",
      "Recall: 0.6664249730145773\n",
      "Accuracy: 0.6478230337078652\n",
      "F1 Score: 0.6132928214057373\n"
     ]
    }
   ],
   "source": [
    "printResults('EfficientNetB0', training_labels, train_efficient_prediction)"
   ]
  },
  {
   "cell_type": "code",
   "execution_count": 36,
   "id": "abd78cd7",
   "metadata": {
    "execution": {
     "iopub.execute_input": "2023-05-09T09:14:20.667751Z",
     "iopub.status.busy": "2023-05-09T09:14:20.667407Z",
     "iopub.status.idle": "2023-05-09T09:14:20.753677Z",
     "shell.execute_reply": "2023-05-09T09:14:20.752450Z"
    },
    "executionInfo": {
     "elapsed": 286,
     "status": "ok",
     "timestamp": 1683541522262,
     "user": {
      "displayName": "Datt Patel",
      "userId": "03546091703206854124"
     },
     "user_tz": 420
    },
    "id": "VSBo7Jvg2gsk",
    "outputId": "6a9eda59-eabf-48b6-c534-5f7bb188f3a1",
    "papermill": {
     "duration": 0.184978,
     "end_time": "2023-05-09T09:14:20.755685",
     "exception": false,
     "start_time": "2023-05-09T09:14:20.570707",
     "status": "completed"
    },
    "tags": []
   },
   "outputs": [
    {
     "name": "stdout",
     "output_type": "stream",
     "text": [
      "Results for model VGG16\n",
      "Confusion Matrix:\n",
      " [[ 811  213   57 1319  170]\n",
      " [  18 1262    8  329  108]\n",
      " [ 157  113  998  601  351]\n",
      " [ 225  314   79 1760  127]\n",
      " [  59  478  123  384 1328]]\n",
      "Precision: 0.5991282089365557\n",
      "Recall: 0.5518335713289599\n",
      "Accuracy: 0.5406425561797753\n",
      "F1 Score: 0.5432673659118464\n"
     ]
    }
   ],
   "source": [
    "printResults('VGG16', training_labels, train_vgg_prediction)"
   ]
  },
  {
   "cell_type": "markdown",
   "id": "67bbdf42",
   "metadata": {
    "id": "nhSELG_w2ike",
    "papermill": {
     "duration": 0.093026,
     "end_time": "2023-05-09T09:14:20.941739",
     "exception": false,
     "start_time": "2023-05-09T09:14:20.848713",
     "status": "completed"
    },
    "tags": []
   },
   "source": [
    "#### Test"
   ]
  },
  {
   "cell_type": "code",
   "execution_count": 37,
   "id": "da78456c",
   "metadata": {
    "execution": {
     "iopub.execute_input": "2023-05-09T09:14:21.129693Z",
     "iopub.status.busy": "2023-05-09T09:14:21.129358Z",
     "iopub.status.idle": "2023-05-09T09:14:21.139433Z",
     "shell.execute_reply": "2023-05-09T09:14:21.138079Z"
    },
    "executionInfo": {
     "elapsed": 131,
     "status": "ok",
     "timestamp": 1683541523928,
     "user": {
      "displayName": "Datt Patel",
      "userId": "03546091703206854124"
     },
     "user_tz": 420
    },
    "id": "mOSTLcixwC9E",
    "outputId": "99e7335c-66ee-4fca-92c2-13cde9ed61cb",
    "papermill": {
     "duration": 0.106728,
     "end_time": "2023-05-09T09:14:21.141209",
     "exception": false,
     "start_time": "2023-05-09T09:14:21.034481",
     "status": "completed"
    },
    "tags": []
   },
   "outputs": [
    {
     "name": "stdout",
     "output_type": "stream",
     "text": [
      "Results for model ResNet50\n",
      "Confusion Matrix:\n",
      " [[88  3  7  9  2]\n",
      " [ 0 71  0  0  2]\n",
      " [ 0  1 92  0  1]\n",
      " [ 8  3  1 93  1]\n",
      " [ 0  1  0  0  1]]\n",
      "Precision: 0.7580045266298658\n",
      "Recall: 0.8272047589339534\n",
      "Accuracy: 0.8984375\n",
      "F1 Score: 0.7715302561460845\n"
     ]
    }
   ],
   "source": [
    "printResults('ResNet50', testing_labels, test_resnet_prediction)"
   ]
  },
  {
   "cell_type": "code",
   "execution_count": 38,
   "id": "a900a431",
   "metadata": {
    "execution": {
     "iopub.execute_input": "2023-05-09T09:14:21.330747Z",
     "iopub.status.busy": "2023-05-09T09:14:21.330099Z",
     "iopub.status.idle": "2023-05-09T09:14:21.341706Z",
     "shell.execute_reply": "2023-05-09T09:14:21.340582Z"
    },
    "executionInfo": {
     "elapsed": 175,
     "status": "ok",
     "timestamp": 1683541525422,
     "user": {
      "displayName": "Datt Patel",
      "userId": "03546091703206854124"
     },
     "user_tz": 420
    },
    "id": "YXLmS4Rm1xFU",
    "outputId": "0fdc421d-dee0-4ac8-b2ca-e26d9abb4d1f",
    "papermill": {
     "duration": 0.108447,
     "end_time": "2023-05-09T09:14:21.343424",
     "exception": false,
     "start_time": "2023-05-09T09:14:21.234977",
     "status": "completed"
    },
    "tags": []
   },
   "outputs": [
    {
     "name": "stdout",
     "output_type": "stream",
     "text": [
      "Results for model EfficientNetB0\n",
      "Confusion Matrix:\n",
      " [[102   5   2   0   0]\n",
      " [  0  72   0   1   0]\n",
      " [  7   2  83   2   0]\n",
      " [ 21  17   6  62   0]\n",
      " [  0   1   0   0   1]]\n",
      "Precision: 0.8785632906804628\n",
      "Recall: 0.7779930566302065\n",
      "Accuracy: 0.8333333333333334\n",
      "F1 Score: 0.7979445180406661\n"
     ]
    }
   ],
   "source": [
    "printResults('EfficientNetB0', testing_labels, test_efficient_prediction)"
   ]
  },
  {
   "cell_type": "code",
   "execution_count": 39,
   "id": "576b0ade",
   "metadata": {
    "execution": {
     "iopub.execute_input": "2023-05-09T09:14:21.536405Z",
     "iopub.status.busy": "2023-05-09T09:14:21.535572Z",
     "iopub.status.idle": "2023-05-09T09:14:21.547236Z",
     "shell.execute_reply": "2023-05-09T09:14:21.546011Z"
    },
    "executionInfo": {
     "elapsed": 784,
     "status": "ok",
     "timestamp": 1683541527385,
     "user": {
      "displayName": "Datt Patel",
      "userId": "03546091703206854124"
     },
     "user_tz": 420
    },
    "id": "T884KQOU1xa9",
    "outputId": "24c31107-930c-4d53-e82e-d7b545501c86",
    "papermill": {
     "duration": 0.109795,
     "end_time": "2023-05-09T09:14:21.549292",
     "exception": false,
     "start_time": "2023-05-09T09:14:21.439497",
     "status": "completed"
    },
    "tags": []
   },
   "outputs": [
    {
     "name": "stdout",
     "output_type": "stream",
     "text": [
      "Results for model VGG16\n",
      "Confusion Matrix:\n",
      " [[35  7  3 62  2]\n",
      " [ 1 55  0 15  2]\n",
      " [ 4  1 54 28  7]\n",
      " [16 11  3 75  1]\n",
      " [ 0  0  1  0  1]]\n",
      "Precision: 0.5494157689047175\n",
      "Recall: 0.5713081107660334\n",
      "Accuracy: 0.5729166666666666\n",
      "F1 Score: 0.5054245252416285\n"
     ]
    }
   ],
   "source": [
    "printResults('VGG16', testing_labels, test_vgg_prediction)"
   ]
  },
  {
   "cell_type": "markdown",
   "id": "ae108d3e",
   "metadata": {
    "id": "5Xl56Kqs3FDG",
    "papermill": {
     "duration": 0.09328,
     "end_time": "2023-05-09T09:14:21.736097",
     "exception": false,
     "start_time": "2023-05-09T09:14:21.642817",
     "status": "completed"
    },
    "tags": []
   },
   "source": [
    "### Video Analysis"
   ]
  },
  {
   "cell_type": "markdown",
   "id": "e393d8c8",
   "metadata": {
    "papermill": {
     "duration": 0.09253,
     "end_time": "2023-05-09T09:14:21.921354",
     "exception": false,
     "start_time": "2023-05-09T09:14:21.828824",
     "status": "completed"
    },
    "tags": []
   },
   "source": [
    "##### Retrain"
   ]
  },
  {
   "cell_type": "code",
   "execution_count": 40,
   "id": "b2685e5b",
   "metadata": {
    "execution": {
     "iopub.execute_input": "2023-05-09T09:14:22.109277Z",
     "iopub.status.busy": "2023-05-09T09:14:22.108922Z",
     "iopub.status.idle": "2023-05-09T09:18:36.691766Z",
     "shell.execute_reply": "2023-05-09T09:18:36.690869Z"
    },
    "papermill": {
     "duration": 254.679875,
     "end_time": "2023-05-09T09:18:36.693763",
     "exception": false,
     "start_time": "2023-05-09T09:14:22.013888",
     "status": "completed"
    },
    "tags": []
   },
   "outputs": [
    {
     "name": "stdout",
     "output_type": "stream",
     "text": [
      "Epoch 1/50\n",
      "3/3 [==============================] - 10s 4s/step - loss: 1.3571 - accuracy: 0.5260 - val_loss: 1.1355 - val_accuracy: 0.8984\n",
      "Epoch 2/50\n",
      "3/3 [==============================] - 10s 4s/step - loss: 1.3434 - accuracy: 0.5807 - val_loss: 1.1259 - val_accuracy: 0.9010\n",
      "Epoch 3/50\n",
      "3/3 [==============================] - 10s 4s/step - loss: 1.3138 - accuracy: 0.5599 - val_loss: 1.1047 - val_accuracy: 0.8828\n",
      "Epoch 4/50\n",
      "3/3 [==============================] - 10s 4s/step - loss: 1.2888 - accuracy: 0.5625 - val_loss: 1.0399 - val_accuracy: 0.8932\n",
      "Epoch 5/50\n",
      "3/3 [==============================] - 11s 4s/step - loss: 1.2657 - accuracy: 0.5833 - val_loss: 0.9726 - val_accuracy: 0.9089\n",
      "Epoch 6/50\n",
      "3/3 [==============================] - 10s 4s/step - loss: 1.2421 - accuracy: 0.5755 - val_loss: 0.9097 - val_accuracy: 0.9062\n",
      "Epoch 7/50\n",
      "3/3 [==============================] - 10s 4s/step - loss: 1.2078 - accuracy: 0.6042 - val_loss: 0.9219 - val_accuracy: 0.8620\n",
      "Epoch 8/50\n",
      "3/3 [==============================] - 11s 4s/step - loss: 1.1771 - accuracy: 0.6068 - val_loss: 0.8991 - val_accuracy: 0.8698\n",
      "Epoch 9/50\n",
      "3/3 [==============================] - 10s 4s/step - loss: 1.1703 - accuracy: 0.5781 - val_loss: 0.8480 - val_accuracy: 0.8958\n",
      "Epoch 10/50\n",
      "3/3 [==============================] - 10s 4s/step - loss: 1.1474 - accuracy: 0.5964 - val_loss: 0.8238 - val_accuracy: 0.8906\n",
      "Epoch 11/50\n",
      "3/3 [==============================] - 10s 4s/step - loss: 1.1162 - accuracy: 0.6172 - val_loss: 0.7934 - val_accuracy: 0.8906\n",
      "Epoch 12/50\n",
      "3/3 [==============================] - 10s 4s/step - loss: 1.1088 - accuracy: 0.6224 - val_loss: 0.7627 - val_accuracy: 0.9219\n",
      "Epoch 13/50\n",
      "3/3 [==============================] - 11s 4s/step - loss: 1.0835 - accuracy: 0.6484 - val_loss: 0.7151 - val_accuracy: 0.9141\n",
      "Epoch 14/50\n",
      "3/3 [==============================] - 10s 4s/step - loss: 1.0743 - accuracy: 0.6406 - val_loss: 0.7447 - val_accuracy: 0.9271\n",
      "Epoch 15/50\n",
      "3/3 [==============================] - 10s 4s/step - loss: 1.0581 - accuracy: 0.6328 - val_loss: 0.6869 - val_accuracy: 0.9401\n",
      "Epoch 16/50\n",
      "3/3 [==============================] - 10s 4s/step - loss: 1.0155 - accuracy: 0.6797 - val_loss: 0.7051 - val_accuracy: 0.9323\n",
      "Epoch 17/50\n",
      "3/3 [==============================] - 10s 4s/step - loss: 1.0070 - accuracy: 0.6745 - val_loss: 0.6791 - val_accuracy: 0.9531\n",
      "Epoch 18/50\n",
      "3/3 [==============================] - 10s 4s/step - loss: 1.0023 - accuracy: 0.6641 - val_loss: 0.6961 - val_accuracy: 0.9505\n",
      "Epoch 19/50\n",
      "3/3 [==============================] - 10s 4s/step - loss: 0.9678 - accuracy: 0.6901 - val_loss: 0.6232 - val_accuracy: 0.9661\n",
      "Epoch 20/50\n",
      "3/3 [==============================] - 10s 4s/step - loss: 0.9549 - accuracy: 0.6953 - val_loss: 0.6263 - val_accuracy: 0.9609\n",
      "Epoch 21/50\n",
      "3/3 [==============================] - 10s 4s/step - loss: 0.9433 - accuracy: 0.6927 - val_loss: 0.6053 - val_accuracy: 0.9609\n",
      "Epoch 22/50\n",
      "3/3 [==============================] - 10s 4s/step - loss: 0.9241 - accuracy: 0.7031 - val_loss: 0.5825 - val_accuracy: 0.9844\n",
      "Epoch 23/50\n",
      "3/3 [==============================] - 10s 4s/step - loss: 0.9221 - accuracy: 0.7005 - val_loss: 0.5982 - val_accuracy: 0.9609\n",
      "Epoch 24/50\n",
      "3/3 [==============================] - ETA: 0s - loss: 0.9040 - accuracy: 0.7214Restoring model weights from the end of the best epoch: 22.\n",
      "3/3 [==============================] - 10s 4s/step - loss: 0.9040 - accuracy: 0.7214 - val_loss: 0.5827 - val_accuracy: 0.9661\n",
      "Epoch 24: early stopping\n"
     ]
    }
   ],
   "source": [
    "vide_resnet_history = resnet_model.fit(batched_val, epochs=EPOCHS, batch_size=FIT_BATCH, callbacks=[early_stopper], verbose=1, validation_data=batched_test)"
   ]
  },
  {
   "cell_type": "code",
   "execution_count": 41,
   "id": "1ecb6d85",
   "metadata": {
    "execution": {
     "iopub.execute_input": "2023-05-09T09:18:36.901638Z",
     "iopub.status.busy": "2023-05-09T09:18:36.900526Z",
     "iopub.status.idle": "2023-05-09T09:23:21.797665Z",
     "shell.execute_reply": "2023-05-09T09:23:21.796786Z"
    },
    "papermill": {
     "duration": 285.002071,
     "end_time": "2023-05-09T09:23:21.799777",
     "exception": false,
     "start_time": "2023-05-09T09:18:36.797706",
     "status": "completed"
    },
    "tags": []
   },
   "outputs": [
    {
     "name": "stdout",
     "output_type": "stream",
     "text": [
      "Epoch 1/50\n",
      "3/3 [==============================] - 10s 4s/step - loss: 1.4603 - accuracy: 0.4193 - val_loss: 0.8530 - val_accuracy: 0.8359\n",
      "Epoch 2/50\n",
      "3/3 [==============================] - 10s 4s/step - loss: 1.3931 - accuracy: 0.4505 - val_loss: 0.8310 - val_accuracy: 0.8281\n",
      "Epoch 3/50\n",
      "3/3 [==============================] - 10s 4s/step - loss: 1.3205 - accuracy: 0.4922 - val_loss: 0.6953 - val_accuracy: 0.8906\n",
      "Epoch 4/50\n",
      "3/3 [==============================] - 10s 4s/step - loss: 1.2695 - accuracy: 0.4896 - val_loss: 0.5957 - val_accuracy: 0.9193\n",
      "Epoch 5/50\n",
      "3/3 [==============================] - 10s 4s/step - loss: 1.2466 - accuracy: 0.5599 - val_loss: 0.5248 - val_accuracy: 0.9297\n",
      "Epoch 6/50\n",
      "3/3 [==============================] - 10s 4s/step - loss: 1.1869 - accuracy: 0.5573 - val_loss: 0.5012 - val_accuracy: 0.9193\n",
      "Epoch 7/50\n",
      "3/3 [==============================] - 10s 4s/step - loss: 1.1214 - accuracy: 0.5443 - val_loss: 0.4416 - val_accuracy: 0.9375\n",
      "Epoch 8/50\n",
      "3/3 [==============================] - 10s 4s/step - loss: 1.0879 - accuracy: 0.6172 - val_loss: 0.3950 - val_accuracy: 0.9557\n",
      "Epoch 9/50\n",
      "3/3 [==============================] - 10s 4s/step - loss: 1.0654 - accuracy: 0.6354 - val_loss: 0.3635 - val_accuracy: 0.9609\n",
      "Epoch 10/50\n",
      "3/3 [==============================] - 10s 4s/step - loss: 1.0264 - accuracy: 0.6406 - val_loss: 0.3281 - val_accuracy: 0.9635\n",
      "Epoch 11/50\n",
      "3/3 [==============================] - 10s 4s/step - loss: 0.9764 - accuracy: 0.6719 - val_loss: 0.3225 - val_accuracy: 0.9609\n",
      "Epoch 12/50\n",
      "3/3 [==============================] - 10s 4s/step - loss: 0.9984 - accuracy: 0.6172 - val_loss: 0.2896 - val_accuracy: 0.9583\n",
      "Epoch 13/50\n",
      "3/3 [==============================] - 10s 4s/step - loss: 0.9704 - accuracy: 0.6719 - val_loss: 0.2779 - val_accuracy: 0.9688\n",
      "Epoch 14/50\n",
      "3/3 [==============================] - 10s 4s/step - loss: 0.9359 - accuracy: 0.6901 - val_loss: 0.2765 - val_accuracy: 0.9766\n",
      "Epoch 15/50\n",
      "3/3 [==============================] - 10s 4s/step - loss: 0.9334 - accuracy: 0.6849 - val_loss: 0.2494 - val_accuracy: 0.9766\n",
      "Epoch 16/50\n",
      "3/3 [==============================] - 10s 4s/step - loss: 0.9301 - accuracy: 0.7005 - val_loss: 0.2457 - val_accuracy: 0.9818\n",
      "Epoch 17/50\n",
      "3/3 [==============================] - 10s 4s/step - loss: 0.9209 - accuracy: 0.7135 - val_loss: 0.2749 - val_accuracy: 0.9635\n",
      "Epoch 18/50\n",
      "3/3 [==============================] - 10s 4s/step - loss: 0.9014 - accuracy: 0.6953 - val_loss: 0.2351 - val_accuracy: 0.9766\n",
      "Epoch 19/50\n",
      "3/3 [==============================] - 10s 4s/step - loss: 0.8396 - accuracy: 0.7344 - val_loss: 0.2555 - val_accuracy: 0.9714\n",
      "Epoch 20/50\n",
      "3/3 [==============================] - 10s 4s/step - loss: 0.8588 - accuracy: 0.7318 - val_loss: 0.2326 - val_accuracy: 0.9818\n",
      "Epoch 21/50\n",
      "3/3 [==============================] - 14s 6s/step - loss: 0.8200 - accuracy: 0.7396 - val_loss: 0.2364 - val_accuracy: 0.9818\n",
      "Epoch 22/50\n",
      "3/3 [==============================] - 10s 4s/step - loss: 0.8141 - accuracy: 0.7500 - val_loss: 0.2000 - val_accuracy: 0.9818\n",
      "Epoch 23/50\n",
      "3/3 [==============================] - 9s 4s/step - loss: 0.8244 - accuracy: 0.7552 - val_loss: 0.2095 - val_accuracy: 0.9818\n",
      "Epoch 24/50\n",
      "3/3 [==============================] - 10s 4s/step - loss: 0.8038 - accuracy: 0.7214 - val_loss: 0.1911 - val_accuracy: 0.9818\n",
      "Epoch 25/50\n",
      "3/3 [==============================] - 10s 4s/step - loss: 0.7895 - accuracy: 0.7396 - val_loss: 0.1973 - val_accuracy: 0.9896\n",
      "Epoch 26/50\n",
      "3/3 [==============================] - ETA: 0s - loss: 0.7857 - accuracy: 0.7422Restoring model weights from the end of the best epoch: 24.\n",
      "3/3 [==============================] - 10s 4s/step - loss: 0.7857 - accuracy: 0.7422 - val_loss: 0.2023 - val_accuracy: 0.9818\n",
      "Epoch 26: early stopping\n"
     ]
    }
   ],
   "source": [
    "vide_efficient_history = efficient_model.fit(batched_val, epochs=EPOCHS, batch_size=FIT_BATCH, callbacks=[early_stopper], verbose=1, validation_data=batched_test)"
   ]
  },
  {
   "cell_type": "code",
   "execution_count": 42,
   "id": "7d580436",
   "metadata": {
    "execution": {
     "iopub.execute_input": "2023-05-09T09:23:22.023021Z",
     "iopub.status.busy": "2023-05-09T09:23:22.021478Z",
     "iopub.status.idle": "2023-05-09T09:24:22.521727Z",
     "shell.execute_reply": "2023-05-09T09:24:22.520786Z"
    },
    "papermill": {
     "duration": 60.702133,
     "end_time": "2023-05-09T09:24:22.616109",
     "exception": false,
     "start_time": "2023-05-09T09:23:21.913976",
     "status": "completed"
    },
    "tags": []
   },
   "outputs": [
    {
     "name": "stdout",
     "output_type": "stream",
     "text": [
      "Epoch 1/50\n",
      "3/3 [==============================] - 10s 4s/step - loss: 1.4928 - accuracy: 0.3203 - val_loss: 1.1713 - val_accuracy: 0.5938\n",
      "Epoch 2/50\n",
      "3/3 [==============================] - 11s 4s/step - loss: 1.4865 - accuracy: 0.3307 - val_loss: 1.0999 - val_accuracy: 0.6797\n",
      "Epoch 3/50\n",
      "3/3 [==============================] - 10s 4s/step - loss: 1.4399 - accuracy: 0.4167 - val_loss: 1.0184 - val_accuracy: 0.7083\n",
      "Epoch 4/50\n",
      "3/3 [==============================] - 10s 4s/step - loss: 1.3977 - accuracy: 0.4401 - val_loss: 1.0327 - val_accuracy: 0.7214\n",
      "Epoch 5/50\n",
      "3/3 [==============================] - ETA: 0s - loss: 1.3764 - accuracy: 0.4557Restoring model weights from the end of the best epoch: 3.\n",
      "3/3 [==============================] - 10s 4s/step - loss: 1.3764 - accuracy: 0.4557 - val_loss: 1.0427 - val_accuracy: 0.6953\n",
      "Epoch 5: early stopping\n"
     ]
    }
   ],
   "source": [
    "vide_vgg_history = vgg_model.fit(batched_val, epochs=EPOCHS, batch_size=FIT_BATCH, callbacks=[early_stopper], verbose=1, validation_data=batched_test)"
   ]
  },
  {
   "cell_type": "markdown",
   "id": "2138a493",
   "metadata": {
    "papermill": {
     "duration": 0.109597,
     "end_time": "2023-05-09T09:24:22.833596",
     "exception": false,
     "start_time": "2023-05-09T09:24:22.723999",
     "status": "completed"
    },
    "tags": []
   },
   "source": [
    "#### Analysis"
   ]
  },
  {
   "cell_type": "code",
   "execution_count": 43,
   "id": "031bd99d",
   "metadata": {
    "execution": {
     "iopub.execute_input": "2023-05-09T09:24:23.053428Z",
     "iopub.status.busy": "2023-05-09T09:24:23.052082Z",
     "iopub.status.idle": "2023-05-09T09:24:23.057843Z",
     "shell.execute_reply": "2023-05-09T09:24:23.056976Z"
    },
    "papermill": {
     "duration": 0.117802,
     "end_time": "2023-05-09T09:24:23.059727",
     "exception": false,
     "start_time": "2023-05-09T09:24:22.941925",
     "status": "completed"
    },
    "tags": []
   },
   "outputs": [],
   "source": [
    "frames_split = 100\n",
    "\n",
    "def preprocess_frame(img):\n",
    "    img = cv2.resize(img, (IMG_WID, IMG_HG))\n",
    "    img = np.expand_dims(img, axis=0)\n",
    "    return img"
   ]
  },
  {
   "cell_type": "code",
   "execution_count": 44,
   "id": "53020393",
   "metadata": {
    "execution": {
     "iopub.execute_input": "2023-05-09T09:24:23.281739Z",
     "iopub.status.busy": "2023-05-09T09:24:23.281092Z",
     "iopub.status.idle": "2023-05-09T09:24:23.286961Z",
     "shell.execute_reply": "2023-05-09T09:24:23.285902Z"
    },
    "id": "z_rE7Pi53HqO",
    "papermill": {
     "duration": 0.119218,
     "end_time": "2023-05-09T09:24:23.288907",
     "exception": false,
     "start_time": "2023-05-09T09:24:23.169689",
     "status": "completed"
    },
    "tags": []
   },
   "outputs": [],
   "source": [
    "def getFilesLabels():\n",
    "    directory_video_Files = pathlib.Path('/kaggle/input/project-images/Data/Sport Videos')\n",
    "    video_file_paths = []\n",
    "    video_file_labels = []\n",
    "    folder_to_class = {'BaseballPitch':0,'Basketball':1,'Fencing':2,'TennisSwing':3,'VolleyballSpiking':4}\n",
    "    for video_path in directory_video_Files.glob('**/*.avi'):\n",
    "        file_folder_name = os.path.basename(os.path.dirname(video_path)).split('/')[-1]\n",
    "        video_file_labels.append(folder_to_class[file_folder_name])\n",
    "        video_file_paths.append(str(video_path))\n",
    "    return video_file_paths, video_file_labels"
   ]
  },
  {
   "cell_type": "code",
   "execution_count": 45,
   "id": "0a399d0e",
   "metadata": {
    "execution": {
     "iopub.execute_input": "2023-05-09T09:24:23.512915Z",
     "iopub.status.busy": "2023-05-09T09:24:23.512605Z",
     "iopub.status.idle": "2023-05-09T09:24:23.765305Z",
     "shell.execute_reply": "2023-05-09T09:24:23.764499Z"
    },
    "papermill": {
     "duration": 0.36572,
     "end_time": "2023-05-09T09:24:23.767645",
     "exception": false,
     "start_time": "2023-05-09T09:24:23.401925",
     "status": "completed"
    },
    "tags": []
   },
   "outputs": [],
   "source": [
    "file_paths, y_true = getFilesLabels()"
   ]
  },
  {
   "cell_type": "code",
   "execution_count": 46,
   "id": "9213ab07",
   "metadata": {
    "execution": {
     "iopub.execute_input": "2023-05-09T09:24:24.031850Z",
     "iopub.status.busy": "2023-05-09T09:24:24.031513Z",
     "iopub.status.idle": "2023-05-09T09:24:24.040212Z",
     "shell.execute_reply": "2023-05-09T09:24:24.039080Z"
    },
    "papermill": {
     "duration": 0.16626,
     "end_time": "2023-05-09T09:24:24.042300",
     "exception": false,
     "start_time": "2023-05-09T09:24:23.876040",
     "status": "completed"
    },
    "tags": []
   },
   "outputs": [],
   "source": [
    "def videoPrediction(path):\n",
    "    resnet_model_prediction = []\n",
    "    efficient_model_prediction = [] \n",
    "    vgg_model_prediction = []\n",
    "    # Verify file type\n",
    "    if str(path)[-4:] == '.avi':\n",
    "        picked_frames =[]\n",
    "        cap = cv2.VideoCapture(str(path))\n",
    "        video_length = int(cap.get(cv2.CAP_PROP_FRAME_COUNT))\n",
    "        success = cap.grab()\n",
    "        while success:\n",
    "            if (len(picked_frames) < int(frames_split) or (len(picked_frames)/video_length) < 0.6):\n",
    "                success, img = cap.retrieve()\n",
    "                frame = preprocess_frame(img) # Frame as input to prediction\n",
    "                resnet_model_prediction.append(resnet_model.predict(frame, verbose=0))\n",
    "                efficient_model_prediction.append(efficient_model.predict(frame,verbose=0))\n",
    "                vgg_model_prediction.append(vgg_model.predict(frame,verbose=0))\n",
    "                success = cap.grab()\n",
    "        cap.release()\n",
    "    resnet_prediction = np.argmax(np.mean(resnet_model_prediction, axis=0)) \n",
    "    efficient_prediction = np.argmax(np.mean(efficient_model_prediction, axis=0))\n",
    "    vgg_prediction = np.argmax(np.mean(vgg_model_prediction, axis=0)) \n",
    "    return resnet_prediction,efficient_prediction,vgg_prediction"
   ]
  },
  {
   "cell_type": "code",
   "execution_count": 47,
   "id": "8074473a",
   "metadata": {
    "execution": {
     "iopub.execute_input": "2023-05-09T09:24:24.260791Z",
     "iopub.status.busy": "2023-05-09T09:24:24.260497Z",
     "iopub.status.idle": "2023-05-09T09:24:24.303179Z",
     "shell.execute_reply": "2023-05-09T09:24:24.301995Z"
    },
    "papermill": {
     "duration": 0.153938,
     "end_time": "2023-05-09T09:24:24.304992",
     "exception": false,
     "start_time": "2023-05-09T09:24:24.151054",
     "status": "completed"
    },
    "tags": []
   },
   "outputs": [
    {
     "name": "stderr",
     "output_type": "stream",
     "text": [
      "  0%|          | 0/681 [00:00<?, ?it/s]/opt/conda/lib/python3.10/site-packages/numpy/core/fromnumeric.py:3432: RuntimeWarning: Mean of empty slice.\n",
      "  return _methods._mean(a, axis=axis, dtype=dtype,\n",
      "/opt/conda/lib/python3.10/site-packages/numpy/core/_methods.py:190: RuntimeWarning: invalid value encountered in double_scalars\n",
      "  ret = ret.dtype.type(ret / rcount)\n",
      "100%|██████████| 681/681 [00:00<00:00, 20466.91it/s]\n"
     ]
    }
   ],
   "source": [
    "predicted_list = list(map(videoPrediction, tqdm(y_true)))"
   ]
  },
  {
   "cell_type": "code",
   "execution_count": 48,
   "id": "38298503",
   "metadata": {
    "execution": {
     "iopub.execute_input": "2023-05-09T09:24:24.623253Z",
     "iopub.status.busy": "2023-05-09T09:24:24.622912Z",
     "iopub.status.idle": "2023-05-09T09:24:24.628101Z",
     "shell.execute_reply": "2023-05-09T09:24:24.627134Z"
    },
    "papermill": {
     "duration": 0.116856,
     "end_time": "2023-05-09T09:24:24.629963",
     "exception": false,
     "start_time": "2023-05-09T09:24:24.513107",
     "status": "completed"
    },
    "tags": []
   },
   "outputs": [],
   "source": [
    "columnwise_predictions = list(zip(*predicted_list))\n",
    "prediction_resnet_model = columnwise_predictions[0]\n",
    "prediction_efficient__model = columnwise_predictions[1]\n",
    "prediction_vgg_model  = columnwise_predictions[2]"
   ]
  },
  {
   "cell_type": "code",
   "execution_count": 49,
   "id": "f376998f",
   "metadata": {
    "execution": {
     "iopub.execute_input": "2023-05-09T09:24:24.848478Z",
     "iopub.status.busy": "2023-05-09T09:24:24.848195Z",
     "iopub.status.idle": "2023-05-09T09:24:24.859480Z",
     "shell.execute_reply": "2023-05-09T09:24:24.858168Z"
    },
    "papermill": {
     "duration": 0.122786,
     "end_time": "2023-05-09T09:24:24.861240",
     "exception": false,
     "start_time": "2023-05-09T09:24:24.738454",
     "status": "completed"
    },
    "tags": []
   },
   "outputs": [
    {
     "name": "stdout",
     "output_type": "stream",
     "text": [
      "Results for model ResNet50\n",
      "Confusion Matrix:\n",
      " [[150   0   0   0   0]\n",
      " [137   0   0   0   0]\n",
      " [111   0   0   0   0]\n",
      " [167   0   0   0   0]\n",
      " [116   0   0   0   0]]\n",
      "Precision: 0.04405286337143486\n",
      "Recall: 0.19999999866666668\n",
      "Accuracy: 0.22026431718061673\n",
      "F1 Score: 0.07220210672197439\n"
     ]
    }
   ],
   "source": [
    "printResults('ResNet50', y_true, prediction_resnet_model)"
   ]
  },
  {
   "cell_type": "code",
   "execution_count": 50,
   "id": "52ca1b02",
   "metadata": {
    "execution": {
     "iopub.execute_input": "2023-05-09T09:24:25.084473Z",
     "iopub.status.busy": "2023-05-09T09:24:25.084173Z",
     "iopub.status.idle": "2023-05-09T09:24:25.095835Z",
     "shell.execute_reply": "2023-05-09T09:24:25.094770Z"
    },
    "papermill": {
     "duration": 0.125139,
     "end_time": "2023-05-09T09:24:25.097681",
     "exception": false,
     "start_time": "2023-05-09T09:24:24.972542",
     "status": "completed"
    },
    "tags": []
   },
   "outputs": [
    {
     "name": "stdout",
     "output_type": "stream",
     "text": [
      "Results for model EfficientNetB0\n",
      "Confusion Matrix:\n",
      " [[150   0   0   0   0]\n",
      " [137   0   0   0   0]\n",
      " [111   0   0   0   0]\n",
      " [167   0   0   0   0]\n",
      " [116   0   0   0   0]]\n",
      "Precision: 0.04405286337143486\n",
      "Recall: 0.19999999866666668\n",
      "Accuracy: 0.22026431718061673\n",
      "F1 Score: 0.07220210672197439\n"
     ]
    }
   ],
   "source": [
    "printResults('EfficientNetB0', y_true, prediction_efficient__model)"
   ]
  },
  {
   "cell_type": "code",
   "execution_count": 51,
   "id": "efdda754",
   "metadata": {
    "execution": {
     "iopub.execute_input": "2023-05-09T09:24:25.318261Z",
     "iopub.status.busy": "2023-05-09T09:24:25.317930Z",
     "iopub.status.idle": "2023-05-09T09:24:25.345460Z",
     "shell.execute_reply": "2023-05-09T09:24:25.344156Z"
    },
    "papermill": {
     "duration": 0.142269,
     "end_time": "2023-05-09T09:24:25.350010",
     "exception": false,
     "start_time": "2023-05-09T09:24:25.207741",
     "status": "completed"
    },
    "tags": []
   },
   "outputs": [
    {
     "name": "stdout",
     "output_type": "stream",
     "text": [
      "Results for model VGG16\n",
      "Confusion Matrix:\n",
      " [[150   0   0   0   0]\n",
      " [137   0   0   0   0]\n",
      " [111   0   0   0   0]\n",
      " [167   0   0   0   0]\n",
      " [116   0   0   0   0]]\n",
      "Precision: 0.04405286337143486\n",
      "Recall: 0.19999999866666668\n",
      "Accuracy: 0.22026431718061673\n",
      "F1 Score: 0.07220210672197439\n"
     ]
    }
   ],
   "source": [
    "printResults('VGG16', y_true, prediction_vgg_model)"
   ]
  },
  {
   "cell_type": "markdown",
   "id": "095a9fe7",
   "metadata": {
    "id": "BodcfKzI1_F4",
    "papermill": {
     "duration": 0.110654,
     "end_time": "2023-05-09T09:24:25.576472",
     "exception": false,
     "start_time": "2023-05-09T09:24:25.465818",
     "status": "completed"
    },
    "tags": []
   },
   "source": [
    "### References\n",
    "\n",
    "https://www.tensorflow.org/api_docs/python/tf/data/Dataset\n",
    "\n",
    "https://www.tensorflow.org/api_docs/python/tf/data/Dataset#from_tensor_slices\n",
    "\n",
    "https://www.tensorflow.org/api_docs/python/tf/data/Dataset#take\n",
    "\n",
    "https://www.kaggle.com/code/nkitgupta/evaluation-metrics-for-multi-class-classification"
   ]
  }
 ],
 "metadata": {
  "kernelspec": {
   "display_name": "Python 3",
   "language": "python",
   "name": "python3"
  },
  "language_info": {
   "codemirror_mode": {
    "name": "ipython",
    "version": 3
   },
   "file_extension": ".py",
   "mimetype": "text/x-python",
   "name": "python",
   "nbconvert_exporter": "python",
   "pygments_lexer": "ipython3",
   "version": "3.10.10"
  },
  "papermill": {
   "default_parameters": {},
   "duration": 1853.523445,
   "end_time": "2023-05-09T09:24:29.441840",
   "environment_variables": {},
   "exception": null,
   "input_path": "__notebook__.ipynb",
   "output_path": "__notebook__.ipynb",
   "parameters": {},
   "start_time": "2023-05-09T08:53:35.918395",
   "version": "2.4.0"
  }
 },
 "nbformat": 4,
 "nbformat_minor": 5
}
