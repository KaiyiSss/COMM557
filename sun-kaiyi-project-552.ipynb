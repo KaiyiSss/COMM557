{
 "cells": [
  {
   "cell_type": "code",
   "execution_count": 1,
   "id": "3201b9f8",
   "metadata": {
    "execution": {
     "iopub.execute_input": "2023-05-09T09:31:02.436539Z",
     "iopub.status.busy": "2023-05-09T09:31:02.435904Z",
     "iopub.status.idle": "2023-05-09T09:31:09.878530Z",
     "shell.execute_reply": "2023-05-09T09:31:09.877570Z"
    },
    "executionInfo": {
     "elapsed": 168,
     "status": "ok",
     "timestamp": 1683534029508,
     "user": {
      "displayName": "Datt Patel",
      "userId": "03546091703206854124"
     },
     "user_tz": 420
    },
    "id": "zuocW4vSOTeX",
    "papermill": {
     "duration": 7.466355,
     "end_time": "2023-05-09T09:31:09.880857",
     "exception": false,
     "start_time": "2023-05-09T09:31:02.414502",
     "status": "completed"
    },
    "tags": []
   },
   "outputs": [
    {
     "name": "stderr",
     "output_type": "stream",
     "text": [
      "/opt/conda/lib/python3.10/site-packages/scipy/__init__.py:146: UserWarning: A NumPy version >=1.16.5 and <1.23.0 is required for this version of SciPy (detected version 1.23.5\n",
      "  warnings.warn(f\"A NumPy version >={np_minversion} and <{np_maxversion}\"\n"
     ]
    }
   ],
   "source": [
    "import tensorflow as tf\n",
    "import matplotlib.pyplot as plt\n",
    "import numpy as np\n",
    "import os\n",
    "import cv2\n",
    "from tqdm import tqdm\n",
    "from sklearn.metrics import confusion_matrix\n",
    "import pathlib "
   ]
  },
  {
   "cell_type": "code",
   "execution_count": 2,
   "id": "ba9414f6",
   "metadata": {
    "execution": {
     "iopub.execute_input": "2023-05-09T09:31:09.904636Z",
     "iopub.status.busy": "2023-05-09T09:31:09.904040Z",
     "iopub.status.idle": "2023-05-09T09:31:09.909325Z",
     "shell.execute_reply": "2023-05-09T09:31:09.908465Z"
    },
    "executionInfo": {
     "elapsed": 4,
     "status": "ok",
     "timestamp": 1683534032831,
     "user": {
      "displayName": "Datt Patel",
      "userId": "03546091703206854124"
     },
     "user_tz": 420
    },
    "id": "iEdpV8G5O5_7",
    "papermill": {
     "duration": 0.019173,
     "end_time": "2023-05-09T09:31:09.911247",
     "exception": false,
     "start_time": "2023-05-09T09:31:09.892074",
     "status": "completed"
    },
    "tags": []
   },
   "outputs": [],
   "source": [
    "IMG_WID, IMG_HG = 224, 224\n",
    "IMG_SIZE = (IMG_WID, IMG_HG)\n",
    "VAL_RATIO = 0.15\n",
    "PATIENCE = 3\n",
    "TRAIN_Ratio = 0.7\n",
    "TEST_Ratio = 1\n",
    "VAL_Ratio = 0.15\n",
    "EPOCHS = 50\n",
    "FIT_BATCH = 128"
   ]
  },
  {
   "cell_type": "code",
   "execution_count": 3,
   "id": "210f44cf",
   "metadata": {
    "execution": {
     "iopub.execute_input": "2023-05-09T09:31:09.934531Z",
     "iopub.status.busy": "2023-05-09T09:31:09.934199Z",
     "iopub.status.idle": "2023-05-09T09:31:09.938563Z",
     "shell.execute_reply": "2023-05-09T09:31:09.937619Z"
    },
    "executionInfo": {
     "elapsed": 4,
     "status": "ok",
     "timestamp": 1683534032831,
     "user": {
      "displayName": "Datt Patel",
      "userId": "03546091703206854124"
     },
     "user_tz": 420
    },
    "id": "_l3nS2vGOFYW",
    "papermill": {
     "duration": 0.01848,
     "end_time": "2023-05-09T09:31:09.940458",
     "exception": false,
     "start_time": "2023-05-09T09:31:09.921978",
     "status": "completed"
    },
    "tags": []
   },
   "outputs": [],
   "source": [
    "data_images = '/kaggle/input/project-images/Data/Sport Images'\n",
    "data_video = '/kaggle/input/project-images/Data/Sport Videos'"
   ]
  },
  {
   "cell_type": "markdown",
   "id": "48f99c80",
   "metadata": {
    "id": "SgwSihQO1RXV",
    "papermill": {
     "duration": 0.010911,
     "end_time": "2023-05-09T09:31:09.962074",
     "exception": false,
     "start_time": "2023-05-09T09:31:09.951163",
     "status": "completed"
    },
    "tags": []
   },
   "source": [
    "## Creating the required dataset"
   ]
  },
  {
   "cell_type": "code",
   "execution_count": 4,
   "id": "ecc45dc0",
   "metadata": {
    "execution": {
     "iopub.execute_input": "2023-05-09T09:31:09.985797Z",
     "iopub.status.busy": "2023-05-09T09:31:09.984833Z",
     "iopub.status.idle": "2023-05-09T09:31:09.991806Z",
     "shell.execute_reply": "2023-05-09T09:31:09.991010Z"
    },
    "executionInfo": {
     "elapsed": 4,
     "status": "ok",
     "timestamp": 1683534032832,
     "user": {
      "displayName": "Datt Patel",
      "userId": "03546091703206854124"
     },
     "user_tz": 420
    },
    "id": "DsNl8q4jmQvu",
    "papermill": {
     "duration": 0.020916,
     "end_time": "2023-05-09T09:31:09.993639",
     "exception": false,
     "start_time": "2023-05-09T09:31:09.972723",
     "status": "completed"
    },
    "tags": []
   },
   "outputs": [],
   "source": [
    "def split_folders(image_path, label_count):\n",
    "    dataset = tf.keras.utils.image_dataset_from_directory(image_path,labels=None,label_mode='int',color_mode='rgb',batch_size=None,image_size=IMG_SIZE,seed=20)\n",
    "    dataset = dataset.map(lambda x: (x, label_count))\n",
    "    total_file = len(dataset)\n",
    "    train_size, val_size = int(np.ceil(total_file*TRAIN_Ratio)), int(np.ceil(total_file*VAL_Ratio))\n",
    "    test_size = int(TEST_Ratio*(total_file - (train_size + val_size)))\n",
    "    train = dataset.take(train_size)\n",
    "    val = dataset.skip(train_size).take(val_size)\n",
    "    test = dataset.skip(train_size + val_size).take(test_size)\n",
    "    return [train, val, test]"
   ]
  },
  {
   "cell_type": "code",
   "execution_count": 5,
   "id": "51895e5e",
   "metadata": {
    "execution": {
     "iopub.execute_input": "2023-05-09T09:31:10.017599Z",
     "iopub.status.busy": "2023-05-09T09:31:10.016081Z",
     "iopub.status.idle": "2023-05-09T09:31:13.803275Z",
     "shell.execute_reply": "2023-05-09T09:31:13.801472Z"
    },
    "executionInfo": {
     "elapsed": 5,
     "status": "ok",
     "timestamp": 1683534032833,
     "user": {
      "displayName": "Datt Patel",
      "userId": "03546091703206854124"
     },
     "user_tz": 420
    },
    "id": "KUf_5OKhPwZy",
    "papermill": {
     "duration": 3.800923,
     "end_time": "2023-05-09T09:31:13.805342",
     "exception": false,
     "start_time": "2023-05-09T09:31:10.004419",
     "status": "completed"
    },
    "tags": []
   },
   "outputs": [
    {
     "name": "stdout",
     "output_type": "stream",
     "text": [
      "Found 734 files belonging to 1 classes.\n",
      "Found 492 files belonging to 1 classes.\n",
      "Found 634 files belonging to 1 classes.\n",
      "Found 715 files belonging to 1 classes.\n",
      "Found 704 files belonging to 1 classes.\n"
     ]
    }
   ],
   "source": [
    "classes = ['baseball','basketball','fencing','tennis','volleyball']\n",
    "data_sets = []\n",
    "for idx in range(len(classes)):\n",
    "    data_sets.append(split_folders(data_images+'/'+classes[idx], idx))"
   ]
  },
  {
   "cell_type": "code",
   "execution_count": 6,
   "id": "0209db72",
   "metadata": {
    "execution": {
     "iopub.execute_input": "2023-05-09T09:31:13.828878Z",
     "iopub.status.busy": "2023-05-09T09:31:13.828575Z",
     "iopub.status.idle": "2023-05-09T09:31:13.841399Z",
     "shell.execute_reply": "2023-05-09T09:31:13.840621Z"
    },
    "papermill": {
     "duration": 0.026835,
     "end_time": "2023-05-09T09:31:13.843394",
     "exception": false,
     "start_time": "2023-05-09T09:31:13.816559",
     "status": "completed"
    },
    "tags": []
   },
   "outputs": [],
   "source": [
    "train, val, test = data_sets[0][0],data_sets[0][1],data_sets[0][2]\n",
    "for t, v, tst in data_sets[1:]:\n",
    "    train = train.concatenate(t)\n",
    "    val = val.concatenate(v)\n",
    "    test = test.concatenate(tst)"
   ]
  },
  {
   "cell_type": "markdown",
   "id": "ecdb4da2",
   "metadata": {
    "id": "svVTxzl-dgPB",
    "papermill": {
     "duration": 0.011025,
     "end_time": "2023-05-09T09:31:13.866005",
     "exception": false,
     "start_time": "2023-05-09T09:31:13.854980",
     "status": "completed"
    },
    "tags": []
   },
   "source": [
    "# Data Augmentation"
   ]
  },
  {
   "cell_type": "code",
   "execution_count": 7,
   "id": "c1a84b7a",
   "metadata": {
    "execution": {
     "iopub.execute_input": "2023-05-09T09:31:13.889363Z",
     "iopub.status.busy": "2023-05-09T09:31:13.889036Z",
     "iopub.status.idle": "2023-05-09T09:31:13.901943Z",
     "shell.execute_reply": "2023-05-09T09:31:13.900869Z"
    },
    "executionInfo": {
     "elapsed": 4,
     "status": "ok",
     "timestamp": 1683534033664,
     "user": {
      "displayName": "Datt Patel",
      "userId": "03546091703206854124"
     },
     "user_tz": 420
    },
    "id": "8noPqsnh3Wmg",
    "papermill": {
     "duration": 0.027229,
     "end_time": "2023-05-09T09:31:13.904223",
     "exception": false,
     "start_time": "2023-05-09T09:31:13.876994",
     "status": "completed"
    },
    "tags": []
   },
   "outputs": [],
   "source": [
    "image_augmentation_flip = tf.keras.layers.RandomFlip(\"horizontal_and_vertical\")\n",
    "image_augmentation_rotation = tf.keras.layers.RandomRotation((-0.1, 0.3))\n",
    "image_augmentation_translation = tf.keras.layers.RandomTranslation((-0.1, 0.5), (-0.2, 0.4))\n",
    "image_augmentation_zoom = tf.keras.layers.RandomZoom((-0.1, 0.4))\n",
    "image_augmentation_brightness = tf.keras.layers.RandomBrightness(0.6)\n",
    "image_augmentation_contrast = tf.keras.layers.RandomContrast(0.3)"
   ]
  },
  {
   "cell_type": "code",
   "execution_count": 8,
   "id": "7986a3f6",
   "metadata": {
    "execution": {
     "iopub.execute_input": "2023-05-09T09:31:13.927518Z",
     "iopub.status.busy": "2023-05-09T09:31:13.927237Z",
     "iopub.status.idle": "2023-05-09T09:31:13.932272Z",
     "shell.execute_reply": "2023-05-09T09:31:13.931214Z"
    },
    "executionInfo": {
     "elapsed": 4,
     "status": "ok",
     "timestamp": 1683534033664,
     "user": {
      "displayName": "Datt Patel",
      "userId": "03546091703206854124"
     },
     "user_tz": 420
    },
    "id": "XWTcyveJpouC",
    "papermill": {
     "duration": 0.019201,
     "end_time": "2023-05-09T09:31:13.934453",
     "exception": false,
     "start_time": "2023-05-09T09:31:13.915252",
     "status": "completed"
    },
    "tags": []
   },
   "outputs": [],
   "source": [
    "def chooseRandom(img):\n",
    "    choice = [0,1]\n",
    "    np.random.shuffle(choice)\n",
    "    if choice == 1:\n",
    "        return image_augmentation_zoom(image_augmentation_rotation(image_augmentation_brightness(image_augmentation_translation(img))))\n",
    "    else:\n",
    "        return image_augmentation_contrast(image_augmentation_flip(img))"
   ]
  },
  {
   "cell_type": "code",
   "execution_count": 9,
   "id": "2acff967",
   "metadata": {
    "execution": {
     "iopub.execute_input": "2023-05-09T09:31:13.958761Z",
     "iopub.status.busy": "2023-05-09T09:31:13.958433Z",
     "iopub.status.idle": "2023-05-09T09:31:14.338049Z",
     "shell.execute_reply": "2023-05-09T09:31:14.337122Z"
    },
    "executionInfo": {
     "elapsed": 4,
     "status": "ok",
     "timestamp": 1683534033664,
     "user": {
      "displayName": "Datt Patel",
      "userId": "03546091703206854124"
     },
     "user_tz": 420
    },
    "id": "Yvc1RFKAmQvx",
    "papermill": {
     "duration": 0.394676,
     "end_time": "2023-05-09T09:31:14.340445",
     "exception": false,
     "start_time": "2023-05-09T09:31:13.945769",
     "status": "completed"
    },
    "tags": []
   },
   "outputs": [],
   "source": [
    "dataset_random_augmentation = train.map(lambda i,l:(chooseRandom(i), l))\n",
    "dataset_flip = train.map(lambda i,l:(image_augmentation_flip(i), l))\n",
    "dataset_rotated = train.map(lambda i,l:(image_augmentation_rotation(i), l))\n",
    "dataset_bright = train.map(lambda i,l:(image_augmentation_brightness(i), l))\n",
    "dataset_zoomed = train.map(lambda i,l:(image_augmentation_zoom(i), l))"
   ]
  },
  {
   "cell_type": "code",
   "execution_count": 10,
   "id": "3814908a",
   "metadata": {
    "execution": {
     "iopub.execute_input": "2023-05-09T09:31:14.365414Z",
     "iopub.status.busy": "2023-05-09T09:31:14.364006Z",
     "iopub.status.idle": "2023-05-09T09:31:14.371344Z",
     "shell.execute_reply": "2023-05-09T09:31:14.370560Z"
    },
    "executionInfo": {
     "elapsed": 4,
     "status": "ok",
     "timestamp": 1683534033665,
     "user": {
      "displayName": "Datt Patel",
      "userId": "03546091703206854124"
     },
     "user_tz": 420
    },
    "id": "8rBXtKLEbSLZ",
    "papermill": {
     "duration": 0.021263,
     "end_time": "2023-05-09T09:31:14.373119",
     "exception": false,
     "start_time": "2023-05-09T09:31:14.351856",
     "status": "completed"
    },
    "tags": []
   },
   "outputs": [],
   "source": [
    "augmented_train = train.concatenate(dataset_random_augmentation)\n",
    "augmented_train = augmented_train.concatenate(dataset_flip)\n",
    "augmented_train = augmented_train.concatenate(dataset_bright)\n",
    "augmented_train = augmented_train.concatenate(dataset_zoomed)"
   ]
  },
  {
   "cell_type": "code",
   "execution_count": 11,
   "id": "43946ef4",
   "metadata": {
    "execution": {
     "iopub.execute_input": "2023-05-09T09:31:14.396654Z",
     "iopub.status.busy": "2023-05-09T09:31:14.396300Z",
     "iopub.status.idle": "2023-05-09T09:31:14.405197Z",
     "shell.execute_reply": "2023-05-09T09:31:14.404385Z"
    },
    "executionInfo": {
     "elapsed": 4,
     "status": "ok",
     "timestamp": 1683534033665,
     "user": {
      "displayName": "Datt Patel",
      "userId": "03546091703206854124"
     },
     "user_tz": 420
    },
    "id": "iAmg5inNbSLZ",
    "papermill": {
     "duration": 0.022811,
     "end_time": "2023-05-09T09:31:14.407121",
     "exception": false,
     "start_time": "2023-05-09T09:31:14.384310",
     "status": "completed"
    },
    "tags": []
   },
   "outputs": [],
   "source": [
    "batched_augmented_train = augmented_train.batch(128, drop_remainder=True)\n",
    "batched_val = val.batch(128, drop_remainder=True)\n",
    "batched_test = test.batch(128, drop_remainder=True)"
   ]
  },
  {
   "cell_type": "code",
   "execution_count": 12,
   "id": "ccadb4fc",
   "metadata": {
    "execution": {
     "iopub.execute_input": "2023-05-09T09:31:14.430799Z",
     "iopub.status.busy": "2023-05-09T09:31:14.430470Z",
     "iopub.status.idle": "2023-05-09T09:31:14.436627Z",
     "shell.execute_reply": "2023-05-09T09:31:14.435824Z"
    },
    "papermill": {
     "duration": 0.020406,
     "end_time": "2023-05-09T09:31:14.438709",
     "exception": false,
     "start_time": "2023-05-09T09:31:14.418303",
     "status": "completed"
    },
    "tags": []
   },
   "outputs": [
    {
     "data": {
      "text/plain": [
       "<BatchDataset element_spec=(TensorSpec(shape=(128, 224, 224, 3), dtype=tf.float32, name=None), TensorSpec(shape=(128,), dtype=tf.int32, name=None))>"
      ]
     },
     "execution_count": 12,
     "metadata": {},
     "output_type": "execute_result"
    }
   ],
   "source": [
    "batched_augmented_train"
   ]
  },
  {
   "cell_type": "code",
   "execution_count": 13,
   "id": "a209f5b5",
   "metadata": {
    "execution": {
     "iopub.execute_input": "2023-05-09T09:31:14.463765Z",
     "iopub.status.busy": "2023-05-09T09:31:14.462214Z",
     "iopub.status.idle": "2023-05-09T09:31:14.469943Z",
     "shell.execute_reply": "2023-05-09T09:31:14.469180Z"
    },
    "papermill": {
     "duration": 0.021715,
     "end_time": "2023-05-09T09:31:14.471751",
     "exception": false,
     "start_time": "2023-05-09T09:31:14.450036",
     "status": "completed"
    },
    "tags": []
   },
   "outputs": [
    {
     "data": {
      "text/plain": [
       "<BatchDataset element_spec=(TensorSpec(shape=(128, 224, 224, 3), dtype=tf.float32, name=None), TensorSpec(shape=(128,), dtype=tf.int32, name=None))>"
      ]
     },
     "execution_count": 13,
     "metadata": {},
     "output_type": "execute_result"
    }
   ],
   "source": [
    "batched_val"
   ]
  },
  {
   "cell_type": "code",
   "execution_count": 14,
   "id": "e97bb3d1",
   "metadata": {
    "execution": {
     "iopub.execute_input": "2023-05-09T09:31:14.495662Z",
     "iopub.status.busy": "2023-05-09T09:31:14.495385Z",
     "iopub.status.idle": "2023-05-09T09:31:14.500712Z",
     "shell.execute_reply": "2023-05-09T09:31:14.499810Z"
    },
    "papermill": {
     "duration": 0.020369,
     "end_time": "2023-05-09T09:31:14.503480",
     "exception": false,
     "start_time": "2023-05-09T09:31:14.483111",
     "status": "completed"
    },
    "tags": []
   },
   "outputs": [
    {
     "data": {
      "text/plain": [
       "<BatchDataset element_spec=(TensorSpec(shape=(128, 224, 224, 3), dtype=tf.float32, name=None), TensorSpec(shape=(128,), dtype=tf.int32, name=None))>"
      ]
     },
     "execution_count": 14,
     "metadata": {},
     "output_type": "execute_result"
    }
   ],
   "source": [
    "batched_test"
   ]
  },
  {
   "cell_type": "markdown",
   "id": "33769a58",
   "metadata": {
    "id": "y7K_E131mQvx",
    "papermill": {
     "duration": 0.01197,
     "end_time": "2023-05-09T09:31:14.527098",
     "exception": false,
     "start_time": "2023-05-09T09:31:14.515128",
     "status": "completed"
    },
    "tags": []
   },
   "source": [
    "# Model Creation"
   ]
  },
  {
   "cell_type": "code",
   "execution_count": 15,
   "id": "aa20f3c5",
   "metadata": {
    "execution": {
     "iopub.execute_input": "2023-05-09T09:31:14.553627Z",
     "iopub.status.busy": "2023-05-09T09:31:14.553292Z",
     "iopub.status.idle": "2023-05-09T09:31:14.560120Z",
     "shell.execute_reply": "2023-05-09T09:31:14.559154Z"
    },
    "executionInfo": {
     "elapsed": 283,
     "status": "ok",
     "timestamp": 1683534033944,
     "user": {
      "displayName": "Datt Patel",
      "userId": "03546091703206854124"
     },
     "user_tz": 420
    },
    "id": "fgLf822vt0jb",
    "papermill": {
     "duration": 0.02267,
     "end_time": "2023-05-09T09:31:14.562272",
     "exception": false,
     "start_time": "2023-05-09T09:31:14.539602",
     "status": "completed"
    },
    "tags": []
   },
   "outputs": [],
   "source": [
    "def modelCreation(base):\n",
    "    for layer in base.layers:\n",
    "        layer.trainable = False\n",
    "    model = tf.keras.layers.MaxPooling2D(pool_size=(2, 2), strides=None, padding='valid', data_format=None)(base.output)\n",
    "    model = tf.keras.layers.Flatten()(model)\n",
    "    model = tf.keras.layers.Dense(32, activation='relu')(model)\n",
    "    model = tf.keras.layers.Dropout(0.2)(model)\n",
    "    model = tf.keras.layers.BatchNormalization()(model)\n",
    "    model_prediction = tf.keras.layers.Dense(5, activation = 'softmax')(model)\n",
    "    model_final = tf.keras.Model(inputs = base.input, outputs = model_prediction)\n",
    "    model_final.compile(optimizer='adam', loss=\"sparse_categorical_crossentropy\", metrics=['accuracy'])\n",
    "    return model_final"
   ]
  },
  {
   "cell_type": "code",
   "execution_count": 16,
   "id": "b7972065",
   "metadata": {
    "execution": {
     "iopub.execute_input": "2023-05-09T09:31:14.588177Z",
     "iopub.status.busy": "2023-05-09T09:31:14.587906Z",
     "iopub.status.idle": "2023-05-09T09:31:19.729259Z",
     "shell.execute_reply": "2023-05-09T09:31:19.728294Z"
    },
    "executionInfo": {
     "elapsed": 3790,
     "status": "ok",
     "timestamp": 1683534037732,
     "user": {
      "displayName": "Datt Patel",
      "userId": "03546091703206854124"
     },
     "user_tz": 420
    },
    "id": "rUqlAWS9mQvx",
    "papermill": {
     "duration": 5.156882,
     "end_time": "2023-05-09T09:31:19.731544",
     "exception": false,
     "start_time": "2023-05-09T09:31:14.574662",
     "status": "completed"
    },
    "tags": []
   },
   "outputs": [
    {
     "name": "stdout",
     "output_type": "stream",
     "text": [
      "Downloading data from https://storage.googleapis.com/tensorflow/keras-applications/resnet/resnet50_weights_tf_dim_ordering_tf_kernels_notop.h5\n",
      "94765736/94765736 [==============================] - 0s 0us/step\n",
      "Downloading data from https://storage.googleapis.com/keras-applications/efficientnetb0_notop.h5\n",
      "16705208/16705208 [==============================] - 0s 0us/step\n",
      "Downloading data from https://storage.googleapis.com/tensorflow/keras-applications/vgg16/vgg16_weights_tf_dim_ordering_tf_kernels_notop.h5\n",
      "58889256/58889256 [==============================] - 0s 0us/step\n"
     ]
    }
   ],
   "source": [
    "resnet = tf.keras.applications.ResNet50(weights = 'imagenet', include_top = False, input_shape = (IMG_WID, IMG_HG, 3))\n",
    "efficient = tf.keras.applications.EfficientNetB0(weights = 'imagenet', include_top = False, input_shape = (IMG_WID, IMG_HG, 3))\n",
    "vgg = tf.keras.applications.VGG16(weights = 'imagenet', include_top = False, input_shape = (IMG_WID, IMG_HG, 3))"
   ]
  },
  {
   "cell_type": "code",
   "execution_count": 17,
   "id": "8a5a8160",
   "metadata": {
    "execution": {
     "iopub.execute_input": "2023-05-09T09:31:19.760633Z",
     "iopub.status.busy": "2023-05-09T09:31:19.759199Z",
     "iopub.status.idle": "2023-05-09T09:31:19.944725Z",
     "shell.execute_reply": "2023-05-09T09:31:19.943820Z"
    },
    "executionInfo": {
     "elapsed": 364,
     "status": "ok",
     "timestamp": 1683534038094,
     "user": {
      "displayName": "Datt Patel",
      "userId": "03546091703206854124"
     },
     "user_tz": 420
    },
    "id": "Tl4W7ZfNwKoz",
    "papermill": {
     "duration": 0.201767,
     "end_time": "2023-05-09T09:31:19.946974",
     "exception": false,
     "start_time": "2023-05-09T09:31:19.745207",
     "status": "completed"
    },
    "tags": []
   },
   "outputs": [],
   "source": [
    "resnet_model = modelCreation(resnet)\n",
    "efficient_model = modelCreation(efficient)\n",
    "vgg_model = modelCreation(vgg)"
   ]
  },
  {
   "cell_type": "code",
   "execution_count": 18,
   "id": "1c2e90d7",
   "metadata": {
    "execution": {
     "iopub.execute_input": "2023-05-09T09:31:19.974795Z",
     "iopub.status.busy": "2023-05-09T09:31:19.974479Z",
     "iopub.status.idle": "2023-05-09T09:31:19.978825Z",
     "shell.execute_reply": "2023-05-09T09:31:19.977846Z"
    },
    "executionInfo": {
     "elapsed": 4,
     "status": "ok",
     "timestamp": 1683534038095,
     "user": {
      "displayName": "Datt Patel",
      "userId": "03546091703206854124"
     },
     "user_tz": 420
    },
    "id": "Ky5Q5CRMmQvy",
    "papermill": {
     "duration": 0.020302,
     "end_time": "2023-05-09T09:31:19.980833",
     "exception": false,
     "start_time": "2023-05-09T09:31:19.960531",
     "status": "completed"
    },
    "tags": []
   },
   "outputs": [],
   "source": [
    "# Early stop and restore weight from best model, min validation loss\n",
    "early_stopper = tf.keras.callbacks.EarlyStopping(monitor='val_loss', patience=PATIENCE, verbose=1, mode='min', restore_best_weights=True)"
   ]
  },
  {
   "cell_type": "code",
   "execution_count": 19,
   "id": "d19291cd",
   "metadata": {
    "execution": {
     "iopub.execute_input": "2023-05-09T09:31:20.008413Z",
     "iopub.status.busy": "2023-05-09T09:31:20.007081Z",
     "iopub.status.idle": "2023-05-09T09:50:14.123489Z",
     "shell.execute_reply": "2023-05-09T09:50:14.122572Z"
    },
    "executionInfo": {
     "elapsed": 156518,
     "status": "ok",
     "timestamp": 1683534715863,
     "user": {
      "displayName": "Datt Patel",
      "userId": "03546091703206854124"
     },
     "user_tz": 420
    },
    "id": "v-zb8LWbmQvy",
    "outputId": "cb478421-b474-4d57-d3b8-c0f4de4a135e",
    "papermill": {
     "duration": 1134.131714,
     "end_time": "2023-05-09T09:50:14.125314",
     "exception": false,
     "start_time": "2023-05-09T09:31:19.993600",
     "status": "completed"
    },
    "tags": []
   },
   "outputs": [
    {
     "name": "stdout",
     "output_type": "stream",
     "text": [
      "Epoch 1/50\n",
      "89/89 [==============================] - 73s 692ms/step - loss: 1.7400 - accuracy: 0.2228 - val_loss: 1.3382 - val_accuracy: 0.4193\n",
      "Epoch 2/50\n",
      "89/89 [==============================] - 57s 636ms/step - loss: 1.6360 - accuracy: 0.2429 - val_loss: 1.3042 - val_accuracy: 0.6693\n",
      "Epoch 3/50\n",
      "89/89 [==============================] - 58s 647ms/step - loss: 1.6181 - accuracy: 0.2553 - val_loss: 1.3045 - val_accuracy: 0.7891\n",
      "Epoch 4/50\n",
      "89/89 [==============================] - 58s 642ms/step - loss: 1.6049 - accuracy: 0.2760 - val_loss: 1.2593 - val_accuracy: 0.8177\n",
      "Epoch 5/50\n",
      "89/89 [==============================] - 57s 635ms/step - loss: 1.5995 - accuracy: 0.2870 - val_loss: 1.2618 - val_accuracy: 0.8542\n",
      "Epoch 6/50\n",
      "89/89 [==============================] - 57s 630ms/step - loss: 1.5924 - accuracy: 0.2978 - val_loss: 1.2485 - val_accuracy: 0.7370\n",
      "Epoch 7/50\n",
      "89/89 [==============================] - 56s 623ms/step - loss: 1.5882 - accuracy: 0.3003 - val_loss: 1.2444 - val_accuracy: 0.8490\n",
      "Epoch 8/50\n",
      "89/89 [==============================] - 57s 638ms/step - loss: 1.5857 - accuracy: 0.3076 - val_loss: 1.1871 - val_accuracy: 0.8984\n",
      "Epoch 9/50\n",
      "89/89 [==============================] - 57s 636ms/step - loss: 1.5844 - accuracy: 0.3055 - val_loss: 1.1817 - val_accuracy: 0.7734\n",
      "Epoch 10/50\n",
      "89/89 [==============================] - 57s 637ms/step - loss: 1.5813 - accuracy: 0.3061 - val_loss: 1.1830 - val_accuracy: 0.9010\n",
      "Epoch 11/50\n",
      "89/89 [==============================] - 57s 631ms/step - loss: 1.5793 - accuracy: 0.3041 - val_loss: 1.1799 - val_accuracy: 0.6693\n",
      "Epoch 12/50\n",
      "89/89 [==============================] - 57s 638ms/step - loss: 1.5774 - accuracy: 0.3022 - val_loss: 1.1629 - val_accuracy: 0.8307\n",
      "Epoch 13/50\n",
      "89/89 [==============================] - 58s 641ms/step - loss: 1.5762 - accuracy: 0.3144 - val_loss: 1.0869 - val_accuracy: 0.7969\n",
      "Epoch 14/50\n",
      "89/89 [==============================] - 58s 645ms/step - loss: 1.5743 - accuracy: 0.3157 - val_loss: 1.1720 - val_accuracy: 0.9297\n",
      "Epoch 15/50\n",
      "89/89 [==============================] - 57s 636ms/step - loss: 1.5735 - accuracy: 0.3181 - val_loss: 1.0501 - val_accuracy: 0.7943\n",
      "Epoch 16/50\n",
      "89/89 [==============================] - 56s 622ms/step - loss: 1.5723 - accuracy: 0.3207 - val_loss: 1.1499 - val_accuracy: 0.9479\n",
      "Epoch 17/50\n",
      "89/89 [==============================] - 58s 645ms/step - loss: 1.5713 - accuracy: 0.3307 - val_loss: 1.0743 - val_accuracy: 0.8620\n",
      "Epoch 18/50\n",
      "89/89 [==============================] - ETA: 0s - loss: 1.5698 - accuracy: 0.3243Restoring model weights from the end of the best epoch: 15.\n",
      "89/89 [==============================] - 58s 640ms/step - loss: 1.5698 - accuracy: 0.3243 - val_loss: 1.0991 - val_accuracy: 0.9479\n",
      "Epoch 18: early stopping\n"
     ]
    }
   ],
   "source": [
    "resnet_history = resnet_model.fit(batched_augmented_train, epochs=EPOCHS, batch_size=FIT_BATCH, callbacks=[early_stopper], verbose=1, validation_data=batched_val)"
   ]
  },
  {
   "cell_type": "code",
   "execution_count": 20,
   "id": "588327c3",
   "metadata": {
    "execution": {
     "iopub.execute_input": "2023-05-09T09:50:14.318928Z",
     "iopub.status.busy": "2023-05-09T09:50:14.317390Z",
     "iopub.status.idle": "2023-05-09T09:54:26.149497Z",
     "shell.execute_reply": "2023-05-09T09:54:26.148623Z"
    },
    "executionInfo": {
     "elapsed": 675446,
     "status": "ok",
     "timestamp": 1683535391305,
     "user": {
      "displayName": "Datt Patel",
      "userId": "03546091703206854124"
     },
     "user_tz": 420
    },
    "id": "sZFMuMcjrRRw",
    "outputId": "a61e5d9a-6407-4118-e90d-54884f5a82a3",
    "papermill": {
     "duration": 251.93082,
     "end_time": "2023-05-09T09:54:26.151398",
     "exception": false,
     "start_time": "2023-05-09T09:50:14.220578",
     "status": "completed"
    },
    "tags": []
   },
   "outputs": [
    {
     "name": "stdout",
     "output_type": "stream",
     "text": [
      "Epoch 1/50\n"
     ]
    },
    {
     "name": "stderr",
     "output_type": "stream",
     "text": [
      "2023-05-09 09:50:19.409484: E tensorflow/core/grappler/optimizers/meta_optimizer.cc:954] layout failed: INVALID_ARGUMENT: Size of values 0 does not match size of permutation 4 @ fanin shape inmodel_1/block2b_drop/dropout/SelectV2-2-TransposeNHWCToNCHW-LayoutOptimizer\n"
     ]
    },
    {
     "name": "stdout",
     "output_type": "stream",
     "text": [
      "89/89 [==============================] - 61s 615ms/step - loss: 1.8430 - accuracy: 0.2473 - val_loss: 0.8564 - val_accuracy: 0.7786\n",
      "Epoch 2/50\n",
      "89/89 [==============================] - 54s 597ms/step - loss: 1.6787 - accuracy: 0.2843 - val_loss: 0.9288 - val_accuracy: 0.8281\n",
      "Epoch 3/50\n",
      "89/89 [==============================] - 54s 595ms/step - loss: 1.6350 - accuracy: 0.3042 - val_loss: 0.9728 - val_accuracy: 0.9193\n",
      "Epoch 4/50\n",
      "89/89 [==============================] - ETA: 0s - loss: 1.6122 - accuracy: 0.3229Restoring model weights from the end of the best epoch: 1.\n",
      "89/89 [==============================] - 55s 605ms/step - loss: 1.6122 - accuracy: 0.3229 - val_loss: 0.9314 - val_accuracy: 0.9531\n",
      "Epoch 4: early stopping\n"
     ]
    }
   ],
   "source": [
    "efficient_history = efficient_model.fit(batched_augmented_train, epochs=EPOCHS, batch_size=FIT_BATCH, callbacks=[early_stopper], verbose=1, validation_data=batched_val)"
   ]
  },
  {
   "cell_type": "code",
   "execution_count": 21,
   "id": "128362ed",
   "metadata": {
    "execution": {
     "iopub.execute_input": "2023-05-09T09:54:26.383893Z",
     "iopub.status.busy": "2023-05-09T09:54:26.381782Z",
     "iopub.status.idle": "2023-05-09T09:59:49.345731Z",
     "shell.execute_reply": "2023-05-09T09:59:49.344779Z"
    },
    "executionInfo": {
     "elapsed": 1348311,
     "status": "ok",
     "timestamp": 1683536865882,
     "user": {
      "displayName": "Datt Patel",
      "userId": "03546091703206854124"
     },
     "user_tz": 420
    },
    "id": "JoBRfPHRrfCc",
    "outputId": "0ece5e87-7daa-4c69-bf66-74632c27fccd",
    "papermill": {
     "duration": 323.081459,
     "end_time": "2023-05-09T09:59:49.347522",
     "exception": false,
     "start_time": "2023-05-09T09:54:26.266063",
     "status": "completed"
    },
    "tags": []
   },
   "outputs": [
    {
     "name": "stdout",
     "output_type": "stream",
     "text": [
      "Epoch 1/50\n",
      "89/89 [==============================] - 72s 670ms/step - loss: 1.8578 - accuracy: 0.2134 - val_loss: 1.2052 - val_accuracy: 0.5234\n",
      "Epoch 2/50\n",
      "89/89 [==============================] - 60s 672ms/step - loss: 1.6810 - accuracy: 0.2324 - val_loss: 1.1011 - val_accuracy: 0.7526\n",
      "Epoch 3/50\n",
      "89/89 [==============================] - 60s 665ms/step - loss: 1.6374 - accuracy: 0.2324 - val_loss: 1.1024 - val_accuracy: 0.8125\n",
      "Epoch 4/50\n",
      "89/89 [==============================] - 60s 662ms/step - loss: 1.6168 - accuracy: 0.2507 - val_loss: 1.1584 - val_accuracy: 0.8177\n",
      "Epoch 5/50\n",
      "89/89 [==============================] - ETA: 0s - loss: 1.6045 - accuracy: 0.2572Restoring model weights from the end of the best epoch: 2.\n",
      "89/89 [==============================] - 60s 659ms/step - loss: 1.6045 - accuracy: 0.2572 - val_loss: 1.1312 - val_accuracy: 0.8333\n",
      "Epoch 5: early stopping\n"
     ]
    }
   ],
   "source": [
    "vgg_history = vgg_model.fit(batched_augmented_train, epochs=EPOCHS, batch_size=FIT_BATCH, callbacks=[early_stopper], verbose=1, validation_data=batched_val)"
   ]
  },
  {
   "cell_type": "markdown",
   "id": "c2382a5e",
   "metadata": {
    "id": "t0nA3B4xmQvy",
    "papermill": {
     "duration": 0.137094,
     "end_time": "2023-05-09T09:59:49.719989",
     "exception": false,
     "start_time": "2023-05-09T09:59:49.582895",
     "status": "completed"
    },
    "tags": []
   },
   "source": [
    "# Model Evaluation"
   ]
  },
  {
   "cell_type": "code",
   "execution_count": 22,
   "id": "be35cfc5",
   "metadata": {
    "execution": {
     "iopub.execute_input": "2023-05-09T09:59:49.998481Z",
     "iopub.status.busy": "2023-05-09T09:59:49.998132Z",
     "iopub.status.idle": "2023-05-09T09:59:50.003748Z",
     "shell.execute_reply": "2023-05-09T09:59:50.002738Z"
    },
    "executionInfo": {
     "elapsed": 187,
     "status": "ok",
     "timestamp": 1683537106821,
     "user": {
      "displayName": "Datt Patel",
      "userId": "03546091703206854124"
     },
     "user_tz": 420
    },
    "id": "EPE0Jt9Gwzy9",
    "papermill": {
     "duration": 0.146619,
     "end_time": "2023-05-09T09:59:50.005461",
     "exception": false,
     "start_time": "2023-05-09T09:59:49.858842",
     "status": "completed"
    },
    "tags": []
   },
   "outputs": [],
   "source": [
    "def plotLossVSEpoch(model_history, model):\n",
    "    plt.plot(model_history.history['loss'])\n",
    "    plt.plot(model_history.history['val_loss'])\n",
    "    plt.title('{} Loss vs Epoch'.format(model))\n",
    "    plt.ylabel('Loss')\n",
    "    plt.xlabel('Epochs')\n",
    "    plt.legend(['Train', 'Validation'], loc='best')\n",
    "    plt.show()"
   ]
  },
  {
   "cell_type": "code",
   "execution_count": 23,
   "id": "769cacf2",
   "metadata": {
    "execution": {
     "iopub.execute_input": "2023-05-09T09:59:50.282644Z",
     "iopub.status.busy": "2023-05-09T09:59:50.281617Z",
     "iopub.status.idle": "2023-05-09T09:59:50.584547Z",
     "shell.execute_reply": "2023-05-09T09:59:50.583580Z"
    },
    "executionInfo": {
     "elapsed": 514,
     "status": "ok",
     "timestamp": 1683537108708,
     "user": {
      "displayName": "Datt Patel",
      "userId": "03546091703206854124"
     },
     "user_tz": 420
    },
    "id": "DXISAsXjmQvy",
    "outputId": "cc5b494e-7aeb-4d99-c601-e1ca7c1cfc22",
    "papermill": {
     "duration": 0.444348,
     "end_time": "2023-05-09T09:59:50.586513",
     "exception": false,
     "start_time": "2023-05-09T09:59:50.142165",
     "status": "completed"
    },
    "tags": []
   },
   "outputs": [
    {
     "data": {
      "image/png": "[encoded data removed]",
      "text/plain": [
       "<Figure size 640x480 with 1 Axes>"
      ]
     },
     "metadata": {},
     "output_type": "display_data"
    }
   ],
   "source": [
    "plotLossVSEpoch(resnet_history, 'ResNet50')"
   ]
  },
  {
   "cell_type": "code",
   "execution_count": 24,
   "id": "f0b4ce44",
   "metadata": {
    "execution": {
     "iopub.execute_input": "2023-05-09T09:59:50.867494Z",
     "iopub.status.busy": "2023-05-09T09:59:50.865853Z",
     "iopub.status.idle": "2023-05-09T09:59:51.091639Z",
     "shell.execute_reply": "2023-05-09T09:59:51.090816Z"
    },
    "executionInfo": {
     "elapsed": 500,
     "status": "ok",
     "timestamp": 1683537111291,
     "user": {
      "displayName": "Datt Patel",
      "userId": "03546091703206854124"
     },
     "user_tz": 420
    },
    "id": "xfl9G8eJscWi",
    "outputId": "ff6ff781-8eb8-454a-9e2f-eda75e5289cb",
    "papermill": {
     "duration": 0.369492,
     "end_time": "2023-05-09T09:59:51.093602",
     "exception": false,
     "start_time": "2023-05-09T09:59:50.724110",
     "status": "completed"
    },
    "tags": []
   },
   "outputs": [
    {
     "data": {
      "image/png": "[encoded data removed]",
      "text/plain": [
       "<Figure size 640x480 with 1 Axes>"
      ]
     },
     "metadata": {},
     "output_type": "display_data"
    }
   ],
   "source": [
    "plotLossVSEpoch(efficient_history, 'EfficientNetB0')"
   ]
  },
  {
   "cell_type": "code",
   "execution_count": 25,
   "id": "e0026acf",
   "metadata": {
    "execution": {
     "iopub.execute_input": "2023-05-09T09:59:51.424080Z",
     "iopub.status.busy": "2023-05-09T09:59:51.423734Z",
     "iopub.status.idle": "2023-05-09T09:59:51.668594Z",
     "shell.execute_reply": "2023-05-09T09:59:51.667718Z"
    },
    "executionInfo": {
     "elapsed": 941,
     "status": "ok",
     "timestamp": 1683537114830,
     "user": {
      "displayName": "Datt Patel",
      "userId": "03546091703206854124"
     },
     "user_tz": 420
    },
    "id": "6-0rlZPrmQvy",
    "outputId": "6011ff1c-b8eb-40f9-eae6-62d6679c981b",
    "papermill": {
     "duration": 0.387478,
     "end_time": "2023-05-09T09:59:51.670531",
     "exception": false,
     "start_time": "2023-05-09T09:59:51.283053",
     "status": "completed"
    },
    "tags": []
   },
   "outputs": [
    {
     "data": {
      "image/png": "[encoded data removed]",
      "text/plain": [
       "<Figure size 640x480 with 1 Axes>"
      ]
     },
     "metadata": {},
     "output_type": "display_data"
    }
   ],
   "source": [
    "plotLossVSEpoch(vgg_history, 'VGG16')"
   ]
  },
  {
   "cell_type": "markdown",
   "id": "ccb9aa89",
   "metadata": {
    "id": "4JDHsHIHrwRf",
    "papermill": {
     "duration": 0.140452,
     "end_time": "2023-05-09T09:59:51.949747",
     "exception": false,
     "start_time": "2023-05-09T09:59:51.809295",
     "status": "completed"
    },
    "tags": []
   },
   "source": [
    "# Predictions"
   ]
  },
  {
   "cell_type": "markdown",
   "id": "d30d73ab",
   "metadata": {
    "papermill": {
     "duration": 0.138849,
     "end_time": "2023-05-09T09:59:52.233236",
     "exception": false,
     "start_time": "2023-05-09T09:59:52.094387",
     "status": "completed"
    },
    "tags": []
   },
   "source": [
    "#### Train"
   ]
  },
  {
   "cell_type": "code",
   "execution_count": 26,
   "id": "4cf603be",
   "metadata": {
    "execution": {
     "iopub.execute_input": "2023-05-09T09:59:52.634059Z",
     "iopub.status.busy": "2023-05-09T09:59:52.633637Z",
     "iopub.status.idle": "2023-05-09T10:02:33.675889Z",
     "shell.execute_reply": "2023-05-09T10:02:33.674727Z"
    },
    "executionInfo": {
     "elapsed": 170945,
     "status": "ok",
     "timestamp": 1683540869550,
     "user": {
      "displayName": "Datt Patel",
      "userId": "03546091703206854124"
     },
     "user_tz": 420
    },
    "id": "xnAQpac0173X",
    "outputId": "527cca8e-e045-4c92-e33c-2debfe6a2eb1",
    "papermill": {
     "duration": 161.254018,
     "end_time": "2023-05-09T10:02:33.678605",
     "exception": false,
     "start_time": "2023-05-09T09:59:52.424587",
     "status": "completed"
    },
    "tags": []
   },
   "outputs": [
    {
     "name": "stdout",
     "output_type": "stream",
     "text": [
      "89/89 [==============================] - 54s 584ms/step\n",
      "89/89 [==============================] - 51s 549ms/step\n",
      "89/89 [==============================] - 56s 618ms/step\n"
     ]
    }
   ],
   "source": [
    "train_resnet_probabilities = resnet_model.predict(batched_augmented_train)\n",
    "train_efficient_probabilities = efficient_model.predict(batched_augmented_train)\n",
    "train_vgg_probabilities = vgg_model.predict(batched_augmented_train)\n",
    "\n",
    "# Pick class with highest probabilty\n",
    "train_resnet_prediction = np.argmax(train_resnet_probabilities, axis=1)\n",
    "train_efficient_prediction = np.argmax(train_efficient_probabilities, axis=1)\n",
    "train_vgg_prediction = np.argmax(train_vgg_probabilities, axis=1)"
   ]
  },
  {
   "cell_type": "markdown",
   "id": "bbdbdd56",
   "metadata": {
    "papermill": {
     "duration": 0.212827,
     "end_time": "2023-05-09T10:02:34.057775",
     "exception": false,
     "start_time": "2023-05-09T10:02:33.844948",
     "status": "completed"
    },
    "tags": []
   },
   "source": [
    "#### Test"
   ]
  },
  {
   "cell_type": "code",
   "execution_count": 27,
   "id": "4459aba1",
   "metadata": {
    "execution": {
     "iopub.execute_input": "2023-05-09T10:02:34.365396Z",
     "iopub.status.busy": "2023-05-09T10:02:34.365057Z",
     "iopub.status.idle": "2023-05-09T10:02:50.846273Z",
     "shell.execute_reply": "2023-05-09T10:02:50.845332Z"
    },
    "executionInfo": {
     "elapsed": 13216,
     "status": "ok",
     "timestamp": 1683538044758,
     "user": {
      "displayName": "Datt Patel",
      "userId": "03546091703206854124"
     },
     "user_tz": 420
    },
    "id": "4QnNu7X7rxhZ",
    "outputId": "74495046-0428-4f59-dc82-87fbbca885f4",
    "papermill": {
     "duration": 16.638602,
     "end_time": "2023-05-09T10:02:50.848446",
     "exception": false,
     "start_time": "2023-05-09T10:02:34.209844",
     "status": "completed"
    },
    "tags": []
   },
   "outputs": [
    {
     "name": "stdout",
     "output_type": "stream",
     "text": [
      "3/3 [==============================] - 6s 2s/step\n",
      "3/3 [==============================] - 5s 2s/step\n",
      "3/3 [==============================] - 5s 2s/step\n"
     ]
    }
   ],
   "source": [
    "test_resnet_probabilities = resnet_model.predict(batched_test)\n",
    "test_efficient_probabilities = efficient_model.predict(batched_test)\n",
    "test_vgg_probabilities = vgg_model.predict(batched_test)\n",
    "\n",
    "# Pick class with highest probabilty\n",
    "test_resnet_prediction = np.argmax(test_resnet_probabilities, axis=1)\n",
    "test_efficient_prediction = np.argmax(test_efficient_probabilities, axis=1)\n",
    "test_vgg_prediction = np.argmax(test_vgg_probabilities, axis=1)"
   ]
  },
  {
   "cell_type": "markdown",
   "id": "5aad12e4",
   "metadata": {
    "id": "OCgJlCAnxj0-",
    "papermill": {
     "duration": 0.15212,
     "end_time": "2023-05-09T10:02:51.152720",
     "exception": false,
     "start_time": "2023-05-09T10:02:51.000600",
     "status": "completed"
    },
    "tags": []
   },
   "source": [
    "### Analysis of Image Models"
   ]
  },
  {
   "cell_type": "markdown",
   "id": "d5a544ca",
   "metadata": {
    "papermill": {
     "duration": 0.150324,
     "end_time": "2023-05-09T10:02:51.454587",
     "exception": false,
     "start_time": "2023-05-09T10:02:51.304263",
     "status": "completed"
    },
    "tags": []
   },
   "source": [
    "All methods below from: \n",
    "https://www.kaggle.com/code/nkitgupta/evaluation-metrics-for-multi-class-classification"
   ]
  },
  {
   "cell_type": "code",
   "execution_count": 28,
   "id": "9f63a051",
   "metadata": {
    "execution": {
     "iopub.execute_input": "2023-05-09T10:02:51.756929Z",
     "iopub.status.busy": "2023-05-09T10:02:51.755624Z",
     "iopub.status.idle": "2023-05-09T10:02:51.761363Z",
     "shell.execute_reply": "2023-05-09T10:02:51.760402Z"
    },
    "executionInfo": {
     "elapsed": 120,
     "status": "ok",
     "timestamp": 1683540542278,
     "user": {
      "displayName": "Datt Patel",
      "userId": "03546091703206854124"
     },
     "user_tz": 420
    },
    "id": "e_s-Ccv4zoKX",
    "papermill": {
     "duration": 0.159085,
     "end_time": "2023-05-09T10:02:51.763182",
     "exception": false,
     "start_time": "2023-05-09T10:02:51.604097",
     "status": "completed"
    },
    "tags": []
   },
   "outputs": [],
   "source": [
    "def findaccuracy(y_true, y_pred):\n",
    "    # Intitializing variable to store count of correctly predicted classes\n",
    "    correct_predictions = 0    \n",
    "    for yt, yp in zip(y_true, y_pred):\n",
    "        if yt == yp:            \n",
    "            correct_predictions += 1\n",
    "    return correct_predictions / len(y_true)"
   ]
  },
  {
   "cell_type": "code",
   "execution_count": 29,
   "id": "cbd71597",
   "metadata": {
    "execution": {
     "iopub.execute_input": "2023-05-09T10:02:52.066251Z",
     "iopub.status.busy": "2023-05-09T10:02:52.065883Z",
     "iopub.status.idle": "2023-05-09T10:02:52.076002Z",
     "shell.execute_reply": "2023-05-09T10:02:52.075130Z"
    },
    "executionInfo": {
     "elapsed": 529,
     "status": "ok",
     "timestamp": 1683541494537,
     "user": {
      "displayName": "Datt Patel",
      "userId": "03546091703206854124"
     },
     "user_tz": 420
    },
    "id": "972PltMtzoIF",
    "papermill": {
     "duration": 0.163942,
     "end_time": "2023-05-09T10:02:52.077815",
     "exception": false,
     "start_time": "2023-05-09T10:02:51.913873",
     "status": "completed"
    },
    "tags": []
   },
   "outputs": [],
   "source": [
    "# Functions to compute True Positives, True Negatives, False Positives and False Negatives\n",
    "def true_positive(y_true, y_pred):\n",
    "    tp = 0\n",
    "    for yt, yp in zip(y_true, y_pred):        \n",
    "        if yt == 1 and yp == 1:\n",
    "            tp += 1\n",
    "    return tp\n",
    "\n",
    "def true_negative(y_true, y_pred):    \n",
    "    tn = 0\n",
    "    for yt, yp in zip(y_true, y_pred):        \n",
    "        if yt == 0 and yp == 0:\n",
    "            tn += 1\n",
    "    return tn\n",
    "\n",
    "def false_positive(y_true, y_pred):    \n",
    "    fp = 0\n",
    "    for yt, yp in zip(y_true, y_pred):\n",
    "        if yt == 0 and yp == 1:\n",
    "            fp += 1            \n",
    "    return fp\n",
    "\n",
    "def false_negative(y_true, y_pred):\n",
    "    fn = 0    \n",
    "    for yt, yp in zip(y_true, y_pred):\n",
    "        if yt == 1 and yp == 0:\n",
    "            fn += 1            \n",
    "    return fn\n",
    "#Computation of macro-averaged precision\n",
    "\n",
    "def macro_precision(y_true, y_pred):\n",
    "    # find the number of classes\n",
    "    num_classes = len(np.unique(y_true))\n",
    "    # initialize precision to 0\n",
    "    precision = 0\n",
    "    # loop over all classes\n",
    "    for class_ in np.unique(y_true):\n",
    "        # all classes except current are considered negative\n",
    "        temp_true = [1 if p == class_ else 0 for p in y_true]\n",
    "        temp_pred = [1 if p == class_ else 0 for p in y_pred]\n",
    "        # compute true positive for current class\n",
    "        tp = true_positive(temp_true, temp_pred)\n",
    "        # compute false positive for current class\n",
    "        fp = false_positive(temp_true, temp_pred)\n",
    "        # compute precision for current class\n",
    "        temp_precision = tp / (tp + fp + 1e-6)\n",
    "        # keep adding precision for all classes\n",
    "        precision += temp_precision\n",
    "    # calculate and return average precision over all classes\n",
    "    precision /= num_classes\n",
    "    return precision"
   ]
  },
  {
   "cell_type": "code",
   "execution_count": 30,
   "id": "dd7e045d",
   "metadata": {
    "execution": {
     "iopub.execute_input": "2023-05-09T10:02:52.424524Z",
     "iopub.status.busy": "2023-05-09T10:02:52.423847Z",
     "iopub.status.idle": "2023-05-09T10:02:52.429991Z",
     "shell.execute_reply": "2023-05-09T10:02:52.429094Z"
    },
    "executionInfo": {
     "elapsed": 1,
     "status": "ok",
     "timestamp": 1683541495127,
     "user": {
      "displayName": "Datt Patel",
      "userId": "03546091703206854124"
     },
     "user_tz": 420
    },
    "id": "t06mVemxzoFW",
    "papermill": {
     "duration": 0.204688,
     "end_time": "2023-05-09T10:02:52.431835",
     "exception": false,
     "start_time": "2023-05-09T10:02:52.227147",
     "status": "completed"
    },
    "tags": []
   },
   "outputs": [],
   "source": [
    "def macro_recall(y_true, y_pred):\n",
    "    # find the number of classes\n",
    "    num_classes = len(np.unique(y_true))\n",
    "    # initialize recall to 0\n",
    "    recall = 0\n",
    "    # loop over all classes\n",
    "    for class_ in np.unique(y_true):\n",
    "        # all classes except current are considered negative\n",
    "        temp_true = [1 if p == class_ else 0 for p in y_true]\n",
    "        temp_pred = [1 if p == class_ else 0 for p in y_pred]\n",
    "        # compute true positive for current class\n",
    "        tp = true_positive(temp_true, temp_pred)\n",
    "        # compute false negative for current class\n",
    "        fn = false_negative(temp_true, temp_pred)\n",
    "        # compute recall for current class\n",
    "        temp_recall = tp / (tp + fn + 1e-6)\n",
    "        # keep adding recall for all classes\n",
    "        recall += temp_recall\n",
    "    # calculate and return average recall over all classes\n",
    "    recall /= num_classes\n",
    "    return recall"
   ]
  },
  {
   "cell_type": "code",
   "execution_count": 31,
   "id": "8416a5be",
   "metadata": {
    "execution": {
     "iopub.execute_input": "2023-05-09T10:02:52.736095Z",
     "iopub.status.busy": "2023-05-09T10:02:52.735448Z",
     "iopub.status.idle": "2023-05-09T10:02:52.742793Z",
     "shell.execute_reply": "2023-05-09T10:02:52.741981Z"
    },
    "executionInfo": {
     "elapsed": 220,
     "status": "ok",
     "timestamp": 1683541496974,
     "user": {
      "displayName": "Datt Patel",
      "userId": "03546091703206854124"
     },
     "user_tz": 420
    },
    "id": "VUMhIDtZzoAw",
    "papermill": {
     "duration": 0.162749,
     "end_time": "2023-05-09T10:02:52.744623",
     "exception": false,
     "start_time": "2023-05-09T10:02:52.581874",
     "status": "completed"
    },
    "tags": []
   },
   "outputs": [],
   "source": [
    "def macro_f1(y_true, y_pred):\n",
    "    # find the number of classes\n",
    "    num_classes = len(np.unique(y_true))\n",
    "    # initialize f1 to 0\n",
    "    f1 = 0\n",
    "    # loop over all classes\n",
    "    for class_ in np.unique(y_true):\n",
    "        # all classes except current are considered negative\n",
    "        temp_true = [1 if p == class_ else 0 for p in y_true]\n",
    "        temp_pred = [1 if p == class_ else 0 for p in y_pred]\n",
    "        # compute true positive for current class\n",
    "        tp = true_positive(temp_true, temp_pred)\n",
    "        # compute false negative for current class\n",
    "        fn = false_negative(temp_true, temp_pred)\n",
    "        # compute false positive for current class\n",
    "        fp = false_positive(temp_true, temp_pred)\n",
    "        # compute recall for current class\n",
    "        temp_recall = tp / (tp + fn + 1e-6)\n",
    "        # compute precision for current class\n",
    "        temp_precision = tp / (tp + fp + 1e-6)\n",
    "        temp_f1 = 2 * temp_precision * temp_recall / (temp_precision + temp_recall + 1e-6)\n",
    "        # keep adding f1 score for all classes\n",
    "        f1 += temp_f1\n",
    "    # calculate and return average f1 score over all classes\n",
    "    f1 /= num_classes\n",
    "    return f1"
   ]
  },
  {
   "cell_type": "code",
   "execution_count": 32,
   "id": "9f041c39",
   "metadata": {
    "execution": {
     "iopub.execute_input": "2023-05-09T10:02:53.052202Z",
     "iopub.status.busy": "2023-05-09T10:02:53.051854Z",
     "iopub.status.idle": "2023-05-09T10:02:53.057657Z",
     "shell.execute_reply": "2023-05-09T10:02:53.056738Z"
    },
    "executionInfo": {
     "elapsed": 136,
     "status": "ok",
     "timestamp": 1683541515041,
     "user": {
      "displayName": "Datt Patel",
      "userId": "03546091703206854124"
     },
     "user_tz": 420
    },
    "id": "wLSDG3olxmro",
    "papermill": {
     "duration": 0.162982,
     "end_time": "2023-05-09T10:02:53.059476",
     "exception": false,
     "start_time": "2023-05-09T10:02:52.896494",
     "status": "completed"
    },
    "tags": []
   },
   "outputs": [],
   "source": [
    "\n",
    "def printResults(model_name, y_true, y_prediction):\n",
    "    print(\"Results for model {}\".format(model_name))\n",
    "    # Calculate the confusion matrix\n",
    "    cm = confusion_matrix( y_true, y_prediction)\n",
    "    print(\"Confusion Matrix:\\n\", cm)\n",
    "\n",
    "    precision = macro_precision( y_true, y_prediction)\n",
    "    recall = macro_recall( y_true, y_prediction)\n",
    "    accuracy = findaccuracy( y_true, y_prediction)\n",
    "    f1 = macro_f1( y_true, y_prediction)\n",
    "\n",
    "    print(\"Precision:\", precision)\n",
    "    print(\"Recall:\", recall)\n",
    "    print(\"Accuracy:\", accuracy)\n",
    "    print(\"F1 Score:\", f1)"
   ]
  },
  {
   "cell_type": "code",
   "execution_count": 33,
   "id": "75562d84",
   "metadata": {
    "execution": {
     "iopub.execute_input": "2023-05-09T10:02:53.368574Z",
     "iopub.status.busy": "2023-05-09T10:02:53.368237Z",
     "iopub.status.idle": "2023-05-09T10:03:40.113003Z",
     "shell.execute_reply": "2023-05-09T10:03:40.111993Z"
    },
    "executionInfo": {
     "elapsed": 477,
     "status": "ok",
     "timestamp": 1683539092184,
     "user": {
      "displayName": "Datt Patel",
      "userId": "03546091703206854124"
     },
     "user_tz": 420
    },
    "id": "J4u0561EsEFR",
    "papermill": {
     "duration": 46.903427,
     "end_time": "2023-05-09T10:03:40.115435",
     "exception": false,
     "start_time": "2023-05-09T10:02:53.212008",
     "status": "completed"
    },
    "tags": []
   },
   "outputs": [],
   "source": [
    "testing_labels = []\n",
    "for img, label in (batched_test.take(len(batched_test))):\n",
    "    testing_labels += list(label.numpy())\n",
    "testing_labels = np.array(testing_labels)\n",
    "\n",
    "training_labels = []\n",
    "for img, label in (batched_augmented_train.take(len(batched_augmented_train))):\n",
    "    training_labels += list(label.numpy())\n",
    "training_labels = np.array(training_labels)"
   ]
  },
  {
   "cell_type": "markdown",
   "id": "6cb8f645",
   "metadata": {
    "id": "peH3XpD42hRn",
    "papermill": {
     "duration": 0.193136,
     "end_time": "2023-05-09T10:03:40.463977",
     "exception": false,
     "start_time": "2023-05-09T10:03:40.270841",
     "status": "completed"
    },
    "tags": []
   },
   "source": [
    "#### Train "
   ]
  },
  {
   "cell_type": "code",
   "execution_count": 34,
   "id": "ca608b3e",
   "metadata": {
    "execution": {
     "iopub.execute_input": "2023-05-09T10:03:40.830335Z",
     "iopub.status.busy": "2023-05-09T10:03:40.829990Z",
     "iopub.status.idle": "2023-05-09T10:03:40.916849Z",
     "shell.execute_reply": "2023-05-09T10:03:40.915271Z"
    },
    "executionInfo": {
     "elapsed": 877,
     "status": "ok",
     "timestamp": 1683541518785,
     "user": {
      "displayName": "Datt Patel",
      "userId": "03546091703206854124"
     },
     "user_tz": 420
    },
    "id": "56lX7zeC2g91",
    "outputId": "2a2b9a5a-aa3d-4242-8a20-67b39f370ce7",
    "papermill": {
     "duration": 0.240852,
     "end_time": "2023-05-09T10:03:40.918806",
     "exception": false,
     "start_time": "2023-05-09T10:03:40.677954",
     "status": "completed"
    },
    "tags": []
   },
   "outputs": [
    {
     "name": "stdout",
     "output_type": "stream",
     "text": [
      "Results for model ResNet50\n",
      "Confusion Matrix:\n",
      " [[2365    1  137   57   10]\n",
      " [  20 1556    2   41  106]\n",
      " [  29    1 2180    4    6]\n",
      " [1709    1   49  721   25]\n",
      " [  51   23  335   24 1939]]\n",
      "Precision: 0.8274898077167567\n",
      "Recall: 0.7819044811342375\n",
      "Accuracy: 0.7690484550561798\n",
      "F1 Score: 0.7656245171505014\n"
     ]
    }
   ],
   "source": [
    "printResults('ResNet50', training_labels, train_resnet_prediction)"
   ]
  },
  {
   "cell_type": "code",
   "execution_count": 35,
   "id": "9d176387",
   "metadata": {
    "execution": {
     "iopub.execute_input": "2023-05-09T10:03:41.268967Z",
     "iopub.status.busy": "2023-05-09T10:03:41.268608Z",
     "iopub.status.idle": "2023-05-09T10:03:41.352707Z",
     "shell.execute_reply": "2023-05-09T10:03:41.351644Z"
    },
    "executionInfo": {
     "elapsed": 743,
     "status": "ok",
     "timestamp": 1683541521044,
     "user": {
      "displayName": "Datt Patel",
      "userId": "03546091703206854124"
     },
     "user_tz": 420
    },
    "id": "c8wdoODV2g4C",
    "outputId": "67059a26-4128-435e-f852-c0f45eba9895",
    "papermill": {
     "duration": 0.282824,
     "end_time": "2023-05-09T10:03:41.354645",
     "exception": false,
     "start_time": "2023-05-09T10:03:41.071821",
     "status": "completed"
    },
    "tags": []
   },
   "outputs": [
    {
     "name": "stdout",
     "output_type": "stream",
     "text": [
      "Results for model EfficientNetB0\n",
      "Confusion Matrix:\n",
      " [[2364   84   74   47    1]\n",
      " [  34 1642   19   19   11]\n",
      " [ 337   33 1792   44   14]\n",
      " [1034  367  111  974   19]\n",
      " [ 137  875  229   55 1076]]\n",
      "Precision: 0.7545520589275928\n",
      "Recall: 0.7042767218404473\n",
      "Accuracy: 0.6889044943820225\n",
      "F1 Score: 0.6763846598533437\n"
     ]
    }
   ],
   "source": [
    "printResults('EfficientNetB0', training_labels, train_efficient_prediction)"
   ]
  },
  {
   "cell_type": "code",
   "execution_count": 36,
   "id": "3c9ad69b",
   "metadata": {
    "execution": {
     "iopub.execute_input": "2023-05-09T10:03:41.657528Z",
     "iopub.status.busy": "2023-05-09T10:03:41.656012Z",
     "iopub.status.idle": "2023-05-09T10:03:41.740060Z",
     "shell.execute_reply": "2023-05-09T10:03:41.738820Z"
    },
    "executionInfo": {
     "elapsed": 286,
     "status": "ok",
     "timestamp": 1683541522262,
     "user": {
      "displayName": "Datt Patel",
      "userId": "03546091703206854124"
     },
     "user_tz": 420
    },
    "id": "VSBo7Jvg2gsk",
    "outputId": "6a9eda59-eabf-48b6-c534-5f7bb188f3a1",
    "papermill": {
     "duration": 0.237032,
     "end_time": "2023-05-09T10:03:41.741855",
     "exception": false,
     "start_time": "2023-05-09T10:03:41.504823",
     "status": "completed"
    },
    "tags": []
   },
   "outputs": [
    {
     "name": "stdout",
     "output_type": "stream",
     "text": [
      "Results for model VGG16\n",
      "Confusion Matrix:\n",
      " [[1702  340  164  337   27]\n",
      " [  26 1607   28   39   25]\n",
      " [ 217   97 1700   80  126]\n",
      " [ 576  515  128 1244   42]\n",
      " [ 106 1055  232  106  873]]\n",
      "Precision: 0.6669931417354595\n",
      "Recall: 0.6448534815581111\n",
      "Accuracy: 0.6255266853932584\n",
      "F1 Score: 0.6196573808482326\n"
     ]
    }
   ],
   "source": [
    "printResults('VGG16', training_labels, train_vgg_prediction)"
   ]
  },
  {
   "cell_type": "markdown",
   "id": "c1510f4d",
   "metadata": {
    "id": "nhSELG_w2ike",
    "papermill": {
     "duration": 0.151567,
     "end_time": "2023-05-09T10:03:42.044696",
     "exception": false,
     "start_time": "2023-05-09T10:03:41.893129",
     "status": "completed"
    },
    "tags": []
   },
   "source": [
    "#### Test"
   ]
  },
  {
   "cell_type": "code",
   "execution_count": 37,
   "id": "e8090d49",
   "metadata": {
    "execution": {
     "iopub.execute_input": "2023-05-09T10:03:42.350464Z",
     "iopub.status.busy": "2023-05-09T10:03:42.349473Z",
     "iopub.status.idle": "2023-05-09T10:03:42.359823Z",
     "shell.execute_reply": "2023-05-09T10:03:42.358684Z"
    },
    "executionInfo": {
     "elapsed": 131,
     "status": "ok",
     "timestamp": 1683541523928,
     "user": {
      "displayName": "Datt Patel",
      "userId": "03546091703206854124"
     },
     "user_tz": 420
    },
    "id": "mOSTLcixwC9E",
    "outputId": "99e7335c-66ee-4fca-92c2-13cde9ed61cb",
    "papermill": {
     "duration": 0.164971,
     "end_time": "2023-05-09T10:03:42.361610",
     "exception": false,
     "start_time": "2023-05-09T10:03:42.196639",
     "status": "completed"
    },
    "tags": []
   },
   "outputs": [
    {
     "name": "stdout",
     "output_type": "stream",
     "text": [
      "Results for model ResNet50\n",
      "Confusion Matrix:\n",
      " [[104   0   5   0   0]\n",
      " [  1  67   0   0   5]\n",
      " [  1   0  93   0   0]\n",
      " [ 78   0   2  26   0]\n",
      " [  0   0   0   0   2]]\n",
      "Precision: 0.756186314088714\n",
      "Recall: 0.8213161692751173\n",
      "Accuracy: 0.7604166666666666\n",
      "F1 Score: 0.6928369864086487\n"
     ]
    }
   ],
   "source": [
    "printResults('ResNet50', testing_labels, test_resnet_prediction)"
   ]
  },
  {
   "cell_type": "code",
   "execution_count": 38,
   "id": "d9664e9e",
   "metadata": {
    "execution": {
     "iopub.execute_input": "2023-05-09T10:03:42.664855Z",
     "iopub.status.busy": "2023-05-09T10:03:42.663801Z",
     "iopub.status.idle": "2023-05-09T10:03:42.674177Z",
     "shell.execute_reply": "2023-05-09T10:03:42.672692Z"
    },
    "executionInfo": {
     "elapsed": 175,
     "status": "ok",
     "timestamp": 1683541525422,
     "user": {
      "displayName": "Datt Patel",
      "userId": "03546091703206854124"
     },
     "user_tz": 420
    },
    "id": "YXLmS4Rm1xFU",
    "outputId": "0fdc421d-dee0-4ac8-b2ca-e26d9abb4d1f",
    "papermill": {
     "duration": 0.164136,
     "end_time": "2023-05-09T10:03:42.675938",
     "exception": false,
     "start_time": "2023-05-09T10:03:42.511802",
     "status": "completed"
    },
    "tags": []
   },
   "outputs": [
    {
     "name": "stdout",
     "output_type": "stream",
     "text": [
      "Results for model EfficientNetB0\n",
      "Confusion Matrix:\n",
      " [[106   1   0   2   0]\n",
      " [  1  72   0   0   0]\n",
      " [ 15   1  77   1   0]\n",
      " [ 38  15   5  45   3]\n",
      " [  0   1   0   0   1]]\n",
      "Precision: 0.7178048567463275\n",
      "Recall: 0.7404910773976416\n",
      "Accuracy: 0.7838541666666666\n",
      "F1 Score: 0.6928572193324714\n"
     ]
    }
   ],
   "source": [
    "printResults('EfficientNetB0', testing_labels, test_efficient_prediction)"
   ]
  },
  {
   "cell_type": "code",
   "execution_count": 39,
   "id": "8bce7bb5",
   "metadata": {
    "execution": {
     "iopub.execute_input": "2023-05-09T10:03:42.996876Z",
     "iopub.status.busy": "2023-05-09T10:03:42.995794Z",
     "iopub.status.idle": "2023-05-09T10:03:43.006072Z",
     "shell.execute_reply": "2023-05-09T10:03:43.004710Z"
    },
    "executionInfo": {
     "elapsed": 784,
     "status": "ok",
     "timestamp": 1683541527385,
     "user": {
      "displayName": "Datt Patel",
      "userId": "03546091703206854124"
     },
     "user_tz": 420
    },
    "id": "T884KQOU1xa9",
    "outputId": "24c31107-930c-4d53-e82e-d7b545501c86",
    "papermill": {
     "duration": 0.176855,
     "end_time": "2023-05-09T10:03:43.007943",
     "exception": false,
     "start_time": "2023-05-09T10:03:42.831088",
     "status": "completed"
    },
    "tags": []
   },
   "outputs": [
    {
     "name": "stdout",
     "output_type": "stream",
     "text": [
      "Results for model VGG16\n",
      "Confusion Matrix:\n",
      " [[85 10  3 11  0]\n",
      " [ 1 69  0  3  0]\n",
      " [10  2 78  0  4]\n",
      " [23 20  4 58  1]\n",
      " [ 0  1  0  1  0]]\n",
      "Precision: 0.6205847749951174\n",
      "Recall: 0.6203958008970055\n",
      "Accuracy: 0.7552083333333334\n",
      "F1 Score: 0.6107473073410927\n"
     ]
    }
   ],
   "source": [
    "printResults('VGG16', testing_labels, test_vgg_prediction)"
   ]
  },
  {
   "cell_type": "markdown",
   "id": "5a51038d",
   "metadata": {
    "id": "5Xl56Kqs3FDG",
    "papermill": {
     "duration": 0.198842,
     "end_time": "2023-05-09T10:03:43.361250",
     "exception": false,
     "start_time": "2023-05-09T10:03:43.162408",
     "status": "completed"
    },
    "tags": []
   },
   "source": [
    "### Video Analysis"
   ]
  },
  {
   "cell_type": "markdown",
   "id": "7c9c94aa",
   "metadata": {
    "papermill": {
     "duration": 0.155129,
     "end_time": "2023-05-09T10:03:43.668284",
     "exception": false,
     "start_time": "2023-05-09T10:03:43.513155",
     "status": "completed"
    },
    "tags": []
   },
   "source": [
    "##### Retrain"
   ]
  },
  {
   "cell_type": "code",
   "execution_count": 40,
   "id": "73569058",
   "metadata": {
    "execution": {
     "iopub.execute_input": "2023-05-09T10:03:43.975097Z",
     "iopub.status.busy": "2023-05-09T10:03:43.974757Z",
     "iopub.status.idle": "2023-05-09T10:14:53.784510Z",
     "shell.execute_reply": "2023-05-09T10:14:53.783536Z"
    },
    "papermill": {
     "duration": 669.965865,
     "end_time": "2023-05-09T10:14:53.786743",
     "exception": false,
     "start_time": "2023-05-09T10:03:43.820878",
     "status": "completed"
    },
    "tags": []
   },
   "outputs": [
    {
     "name": "stdout",
     "output_type": "stream",
     "text": [
      "Epoch 1/50\n",
      "3/3 [==============================] - 11s 4s/step - loss: 1.2809 - accuracy: 0.6536 - val_loss: 1.0652 - val_accuracy: 0.8307\n",
      "Epoch 2/50\n",
      "3/3 [==============================] - 11s 4s/step - loss: 1.2706 - accuracy: 0.6979 - val_loss: 1.0466 - val_accuracy: 0.9271\n",
      "Epoch 3/50\n",
      "3/3 [==============================] - 10s 4s/step - loss: 1.2538 - accuracy: 0.6797 - val_loss: 1.0254 - val_accuracy: 0.9453\n",
      "Epoch 4/50\n",
      "3/3 [==============================] - 10s 4s/step - loss: 1.2491 - accuracy: 0.6719 - val_loss: 1.0153 - val_accuracy: 0.9245\n",
      "Epoch 5/50\n",
      "3/3 [==============================] - 15s 6s/step - loss: 1.2260 - accuracy: 0.6823 - val_loss: 0.9763 - val_accuracy: 0.8854\n",
      "Epoch 6/50\n",
      "3/3 [==============================] - 15s 6s/step - loss: 1.2303 - accuracy: 0.6719 - val_loss: 0.9395 - val_accuracy: 0.8672\n",
      "Epoch 7/50\n",
      "3/3 [==============================] - 11s 4s/step - loss: 1.1887 - accuracy: 0.6641 - val_loss: 0.8840 - val_accuracy: 0.9193\n",
      "Epoch 8/50\n",
      "3/3 [==============================] - 10s 4s/step - loss: 1.1846 - accuracy: 0.6641 - val_loss: 0.8820 - val_accuracy: 0.9193\n",
      "Epoch 9/50\n",
      "3/3 [==============================] - 10s 4s/step - loss: 1.1662 - accuracy: 0.6562 - val_loss: 0.8882 - val_accuracy: 0.8958\n",
      "Epoch 10/50\n",
      "3/3 [==============================] - 10s 4s/step - loss: 1.1548 - accuracy: 0.6693 - val_loss: 0.8838 - val_accuracy: 0.8594\n",
      "Epoch 11/50\n",
      "3/3 [==============================] - 11s 4s/step - loss: 1.1332 - accuracy: 0.6823 - val_loss: 0.8553 - val_accuracy: 0.8880\n",
      "Epoch 12/50\n",
      "3/3 [==============================] - 10s 4s/step - loss: 1.1128 - accuracy: 0.6432 - val_loss: 0.8183 - val_accuracy: 0.9531\n",
      "Epoch 13/50\n",
      "3/3 [==============================] - 11s 4s/step - loss: 1.1004 - accuracy: 0.7057 - val_loss: 0.8172 - val_accuracy: 0.9557\n",
      "Epoch 14/50\n",
      "3/3 [==============================] - 10s 4s/step - loss: 1.0848 - accuracy: 0.7240 - val_loss: 0.8135 - val_accuracy: 0.9635\n",
      "Epoch 15/50\n",
      "3/3 [==============================] - 11s 4s/step - loss: 1.0711 - accuracy: 0.7240 - val_loss: 0.8000 - val_accuracy: 0.9661\n",
      "Epoch 16/50\n",
      "3/3 [==============================] - 10s 4s/step - loss: 1.0518 - accuracy: 0.7057 - val_loss: 0.7822 - val_accuracy: 0.9583\n",
      "Epoch 17/50\n",
      "3/3 [==============================] - 11s 4s/step - loss: 1.0485 - accuracy: 0.7266 - val_loss: 0.7641 - val_accuracy: 0.9583\n",
      "Epoch 18/50\n",
      "3/3 [==============================] - 10s 4s/step - loss: 1.0327 - accuracy: 0.7005 - val_loss: 0.7424 - val_accuracy: 0.9635\n",
      "Epoch 19/50\n",
      "3/3 [==============================] - 11s 4s/step - loss: 1.0294 - accuracy: 0.7214 - val_loss: 0.7449 - val_accuracy: 0.9661\n",
      "Epoch 20/50\n",
      "3/3 [==============================] - 10s 4s/step - loss: 1.0045 - accuracy: 0.7005 - val_loss: 0.7219 - val_accuracy: 0.9896\n",
      "Epoch 21/50\n",
      "3/3 [==============================] - 11s 4s/step - loss: 0.9837 - accuracy: 0.7396 - val_loss: 0.7020 - val_accuracy: 0.9818\n",
      "Epoch 22/50\n",
      "3/3 [==============================] - 10s 4s/step - loss: 0.9891 - accuracy: 0.7214 - val_loss: 0.7006 - val_accuracy: 0.9766\n",
      "Epoch 23/50\n",
      "3/3 [==============================] - 10s 4s/step - loss: 0.9695 - accuracy: 0.7422 - val_loss: 0.6962 - val_accuracy: 0.9688\n",
      "Epoch 24/50\n",
      "3/3 [==============================] - 10s 4s/step - loss: 0.9511 - accuracy: 0.7500 - val_loss: 0.6648 - val_accuracy: 0.9609\n",
      "Epoch 25/50\n",
      "3/3 [==============================] - 10s 4s/step - loss: 0.9446 - accuracy: 0.7396 - val_loss: 0.6444 - val_accuracy: 0.9688\n",
      "Epoch 26/50\n",
      "3/3 [==============================] - 10s 4s/step - loss: 0.9325 - accuracy: 0.6927 - val_loss: 0.6379 - val_accuracy: 0.9844\n",
      "Epoch 27/50\n",
      "3/3 [==============================] - 11s 4s/step - loss: 0.9252 - accuracy: 0.7422 - val_loss: 0.5898 - val_accuracy: 0.9844\n",
      "Epoch 28/50\n",
      "3/3 [==============================] - 10s 4s/step - loss: 0.9194 - accuracy: 0.7370 - val_loss: 0.5960 - val_accuracy: 0.9922\n",
      "Epoch 29/50\n",
      "3/3 [==============================] - 10s 4s/step - loss: 0.9171 - accuracy: 0.7240 - val_loss: 0.5890 - val_accuracy: 0.9922\n",
      "Epoch 30/50\n",
      "3/3 [==============================] - 10s 4s/step - loss: 0.9022 - accuracy: 0.7552 - val_loss: 0.6157 - val_accuracy: 0.9844\n",
      "Epoch 31/50\n",
      "3/3 [==============================] - 10s 4s/step - loss: 0.8817 - accuracy: 0.7500 - val_loss: 0.5713 - val_accuracy: 0.9766\n",
      "Epoch 32/50\n",
      "3/3 [==============================] - 10s 4s/step - loss: 0.8809 - accuracy: 0.7786 - val_loss: 0.5498 - val_accuracy: 0.9661\n",
      "Epoch 33/50\n",
      "3/3 [==============================] - 10s 4s/step - loss: 0.8646 - accuracy: 0.7214 - val_loss: 0.5490 - val_accuracy: 0.9714\n",
      "Epoch 34/50\n",
      "3/3 [==============================] - 10s 4s/step - loss: 0.8603 - accuracy: 0.7630 - val_loss: 0.5346 - val_accuracy: 0.9818\n",
      "Epoch 35/50\n",
      "3/3 [==============================] - 11s 4s/step - loss: 0.8539 - accuracy: 0.7682 - val_loss: 0.5330 - val_accuracy: 0.9896\n",
      "Epoch 36/50\n",
      "3/3 [==============================] - 10s 4s/step - loss: 0.8465 - accuracy: 0.7552 - val_loss: 0.5450 - val_accuracy: 0.9766\n",
      "Epoch 37/50\n",
      "3/3 [==============================] - 10s 4s/step - loss: 0.8226 - accuracy: 0.7734 - val_loss: 0.5116 - val_accuracy: 0.9948\n",
      "Epoch 38/50\n",
      "3/3 [==============================] - 10s 4s/step - loss: 0.8148 - accuracy: 0.7656 - val_loss: 0.4748 - val_accuracy: 0.9818\n",
      "Epoch 39/50\n",
      "3/3 [==============================] - 10s 4s/step - loss: 0.8164 - accuracy: 0.7760 - val_loss: 0.4837 - val_accuracy: 0.9948\n",
      "Epoch 40/50\n",
      "3/3 [==============================] - 10s 4s/step - loss: 0.8033 - accuracy: 0.7656 - val_loss: 0.4685 - val_accuracy: 0.9948\n",
      "Epoch 41/50\n",
      "3/3 [==============================] - 10s 4s/step - loss: 0.7988 - accuracy: 0.7786 - val_loss: 0.4744 - val_accuracy: 0.9870\n",
      "Epoch 42/50\n",
      "3/3 [==============================] - 10s 4s/step - loss: 0.7976 - accuracy: 0.7812 - val_loss: 0.4675 - val_accuracy: 0.9922\n",
      "Epoch 43/50\n",
      "3/3 [==============================] - 10s 4s/step - loss: 0.7828 - accuracy: 0.7708 - val_loss: 0.4386 - val_accuracy: 0.9844\n",
      "Epoch 44/50\n",
      "3/3 [==============================] - 10s 4s/step - loss: 0.7734 - accuracy: 0.7917 - val_loss: 0.4560 - val_accuracy: 0.9870\n",
      "Epoch 45/50\n",
      "3/3 [==============================] - 10s 4s/step - loss: 0.7685 - accuracy: 0.8125 - val_loss: 0.4422 - val_accuracy: 0.9948\n",
      "Epoch 46/50\n",
      "3/3 [==============================] - 10s 4s/step - loss: 0.7616 - accuracy: 0.7995 - val_loss: 0.4266 - val_accuracy: 0.9948\n",
      "Epoch 47/50\n",
      "3/3 [==============================] - 11s 4s/step - loss: 0.7525 - accuracy: 0.8021 - val_loss: 0.4091 - val_accuracy: 0.9870\n",
      "Epoch 48/50\n",
      "3/3 [==============================] - 10s 4s/step - loss: 0.7413 - accuracy: 0.8021 - val_loss: 0.4067 - val_accuracy: 0.9922\n",
      "Epoch 49/50\n",
      "3/3 [==============================] - 11s 4s/step - loss: 0.7409 - accuracy: 0.7917 - val_loss: 0.3954 - val_accuracy: 0.9870\n",
      "Epoch 50/50\n",
      "3/3 [==============================] - 10s 4s/step - loss: 0.7464 - accuracy: 0.8125 - val_loss: 0.3945 - val_accuracy: 0.9896\n"
     ]
    }
   ],
   "source": [
    "vide_resnet_history = resnet_model.fit(batched_val, epochs=EPOCHS, batch_size=FIT_BATCH, callbacks=[early_stopper], verbose=1, validation_data=batched_test)"
   ]
  },
  {
   "cell_type": "code",
   "execution_count": 41,
   "id": "4d51014f",
   "metadata": {
    "execution": {
     "iopub.execute_input": "2023-05-09T10:14:54.120286Z",
     "iopub.status.busy": "2023-05-09T10:14:54.119936Z",
     "iopub.status.idle": "2023-05-09T10:17:56.333996Z",
     "shell.execute_reply": "2023-05-09T10:17:56.332998Z"
    },
    "papermill": {
     "duration": 182.382377,
     "end_time": "2023-05-09T10:17:56.336030",
     "exception": false,
     "start_time": "2023-05-09T10:14:53.953653",
     "status": "completed"
    },
    "tags": []
   },
   "outputs": [
    {
     "name": "stdout",
     "output_type": "stream",
     "text": [
      "Epoch 1/50\n",
      "3/3 [==============================] - 11s 4s/step - loss: 1.4046 - accuracy: 0.4297 - val_loss: 0.7708 - val_accuracy: 0.7969\n",
      "Epoch 2/50\n",
      "3/3 [==============================] - 10s 4s/step - loss: 1.3204 - accuracy: 0.4557 - val_loss: 0.7408 - val_accuracy: 0.7812\n",
      "Epoch 3/50\n",
      "3/3 [==============================] - 10s 4s/step - loss: 1.2326 - accuracy: 0.5312 - val_loss: 0.6604 - val_accuracy: 0.8229\n",
      "Epoch 4/50\n",
      "3/3 [==============================] - 10s 4s/step - loss: 1.1624 - accuracy: 0.5911 - val_loss: 0.5966 - val_accuracy: 0.8333\n",
      "Epoch 5/50\n",
      "3/3 [==============================] - 10s 4s/step - loss: 1.1271 - accuracy: 0.5703 - val_loss: 0.5295 - val_accuracy: 0.8776\n",
      "Epoch 6/50\n",
      "3/3 [==============================] - 10s 4s/step - loss: 1.1020 - accuracy: 0.5964 - val_loss: 0.4476 - val_accuracy: 0.8932\n",
      "Epoch 7/50\n",
      "3/3 [==============================] - 14s 6s/step - loss: 1.0679 - accuracy: 0.5807 - val_loss: 0.3779 - val_accuracy: 0.9297\n",
      "Epoch 8/50\n",
      "3/3 [==============================] - 15s 6s/step - loss: 1.0489 - accuracy: 0.5859 - val_loss: 0.3484 - val_accuracy: 0.9453\n",
      "Epoch 9/50\n",
      "3/3 [==============================] - 10s 4s/step - loss: 1.0034 - accuracy: 0.6432 - val_loss: 0.2744 - val_accuracy: 0.9714\n",
      "Epoch 10/50\n",
      "3/3 [==============================] - 10s 4s/step - loss: 0.9901 - accuracy: 0.6016 - val_loss: 0.2927 - val_accuracy: 0.9661\n",
      "Epoch 11/50\n",
      "3/3 [==============================] - 10s 4s/step - loss: 0.9781 - accuracy: 0.6693 - val_loss: 0.2419 - val_accuracy: 0.9792\n",
      "Epoch 12/50\n",
      "3/3 [==============================] - 10s 4s/step - loss: 0.9601 - accuracy: 0.6484 - val_loss: 0.2667 - val_accuracy: 0.9740\n",
      "Epoch 13/50\n",
      "3/3 [==============================] - 10s 4s/step - loss: 0.9413 - accuracy: 0.6875 - val_loss: 0.2536 - val_accuracy: 0.9766\n",
      "Epoch 14/50\n",
      "3/3 [==============================] - ETA: 0s - loss: 0.9103 - accuracy: 0.6510Restoring model weights from the end of the best epoch: 11.\n",
      "3/3 [==============================] - 10s 4s/step - loss: 0.9103 - accuracy: 0.6510 - val_loss: 0.2455 - val_accuracy: 0.9740\n",
      "Epoch 14: early stopping\n"
     ]
    }
   ],
   "source": [
    "vide_efficient_history = efficient_model.fit(batched_val, epochs=EPOCHS, batch_size=FIT_BATCH, callbacks=[early_stopper], verbose=1, validation_data=batched_test)"
   ]
  },
  {
   "cell_type": "code",
   "execution_count": 42,
   "id": "be6ca0a7",
   "metadata": {
    "execution": {
     "iopub.execute_input": "2023-05-09T10:17:56.678912Z",
     "iopub.status.busy": "2023-05-09T10:17:56.677889Z",
     "iopub.status.idle": "2023-05-09T10:25:49.521713Z",
     "shell.execute_reply": "2023-05-09T10:25:49.520581Z"
    },
    "papermill": {
     "duration": 473.015186,
     "end_time": "2023-05-09T10:25:49.523534",
     "exception": false,
     "start_time": "2023-05-09T10:17:56.508348",
     "status": "completed"
    },
    "tags": []
   },
   "outputs": [
    {
     "name": "stdout",
     "output_type": "stream",
     "text": [
      "Epoch 1/50\n",
      "3/3 [==============================] - 10s 4s/step - loss: 1.3962 - accuracy: 0.4323 - val_loss: 1.0784 - val_accuracy: 0.7604\n",
      "Epoch 2/50\n",
      "3/3 [==============================] - 11s 4s/step - loss: 1.3778 - accuracy: 0.4375 - val_loss: 1.0351 - val_accuracy: 0.7604\n",
      "Epoch 3/50\n",
      "3/3 [==============================] - 10s 4s/step - loss: 1.3174 - accuracy: 0.4948 - val_loss: 0.9860 - val_accuracy: 0.7474\n",
      "Epoch 4/50\n",
      "3/3 [==============================] - 10s 4s/step - loss: 1.2933 - accuracy: 0.4974 - val_loss: 0.9673 - val_accuracy: 0.7109\n",
      "Epoch 5/50\n",
      "3/3 [==============================] - 10s 4s/step - loss: 1.2446 - accuracy: 0.5182 - val_loss: 0.9296 - val_accuracy: 0.7135\n",
      "Epoch 6/50\n",
      "3/3 [==============================] - 11s 4s/step - loss: 1.2141 - accuracy: 0.5156 - val_loss: 0.8872 - val_accuracy: 0.7188\n",
      "Epoch 7/50\n",
      "3/3 [==============================] - 10s 4s/step - loss: 1.2005 - accuracy: 0.5234 - val_loss: 0.8426 - val_accuracy: 0.7708\n",
      "Epoch 8/50\n",
      "3/3 [==============================] - 10s 4s/step - loss: 1.1815 - accuracy: 0.5417 - val_loss: 0.8184 - val_accuracy: 0.7865\n",
      "Epoch 9/50\n",
      "3/3 [==============================] - 11s 4s/step - loss: 1.1409 - accuracy: 0.5443 - val_loss: 0.7623 - val_accuracy: 0.7995\n",
      "Epoch 10/50\n",
      "3/3 [==============================] - 10s 4s/step - loss: 1.1297 - accuracy: 0.5234 - val_loss: 0.7033 - val_accuracy: 0.8255\n",
      "Epoch 11/50\n",
      "3/3 [==============================] - 10s 4s/step - loss: 1.1189 - accuracy: 0.5573 - val_loss: 0.6842 - val_accuracy: 0.8542\n",
      "Epoch 12/50\n",
      "3/3 [==============================] - 11s 4s/step - loss: 1.0750 - accuracy: 0.5807 - val_loss: 0.6649 - val_accuracy: 0.8307\n",
      "Epoch 13/50\n",
      "3/3 [==============================] - 10s 4s/step - loss: 1.0704 - accuracy: 0.5495 - val_loss: 0.6311 - val_accuracy: 0.8646\n",
      "Epoch 14/50\n",
      "3/3 [==============================] - 10s 4s/step - loss: 1.0621 - accuracy: 0.5677 - val_loss: 0.6490 - val_accuracy: 0.8385\n",
      "Epoch 15/50\n",
      "3/3 [==============================] - 10s 4s/step - loss: 1.0436 - accuracy: 0.5781 - val_loss: 0.6245 - val_accuracy: 0.8724\n",
      "Epoch 16/50\n",
      "3/3 [==============================] - 10s 4s/step - loss: 1.0255 - accuracy: 0.5885 - val_loss: 0.6155 - val_accuracy: 0.8542\n",
      "Epoch 17/50\n",
      "3/3 [==============================] - 10s 4s/step - loss: 1.0060 - accuracy: 0.6146 - val_loss: 0.6340 - val_accuracy: 0.8542\n",
      "Epoch 18/50\n",
      "3/3 [==============================] - 10s 4s/step - loss: 0.9699 - accuracy: 0.6172 - val_loss: 0.5811 - val_accuracy: 0.8854\n",
      "Epoch 19/50\n",
      "3/3 [==============================] - 10s 4s/step - loss: 0.9836 - accuracy: 0.6380 - val_loss: 0.5664 - val_accuracy: 0.9375\n",
      "Epoch 20/50\n",
      "3/3 [==============================] - 10s 4s/step - loss: 0.9919 - accuracy: 0.6276 - val_loss: 0.5685 - val_accuracy: 0.9323\n",
      "Epoch 21/50\n",
      "3/3 [==============================] - 10s 4s/step - loss: 0.9403 - accuracy: 0.6484 - val_loss: 0.5619 - val_accuracy: 0.9141\n",
      "Epoch 22/50\n",
      "3/3 [==============================] - 10s 4s/step - loss: 0.9485 - accuracy: 0.6589 - val_loss: 0.5406 - val_accuracy: 0.9349\n",
      "Epoch 23/50\n",
      "3/3 [==============================] - 11s 4s/step - loss: 0.9159 - accuracy: 0.6562 - val_loss: 0.5307 - val_accuracy: 0.9297\n",
      "Epoch 24/50\n",
      "3/3 [==============================] - 10s 4s/step - loss: 0.9104 - accuracy: 0.6562 - val_loss: 0.5189 - val_accuracy: 0.9453\n",
      "Epoch 25/50\n",
      "3/3 [==============================] - 10s 4s/step - loss: 0.8976 - accuracy: 0.6927 - val_loss: 0.5217 - val_accuracy: 0.9479\n",
      "Epoch 26/50\n",
      "3/3 [==============================] - 10s 4s/step - loss: 0.8940 - accuracy: 0.6719 - val_loss: 0.5069 - val_accuracy: 0.9505\n",
      "Epoch 27/50\n",
      "3/3 [==============================] - 10s 4s/step - loss: 0.8767 - accuracy: 0.6745 - val_loss: 0.5087 - val_accuracy: 0.9479\n",
      "Epoch 28/50\n",
      "3/3 [==============================] - 10s 4s/step - loss: 0.8703 - accuracy: 0.6719 - val_loss: 0.5018 - val_accuracy: 0.9505\n",
      "Epoch 29/50\n",
      "3/3 [==============================] - 10s 4s/step - loss: 0.8567 - accuracy: 0.6641 - val_loss: 0.4784 - val_accuracy: 0.9661\n",
      "Epoch 30/50\n",
      "3/3 [==============================] - 10s 4s/step - loss: 0.8517 - accuracy: 0.6719 - val_loss: 0.4924 - val_accuracy: 0.9479\n",
      "Epoch 31/50\n",
      "3/3 [==============================] - 10s 4s/step - loss: 0.8268 - accuracy: 0.6953 - val_loss: 0.4728 - val_accuracy: 0.9583\n",
      "Epoch 32/50\n",
      "3/3 [==============================] - 10s 4s/step - loss: 0.8069 - accuracy: 0.7057 - val_loss: 0.4681 - val_accuracy: 0.9479\n",
      "Epoch 33/50\n",
      "3/3 [==============================] - 11s 4s/step - loss: 0.8240 - accuracy: 0.7214 - val_loss: 0.4468 - val_accuracy: 0.9661\n",
      "Epoch 34/50\n",
      "3/3 [==============================] - 10s 4s/step - loss: 0.8170 - accuracy: 0.7344 - val_loss: 0.4373 - val_accuracy: 0.9661\n",
      "Epoch 35/50\n",
      "3/3 [==============================] - 10s 4s/step - loss: 0.7746 - accuracy: 0.7578 - val_loss: 0.4493 - val_accuracy: 0.9792\n",
      "Epoch 36/50\n",
      "3/3 [==============================] - 14s 6s/step - loss: 0.7728 - accuracy: 0.7344 - val_loss: 0.4699 - val_accuracy: 0.9635\n",
      "Epoch 37/50\n",
      "3/3 [==============================] - ETA: 0s - loss: 0.7642 - accuracy: 0.7344Restoring model weights from the end of the best epoch: 34.\n",
      "3/3 [==============================] - 10s 4s/step - loss: 0.7642 - accuracy: 0.7344 - val_loss: 0.4432 - val_accuracy: 0.9635\n",
      "Epoch 37: early stopping\n"
     ]
    }
   ],
   "source": [
    "vide_vgg_history = vgg_model.fit(batched_val, epochs=EPOCHS, batch_size=FIT_BATCH, callbacks=[early_stopper], verbose=1, validation_data=batched_test)"
   ]
  },
  {
   "cell_type": "markdown",
   "id": "579ed9fc",
   "metadata": {
    "papermill": {
     "duration": 0.179077,
     "end_time": "2023-05-09T10:25:49.885838",
     "exception": false,
     "start_time": "2023-05-09T10:25:49.706761",
     "status": "completed"
    },
    "tags": []
   },
   "source": [
    "#### Analysis"
   ]
  },
  {
   "cell_type": "code",
   "execution_count": 43,
   "id": "bb551c91",
   "metadata": {
    "execution": {
     "iopub.execute_input": "2023-05-09T10:25:50.245257Z",
     "iopub.status.busy": "2023-05-09T10:25:50.244916Z",
     "iopub.status.idle": "2023-05-09T10:25:50.250252Z",
     "shell.execute_reply": "2023-05-09T10:25:50.249238Z"
    },
    "papermill": {
     "duration": 0.187741,
     "end_time": "2023-05-09T10:25:50.252401",
     "exception": false,
     "start_time": "2023-05-09T10:25:50.064660",
     "status": "completed"
    },
    "tags": []
   },
   "outputs": [],
   "source": [
    "frames_split = 100\n",
    "\n",
    "def preprocess_frame(img):\n",
    "    img = cv2.resize(img, (IMG_WID, IMG_HG))\n",
    "    img = np.expand_dims(img, axis=0)\n",
    "    return img"
   ]
  },
  {
   "cell_type": "code",
   "execution_count": 44,
   "id": "daadfeaa",
   "metadata": {
    "execution": {
     "iopub.execute_input": "2023-05-09T10:25:50.700426Z",
     "iopub.status.busy": "2023-05-09T10:25:50.700085Z",
     "iopub.status.idle": "2023-05-09T10:25:50.706161Z",
     "shell.execute_reply": "2023-05-09T10:25:50.705058Z"
    },
    "id": "z_rE7Pi53HqO",
    "papermill": {
     "duration": 0.240902,
     "end_time": "2023-05-09T10:25:50.708289",
     "exception": false,
     "start_time": "2023-05-09T10:25:50.467387",
     "status": "completed"
    },
    "tags": []
   },
   "outputs": [],
   "source": [
    "def getFilesLabels():\n",
    "    directory_video_Files = pathlib.Path('/kaggle/input/project-images/Data/Sport Videos')\n",
    "    video_file_paths = []\n",
    "    video_file_labels = []\n",
    "    folder_to_class = {'BaseballPitch':0,'Basketball':1,'Fencing':2,'TennisSwing':3,'VolleyballSpiking':4}\n",
    "    for video_path in directory_video_Files.glob('**/*.avi'):\n",
    "        file_folder_name = os.path.basename(os.path.dirname(video_path)).split('/')[-1]\n",
    "        video_file_labels.append(folder_to_class[file_folder_name])\n",
    "        video_file_paths.append(str(video_path))\n",
    "    return video_file_paths, video_file_labels"
   ]
  },
  {
   "cell_type": "code",
   "execution_count": 45,
   "id": "a277aeae",
   "metadata": {
    "execution": {
     "iopub.execute_input": "2023-05-09T10:25:51.066155Z",
     "iopub.status.busy": "2023-05-09T10:25:51.065809Z",
     "iopub.status.idle": "2023-05-09T10:25:51.290604Z",
     "shell.execute_reply": "2023-05-09T10:25:51.289717Z"
    },
    "papermill": {
     "duration": 0.406259,
     "end_time": "2023-05-09T10:25:51.292618",
     "exception": false,
     "start_time": "2023-05-09T10:25:50.886359",
     "status": "completed"
    },
    "tags": []
   },
   "outputs": [],
   "source": [
    "file_paths, y_true = getFilesLabels()"
   ]
  },
  {
   "cell_type": "code",
   "execution_count": 46,
   "id": "07ef33fc",
   "metadata": {
    "execution": {
     "iopub.execute_input": "2023-05-09T10:25:51.747394Z",
     "iopub.status.busy": "2023-05-09T10:25:51.747055Z",
     "iopub.status.idle": "2023-05-09T10:25:51.756847Z",
     "shell.execute_reply": "2023-05-09T10:25:51.755992Z"
    },
    "papermill": {
     "duration": 0.203619,
     "end_time": "2023-05-09T10:25:51.758691",
     "exception": false,
     "start_time": "2023-05-09T10:25:51.555072",
     "status": "completed"
    },
    "tags": []
   },
   "outputs": [],
   "source": [
    "def videoPrediction(path):\n",
    "    resnet_model_prediction = []\n",
    "    efficient_model_prediction = [] \n",
    "    vgg_model_prediction = []\n",
    "    # Verify file type\n",
    "    if str(path)[-4:] == '.avi':\n",
    "        picked_frames =[]\n",
    "        cap = cv2.VideoCapture(str(path))\n",
    "        video_length = int(cap.get(cv2.CAP_PROP_FRAME_COUNT))\n",
    "        success = cap.grab()\n",
    "        while success:\n",
    "            if (len(picked_frames) < int(frames_split) or (len(picked_frames)/video_length) < 0.6):\n",
    "                success, img = cap.retrieve()\n",
    "                frame = preprocess_frame(img) # Frame as input to prediction\n",
    "                resnet_model_prediction.append(resnet_model.predict(frame, verbose=0))\n",
    "                efficient_model_prediction.append(efficient_model.predict(frame,verbose=0))\n",
    "                vgg_model_prediction.append(vgg_model.predict(frame,verbose=0))\n",
    "                success = cap.grab()\n",
    "        cap.release()\n",
    "    resnet_prediction = np.argmax(np.mean(resnet_model_prediction, axis=0)) \n",
    "    efficient_prediction = np.argmax(np.mean(efficient_model_prediction, axis=0))\n",
    "    vgg_prediction = np.argmax(np.mean(vgg_model_prediction, axis=0)) \n",
    "    return resnet_prediction,efficient_prediction,vgg_prediction"
   ]
  },
  {
   "cell_type": "code",
   "execution_count": 47,
   "id": "f4160779",
   "metadata": {
    "execution": {
     "iopub.execute_input": "2023-05-09T10:25:52.117319Z",
     "iopub.status.busy": "2023-05-09T10:25:52.116399Z",
     "iopub.status.idle": "2023-05-09T10:25:52.158003Z",
     "shell.execute_reply": "2023-05-09T10:25:52.156729Z"
    },
    "papermill": {
     "duration": 0.22131,
     "end_time": "2023-05-09T10:25:52.159930",
     "exception": false,
     "start_time": "2023-05-09T10:25:51.938620",
     "status": "completed"
    },
    "tags": []
   },
   "outputs": [
    {
     "name": "stderr",
     "output_type": "stream",
     "text": [
      "  0%|          | 0/681 [00:00<?, ?it/s]/opt/conda/lib/python3.10/site-packages/numpy/core/fromnumeric.py:3432: RuntimeWarning: Mean of empty slice.\n",
      "  return _methods._mean(a, axis=axis, dtype=dtype,\n",
      "/opt/conda/lib/python3.10/site-packages/numpy/core/_methods.py:190: RuntimeWarning: invalid value encountered in double_scalars\n",
      "  ret = ret.dtype.type(ret / rcount)\n",
      "100%|██████████| 681/681 [00:00<00:00, 21040.73it/s]\n"
     ]
    }
   ],
   "source": [
    "predicted_list = list(map(videoPrediction, tqdm(y_true)))"
   ]
  },
  {
   "cell_type": "code",
   "execution_count": 48,
   "id": "7b77937f",
   "metadata": {
    "execution": {
     "iopub.execute_input": "2023-05-09T10:25:52.526144Z",
     "iopub.status.busy": "2023-05-09T10:25:52.525475Z",
     "iopub.status.idle": "2023-05-09T10:25:52.531061Z",
     "shell.execute_reply": "2023-05-09T10:25:52.530227Z"
    },
    "papermill": {
     "duration": 0.188199,
     "end_time": "2023-05-09T10:25:52.532851",
     "exception": false,
     "start_time": "2023-05-09T10:25:52.344652",
     "status": "completed"
    },
    "tags": []
   },
   "outputs": [],
   "source": [
    "columnwise_predictions = list(zip(*predicted_list))\n",
    "prediction_resnet_model = columnwise_predictions[0]\n",
    "prediction_efficient__model = columnwise_predictions[1]\n",
    "prediction_vgg_model  = columnwise_predictions[2]"
   ]
  },
  {
   "cell_type": "code",
   "execution_count": 49,
   "id": "4ac01315",
   "metadata": {
    "execution": {
     "iopub.execute_input": "2023-05-09T10:25:52.948300Z",
     "iopub.status.busy": "2023-05-09T10:25:52.947956Z",
     "iopub.status.idle": "2023-05-09T10:25:52.959722Z",
     "shell.execute_reply": "2023-05-09T10:25:52.958536Z"
    },
    "papermill": {
     "duration": 0.245901,
     "end_time": "2023-05-09T10:25:52.961781",
     "exception": false,
     "start_time": "2023-05-09T10:25:52.715880",
     "status": "completed"
    },
    "tags": []
   },
   "outputs": [
    {
     "name": "stdout",
     "output_type": "stream",
     "text": [
      "Results for model ResNet50\n",
      "Confusion Matrix:\n",
      " [[150   0   0   0   0]\n",
      " [137   0   0   0   0]\n",
      " [111   0   0   0   0]\n",
      " [167   0   0   0   0]\n",
      " [116   0   0   0   0]]\n",
      "Precision: 0.04405286337143486\n",
      "Recall: 0.19999999866666668\n",
      "Accuracy: 0.22026431718061673\n",
      "F1 Score: 0.07220210672197439\n"
     ]
    }
   ],
   "source": [
    "printResults('ResNet50', y_true, prediction_resnet_model)"
   ]
  },
  {
   "cell_type": "code",
   "execution_count": 50,
   "id": "405146d1",
   "metadata": {
    "execution": {
     "iopub.execute_input": "2023-05-09T10:25:53.334634Z",
     "iopub.status.busy": "2023-05-09T10:25:53.334298Z",
     "iopub.status.idle": "2023-05-09T10:25:53.346039Z",
     "shell.execute_reply": "2023-05-09T10:25:53.344557Z"
    },
    "papermill": {
     "duration": 0.195299,
     "end_time": "2023-05-09T10:25:53.347946",
     "exception": false,
     "start_time": "2023-05-09T10:25:53.152647",
     "status": "completed"
    },
    "tags": []
   },
   "outputs": [
    {
     "name": "stdout",
     "output_type": "stream",
     "text": [
      "Results for model EfficientNetB0\n",
      "Confusion Matrix:\n",
      " [[150   0   0   0   0]\n",
      " [137   0   0   0   0]\n",
      " [111   0   0   0   0]\n",
      " [167   0   0   0   0]\n",
      " [116   0   0   0   0]]\n",
      "Precision: 0.04405286337143486\n",
      "Recall: 0.19999999866666668\n",
      "Accuracy: 0.22026431718061673\n",
      "F1 Score: 0.07220210672197439\n"
     ]
    }
   ],
   "source": [
    "printResults('EfficientNetB0', y_true, prediction_efficient__model)"
   ]
  },
  {
   "cell_type": "code",
   "execution_count": 51,
   "id": "6050ed75",
   "metadata": {
    "execution": {
     "iopub.execute_input": "2023-05-09T10:25:53.714051Z",
     "iopub.status.busy": "2023-05-09T10:25:53.713089Z",
     "iopub.status.idle": "2023-05-09T10:25:53.724618Z",
     "shell.execute_reply": "2023-05-09T10:25:53.723215Z"
    },
    "papermill": {
     "duration": 0.195382,
     "end_time": "2023-05-09T10:25:53.726481",
     "exception": false,
     "start_time": "2023-05-09T10:25:53.531099",
     "status": "completed"
    },
    "tags": []
   },
   "outputs": [
    {
     "name": "stdout",
     "output_type": "stream",
     "text": [
      "Results for model VGG16\n",
      "Confusion Matrix:\n",
      " [[150   0   0   0   0]\n",
      " [137   0   0   0   0]\n",
      " [111   0   0   0   0]\n",
      " [167   0   0   0   0]\n",
      " [116   0   0   0   0]]\n",
      "Precision: 0.04405286337143486\n",
      "Recall: 0.19999999866666668\n",
      "Accuracy: 0.22026431718061673\n",
      "F1 Score: 0.07220210672197439\n"
     ]
    }
   ],
   "source": [
    "printResults('VGG16', y_true, prediction_vgg_model)"
   ]
  },
  {
   "cell_type": "markdown",
   "id": "8fa3e157",
   "metadata": {
    "id": "BodcfKzI1_F4",
    "papermill": {
     "duration": 0.179592,
     "end_time": "2023-05-09T10:25:54.091096",
     "exception": false,
     "start_time": "2023-05-09T10:25:53.911504",
     "status": "completed"
    },
    "tags": []
   },
   "source": [
    "### References\n",
    "\n",
    "https://www.tensorflow.org/api_docs/python/tf/data/Dataset\n",
    "\n",
    "https://www.tensorflow.org/api_docs/python/tf/data/Dataset#from_tensor_slices\n",
    "\n",
    "https://www.tensorflow.org/api_docs/python/tf/data/Dataset#take\n",
    "\n",
    "https://www.kaggle.com/code/nkitgupta/evaluation-metrics-for-multi-class-classification"
   ]
  }
 ],
 "metadata": {
  "kernelspec": {
   "display_name": "Python 3",
   "language": "python",
   "name": "python3"
  },
  "language_info": {
   "codemirror_mode": {
    "name": "ipython",
    "version": 3
   },
   "file_extension": ".py",
   "mimetype": "text/x-python",
   "name": "python",
   "nbconvert_exporter": "python",
   "pygments_lexer": "ipython3",
   "version": "3.10.10"
  },
  "papermill": {
   "default_parameters": {},
   "duration": 3304.665892,
   "end_time": "2023-05-09T10:25:57.892041",
   "environment_variables": {},
   "exception": null,
   "input_path": "__notebook__.ipynb",
   "output_path": "__notebook__.ipynb",
   "parameters": {},
   "start_time": "2023-05-09T09:30:53.226149",
   "version": "2.4.0"
  }
 },
 "nbformat": 4,
 "nbformat_minor": 5
}
