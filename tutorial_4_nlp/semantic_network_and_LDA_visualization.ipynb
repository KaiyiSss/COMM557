{
 "cells": [
  {
   "cell_type": "code",
   "execution_count": 62,
   "metadata": {},
   "outputs": [],
   "source": [
    "import pandas as pd\n",
    "import nltk\n",
    "from nltk.tokenize.toktok import ToktokTokenizer\n",
    "import spacy \n",
    "from datetime import datetime\n",
    "import re\n",
    "import string\n",
    "from collections import Counter\n",
    "import itertools\n",
    "import networkx as nx\n",
    "import unicodedata\n",
    "import random\n",
    "from gensim import corpora\n",
    "\n",
    "from netwulf import visualize\n",
    "\n",
    "### Sentiment analysis\n",
    "from textblob import TextBlob\n",
    "from vaderSentiment.vaderSentiment import SentimentIntensityAnalyzer"
   ]
  },
  {
   "cell_type": "markdown",
   "metadata": {},
   "source": [
    "### Load Twitter data"
   ]
  },
  {
   "cell_type": "code",
   "execution_count": 2,
   "metadata": {
    "collapsed": true
   },
   "outputs": [
    {
     "data": {
      "text/html": [
       "<div>\n",
       "<style scoped>\n",
       "    .dataframe tbody tr th:only-of-type {\n",
       "        vertical-align: middle;\n",
       "    }\n",
       "\n",
       "    .dataframe tbody tr th {\n",
       "        vertical-align: top;\n",
       "    }\n",
       "\n",
       "    .dataframe thead th {\n",
       "        text-align: right;\n",
       "    }\n",
       "</style>\n",
       "<table border=\"1\" class=\"dataframe\">\n",
       "  <thead>\n",
       "    <tr style=\"text-align: right;\">\n",
       "      <th></th>\n",
       "      <th>tweetid</th>\n",
       "      <th>userid</th>\n",
       "      <th>date</th>\n",
       "      <th>lang</th>\n",
       "      <th>text</th>\n",
       "      <th>tweet_type</th>\n",
       "      <th>friends_count</th>\n",
       "      <th>followers_count</th>\n",
       "      <th>statuses_count</th>\n",
       "      <th>mentionid</th>\n",
       "      <th>rt_userid</th>\n",
       "      <th>rt_tweetid</th>\n",
       "      <th>qtd_userid</th>\n",
       "      <th>qtd_text</th>\n",
       "      <th>qtd_tweetid</th>\n",
       "    </tr>\n",
       "  </thead>\n",
       "  <tbody>\n",
       "    <tr>\n",
       "      <th>12221</th>\n",
       "      <td>1221208309728006145</td>\n",
       "      <td>418859255</td>\n",
       "      <td>Sat Jan 25 23:08:44 +0000 2020</td>\n",
       "      <td>en</td>\n",
       "      <td>RT @DepSecHargan: Every year in the US, 34,800...</td>\n",
       "      <td>retweeted_tweet_without_comment</td>\n",
       "      <td>638</td>\n",
       "      <td>1837</td>\n",
       "      <td>17778</td>\n",
       "      <td>[920035992073064450]</td>\n",
       "      <td>9.200360e+17</td>\n",
       "      <td>1.221208e+18</td>\n",
       "      <td>NaN</td>\n",
       "      <td>NaN</td>\n",
       "      <td>NaN</td>\n",
       "    </tr>\n",
       "    <tr>\n",
       "      <th>28315</th>\n",
       "      <td>1221213073652043776</td>\n",
       "      <td>14499829</td>\n",
       "      <td>Sat Jan 25 23:27:40 +0000 2020</td>\n",
       "      <td>en</td>\n",
       "      <td>WHO’s risk assessment of the new #coronavirus ...</td>\n",
       "      <td>original</td>\n",
       "      <td>1743</td>\n",
       "      <td>5196950</td>\n",
       "      <td>46697</td>\n",
       "      <td>[]</td>\n",
       "      <td>NaN</td>\n",
       "      <td>NaN</td>\n",
       "      <td>NaN</td>\n",
       "      <td>NaN</td>\n",
       "      <td>NaN</td>\n",
       "    </tr>\n",
       "    <tr>\n",
       "      <th>6092</th>\n",
       "      <td>1222281847163576321</td>\n",
       "      <td>1135486501</td>\n",
       "      <td>Tue Jan 28 22:14:35 +0000 2020</td>\n",
       "      <td>en</td>\n",
       "      <td>#FYI: 50 million are under travel restrictions...</td>\n",
       "      <td>original</td>\n",
       "      <td>950</td>\n",
       "      <td>27025</td>\n",
       "      <td>11145</td>\n",
       "      <td>[9624742]</td>\n",
       "      <td>NaN</td>\n",
       "      <td>NaN</td>\n",
       "      <td>NaN</td>\n",
       "      <td>NaN</td>\n",
       "      <td>NaN</td>\n",
       "    </tr>\n",
       "    <tr>\n",
       "      <th>13618</th>\n",
       "      <td>1222289121118511104</td>\n",
       "      <td>117793973</td>\n",
       "      <td>Tue Jan 28 22:43:30 +0000 2020</td>\n",
       "      <td>en</td>\n",
       "      <td>What should I do if I have traveled to China a...</td>\n",
       "      <td>original</td>\n",
       "      <td>1236</td>\n",
       "      <td>5860</td>\n",
       "      <td>4578</td>\n",
       "      <td>[]</td>\n",
       "      <td>NaN</td>\n",
       "      <td>NaN</td>\n",
       "      <td>NaN</td>\n",
       "      <td>NaN</td>\n",
       "      <td>NaN</td>\n",
       "    </tr>\n",
       "    <tr>\n",
       "      <th>19205</th>\n",
       "      <td>1222285279047843843</td>\n",
       "      <td>1465196934</td>\n",
       "      <td>Tue Jan 28 22:28:14 +0000 2020</td>\n",
       "      <td>en</td>\n",
       "      <td>Disease outbreaks can result in misinformation...</td>\n",
       "      <td>original</td>\n",
       "      <td>1946</td>\n",
       "      <td>3581</td>\n",
       "      <td>4636</td>\n",
       "      <td>[]</td>\n",
       "      <td>NaN</td>\n",
       "      <td>NaN</td>\n",
       "      <td>NaN</td>\n",
       "      <td>NaN</td>\n",
       "      <td>NaN</td>\n",
       "    </tr>\n",
       "  </tbody>\n",
       "</table>\n",
       "</div>"
      ],
      "text/plain": [
       "                   tweetid      userid                            date lang  \\\n",
       "12221  1221208309728006145   418859255  Sat Jan 25 23:08:44 +0000 2020   en   \n",
       "28315  1221213073652043776    14499829  Sat Jan 25 23:27:40 +0000 2020   en   \n",
       "6092   1222281847163576321  1135486501  Tue Jan 28 22:14:35 +0000 2020   en   \n",
       "13618  1222289121118511104   117793973  Tue Jan 28 22:43:30 +0000 2020   en   \n",
       "19205  1222285279047843843  1465196934  Tue Jan 28 22:28:14 +0000 2020   en   \n",
       "\n",
       "                                                    text  \\\n",
       "12221  RT @DepSecHargan: Every year in the US, 34,800...   \n",
       "28315  WHO’s risk assessment of the new #coronavirus ...   \n",
       "6092   #FYI: 50 million are under travel restrictions...   \n",
       "13618  What should I do if I have traveled to China a...   \n",
       "19205  Disease outbreaks can result in misinformation...   \n",
       "\n",
       "                            tweet_type  friends_count  followers_count  \\\n",
       "12221  retweeted_tweet_without_comment            638             1837   \n",
       "28315                         original           1743          5196950   \n",
       "6092                          original            950            27025   \n",
       "13618                         original           1236             5860   \n",
       "19205                         original           1946             3581   \n",
       "\n",
       "       statuses_count             mentionid     rt_userid    rt_tweetid  \\\n",
       "12221           17778  [920035992073064450]  9.200360e+17  1.221208e+18   \n",
       "28315           46697                    []           NaN           NaN   \n",
       "6092            11145             [9624742]           NaN           NaN   \n",
       "13618            4578                    []           NaN           NaN   \n",
       "19205            4636                    []           NaN           NaN   \n",
       "\n",
       "       qtd_userid qtd_text  qtd_tweetid  \n",
       "12221         NaN      NaN          NaN  \n",
       "28315         NaN      NaN          NaN  \n",
       "6092          NaN      NaN          NaN  \n",
       "13618         NaN      NaN          NaN  \n",
       "19205         NaN      NaN          NaN  "
      ]
     },
     "execution_count": 2,
     "metadata": {},
     "output_type": "execute_result"
    }
   ],
   "source": [
    "df = pd.read_pickle(\"Raw_Tweets.pkl\") # Load your tweets\n",
    "df.head()"
   ]
  },
  {
   "cell_type": "code",
   "execution_count": 6,
   "metadata": {},
   "outputs": [],
   "source": [
    "df = df[~df.text.isna()]"
   ]
  },
  {
   "cell_type": "markdown",
   "metadata": {},
   "source": [
    "### Preprocessing Twitter Data"
   ]
  },
  {
   "cell_type": "code",
   "execution_count": 7,
   "metadata": {},
   "outputs": [],
   "source": [
    "# remove HTML links, mentions, hashtags, and special characters\n",
    "# choose functions that suit your neeeds\n",
    "\n",
    "def strip_links(text):\n",
    "    link_regex    = re.compile('((https?):((//)|(\\\\\\\\))+([\\w\\d:#@%/;$()~_?\\+-=\\\\\\.&](#!)?)*)', re.DOTALL)\n",
    "    links         = re.findall(link_regex, text)\n",
    "    for link in links:\n",
    "        text = text.replace(link[0], ' ')    \n",
    "    return text\n",
    "\n",
    "def strip_mentions(text):\n",
    "    entity_prefixes = ['@']\n",
    "    for separator in  string.punctuation:\n",
    "        if separator not in entity_prefixes :\n",
    "            text = text.replace(separator,' ')\n",
    "    words = []\n",
    "    for word in text.split():\n",
    "        word = word.strip()\n",
    "        if word:\n",
    "            if word[0] not in entity_prefixes:\n",
    "                words.append(word)\n",
    "    return ' '.join(words)\n",
    "\n",
    "def strip_hashtags(text):\n",
    "    entity_prefixes = ['#']\n",
    "    for separator in  string.punctuation:\n",
    "        if separator not in entity_prefixes :\n",
    "            text = text.replace(separator,' ')\n",
    "    words = []\n",
    "    for word in text.split():\n",
    "        word = word.strip()\n",
    "        if word:\n",
    "            if word[0] not in entity_prefixes:\n",
    "                words.append(word)\n",
    "    return ' '.join(words)\n",
    "        \n",
    "def remove_special_characters(text, remove_digits=False):\n",
    "    pattern = r'[^a-zA-z0-9\\s]' if not remove_digits else r'[^a-zA-z\\s]'\n",
    "    text = re.sub(pattern, '', text)\n",
    "    text = unicodedata.normalize('NFKD', text).encode('ascii', 'ignore').decode('utf-8', 'ignore')\n",
    "    return text"
   ]
  },
  {
   "cell_type": "code",
   "execution_count": 8,
   "metadata": {},
   "outputs": [
    {
     "name": "stdout",
     "output_type": "stream",
     "text": [
      ".@POTUS signed an executive order to develop a task force to help address the epidemic of missing and murdered Indi… https://t.co/SVKqareops\n"
     ]
    }
   ],
   "source": [
    "# generate a random tweet: \n",
    "i = random.choice(df.index)\n",
    "tweet = df.loc[i, 'text']\n",
    "print(tweet)"
   ]
  },
  {
   "cell_type": "code",
   "execution_count": 9,
   "metadata": {},
   "outputs": [
    {
     "name": "stdout",
     "output_type": "stream",
     "text": [
      "signed an executive order to develop a task force to help address the epidemic of missing and murdered Indi\n"
     ]
    }
   ],
   "source": [
    "tweet = strip_links(tweet)\n",
    "tweet = strip_mentions(tweet)\n",
    "tweet = strip_hashtags(tweet)\n",
    "tweet = remove_special_characters(tweet)\n",
    "print(tweet)"
   ]
  },
  {
   "cell_type": "code",
   "execution_count": 10,
   "metadata": {},
   "outputs": [],
   "source": [
    "def process_tweets(tweet):\n",
    "    tweet = strip_links(tweet)\n",
    "    tweet = strip_mentions(tweet)\n",
    "    tweet = strip_hashtags(tweet)\n",
    "    tweet = remove_special_characters(tweet)\n",
    "    return tweet"
   ]
  },
  {
   "cell_type": "code",
   "execution_count": 11,
   "metadata": {},
   "outputs": [
    {
     "name": "stderr",
     "output_type": "stream",
     "text": [
      "[nltk_data] Downloading package punkt to /Users/herbert/nltk_data...\n",
      "[nltk_data]   Package punkt is already up-to-date!\n"
     ]
    },
    {
     "data": {
      "text/plain": [
       "True"
      ]
     },
     "execution_count": 11,
     "metadata": {},
     "output_type": "execute_result"
    }
   ],
   "source": [
    "nltk.download('punkt')"
   ]
  },
  {
   "cell_type": "code",
   "execution_count": 12,
   "metadata": {},
   "outputs": [
    {
     "data": {
      "text/plain": [
       "12221     RT Every year in the US 34 800 women and men a...\n",
       "28315     WHOs risk assessment of the new coronavirus 20...\n",
       "6092      FYI 50 million are under travel restrictions i...\n",
       "13618     What should I do if I have traveled to China a...\n",
       "19205     Disease outbreaks can result in misinformation...\n",
       "                                ...                        \n",
       "116861    Were moving in the wrong direction amp theres ...\n",
       "118583    DHHR reports as of 10 00 a m October 24 2020 t...\n",
       "159427    We must tackle this pandemic together We can s...\n",
       "159487    RT Today is a good day to talk with your teen ...\n",
       "166622    RT Today is Drug TakeBackDay You can help figh...\n",
       "Name: text, Length: 59887, dtype: object"
      ]
     },
     "execution_count": 12,
     "metadata": {},
     "output_type": "execute_result"
    }
   ],
   "source": [
    "df.loc[:, 'text'] = df.text.apply(process_tweets)\n",
    "df.text"
   ]
  },
  {
   "cell_type": "code",
   "execution_count": null,
   "metadata": {},
   "outputs": [],
   "source": []
  },
  {
   "cell_type": "markdown",
   "metadata": {},
   "source": [
    "### Stemming/Lemming"
   ]
  },
  {
   "cell_type": "code",
   "execution_count": 17,
   "metadata": {},
   "outputs": [],
   "source": [
    "# Stemming / Lemming\n",
    "\n",
    "### loading a spacy language model\n",
    "# python -m spacy download en_core_web_sm\n",
    "# https://spacy.io/models/en\n",
    "\n",
    "nlp = spacy.load('en_core_web_sm') \n",
    "\n",
    "def simple_stemmer(text):\n",
    "    ps = nltk.porter.PorterStemmer()\n",
    "    text = ' '.join([ps.stem(word) for word in text.split()])\n",
    "    return text\n",
    "\n",
    "def lemmatize_text(text):\n",
    "    text = nlp(text)\n",
    "    text = ' '.join([word.lemma_ if word.lemma_ != '-PRON-' else word.text for word in text])\n",
    "    return text"
   ]
  },
  {
   "cell_type": "code",
   "execution_count": 14,
   "metadata": {},
   "outputs": [
    {
     "name": "stdout",
     "output_type": "stream",
     "text": [
      "signed an executive order to develop a task force to help address the epidemic of missing and murdered Indi\n",
      "------\n",
      "stemmed tweet:\n",
      "sign an execut order to develop a task forc to help address the epidem of miss and murder indi\n",
      "------\n",
      "lemmatized tweet:\n",
      "sign an executive order to develop a task force to help address the epidemic of miss and murder Indi\n"
     ]
    }
   ],
   "source": [
    "print(tweet)\n",
    "print('------\\nstemmed tweet:')\n",
    "print(simple_stemmer(tweet))\n",
    "print('------\\nlemmatized tweet:')\n",
    "print(lemmatize_text(tweet))"
   ]
  },
  {
   "cell_type": "code",
   "execution_count": null,
   "metadata": {},
   "outputs": [],
   "source": [
    "import pandas as pd\n",
    "\n",
    "articles   = A = pd.read_csv(\"[insert_file_name_here.csv]\", columns=[\"article\"])\n",
    "paragraphs = P = A.article.apply(lambda x: x.split(\"/n\"))\n",
    "sentences  = S = A.article.apply(lambda x: x.split(\" \"))"
   ]
  },
  {
   "cell_type": "code",
   "execution_count": null,
   "metadata": {},
   "outputs": [],
   "source": []
  },
  {
   "cell_type": "markdown",
   "metadata": {},
   "source": [
    "### Tokenizing and Corpus Creation"
   ]
  },
  {
   "cell_type": "code",
   "execution_count": 18,
   "metadata": {},
   "outputs": [
    {
     "name": "stderr",
     "output_type": "stream",
     "text": [
      "[nltk_data] Downloading package stopwords to\n",
      "[nltk_data]     /Users/herbert/nltk_data...\n",
      "[nltk_data]   Package stopwords is already up-to-date!\n"
     ]
    },
    {
     "data": {
      "text/plain": [
       "True"
      ]
     },
     "execution_count": 18,
     "metadata": {},
     "output_type": "execute_result"
    }
   ],
   "source": [
    "### Run this the first time\n",
    "nltk.download('stopwords')"
   ]
  },
  {
   "cell_type": "code",
   "execution_count": 19,
   "metadata": {},
   "outputs": [],
   "source": [
    "tokenizer = ToktokTokenizer()\n",
    "stopword_list = nltk.corpus.stopwords.words('english')\n",
    "\n",
    "def remove_stopwords(text, is_lower_case=False):\n",
    "    tokens = tokenizer.tokenize(text)\n",
    "    tokens = [token.strip() for token in tokens]\n",
    "    if is_lower_case:\n",
    "        filtered_tokens = [token for token in tokens if token not in stopword_list]\n",
    "    else:\n",
    "        filtered_tokens = [token for token in tokens if token.lower() not in stopword_list]\n",
    "    filtered_text = ' '.join(filtered_tokens)    \n",
    "    return filtered_text"
   ]
  },
  {
   "cell_type": "code",
   "execution_count": 33,
   "metadata": {},
   "outputs": [
    {
     "name": "stdout",
     "output_type": "stream",
     "text": [
      "99\n",
      "563\n",
      "CPU times: user 413 ms, sys: 3.55 ms, total: 416 ms\n",
      "Wall time: 417 ms\n"
     ]
    }
   ],
   "source": [
    "%%time\n",
    "#Create corupus of all words\n",
    "words_corpus = []\n",
    "for elem in df.text.iloc[1:100]:\n",
    "    # remove stop words\n",
    "    elem = remove_stopwords(elem)\n",
    "    # lemmatize text\n",
    "    elem = lemmatize_text(elem)\n",
    "    words_corpus.append(elem.lower().split())\n",
    "print(len(words_corpus))\n",
    "\n",
    "dictionary = corpora.Dictionary(words_corpus)\n",
    "print(len(dictionary))"
   ]
  },
  {
   "cell_type": "markdown",
   "metadata": {},
   "source": [
    "#### Apply this to the entire dataframe"
   ]
  },
  {
   "cell_type": "code",
   "execution_count": 38,
   "metadata": {},
   "outputs": [
    {
     "name": "stdout",
     "output_type": "stream",
     "text": [
      "CPU times: user 4min 28s, sys: 1.06 s, total: 4min 29s\n",
      "Wall time: 4min 30s\n"
     ]
    }
   ],
   "source": [
    "%%time\n",
    "df[\"text_processed\"] = df.text.apply(remove_stopwords)\n",
    "df[\"text_processed\"] = df.text_processed.apply(lemmatize_text)\n",
    "df[\"text_processed\"] = df.text_processed.apply(lambda x: x.lower().split())"
   ]
  },
  {
   "cell_type": "markdown",
   "metadata": {},
   "source": [
    "# RUN UNTIL HERE TO FOLLOW DURING CLASS"
   ]
  },
  {
   "cell_type": "code",
   "execution_count": 43,
   "metadata": {},
   "outputs": [],
   "source": [
    "df[\"text_tups\"] = df.text_processed.apply(lambda x: list(itertools.combinations(x, 2)))\n",
    "all_tups = [item for sublist in df.text_tups.values for item in sublist]\n",
    "all_tups = Counter(all_tups)\n"
   ]
  },
  {
   "cell_type": "code",
   "execution_count": null,
   "metadata": {},
   "outputs": [],
   "source": [
    "word_edges = all_tups.most_common(40)\n",
    "word_edges = [(w[0][0], w[0][1], w[1] ) for w in word_edges]"
   ]
  },
  {
   "cell_type": "code",
   "execution_count": 60,
   "metadata": {},
   "outputs": [],
   "source": [
    "G = nx.Graph()\n",
    "G.add_weighted_edges_from(word_edges)"
   ]
  },
  {
   "cell_type": "code",
   "execution_count": 64,
   "metadata": {},
   "outputs": [
    {
     "data": {
      "image/png": "[encoded data removed]",
      "text/plain": [
       "<Figure size 480x480 with 1 Axes>"
      ]
     },
     "metadata": {},
     "output_type": "display_data"
    }
   ],
   "source": [
    "stylized_network, config = visualize(G,)"
   ]
  },
  {
   "cell_type": "code",
   "execution_count": null,
   "metadata": {},
   "outputs": [],
   "source": []
  },
  {
   "cell_type": "markdown",
   "metadata": {},
   "source": [
    "## LDA Topic Modeling & Visualization"
   ]
  },
  {
   "cell_type": "code",
   "execution_count": 65,
   "metadata": {},
   "outputs": [],
   "source": [
    "words_corpus1 = df[\"text_processed\"].values"
   ]
  },
  {
   "cell_type": "code",
   "execution_count": 66,
   "metadata": {},
   "outputs": [],
   "source": [
    "dictionary = corpora.Dictionary(words_corpus)\n",
    "dictionary.filter_extremes(no_below=5, no_above=0.2, keep_n=10000)\n",
    "\n",
    "corpus_bow = [dictionary.doc2bow(text) for text in words_corpus]\n",
    "\n",
    "# Term Frequency - Inverse Document Frequency\n",
    "\n",
    "from gensim import corpora, models\n",
    "\n",
    "# https://radimrehurek.com/gensim/models/ldamodel.html\n",
    "\n",
    "tfidf = models.TfidfModel(corpus_bow)\n",
    "corpus_tfidf = tfidf[corpus_bow]"
   ]
  },
  {
   "cell_type": "code",
   "execution_count": 68,
   "metadata": {
    "scrolled": true
   },
   "outputs": [
    {
     "name": "stdout",
     "output_type": "stream",
     "text": [
      "Topic: 0 Word: 0.092*\"evolve\" + 0.092*\"rapidly\" + 0.091*\"first\" + 0.078*\"emerge\" + 0.078*\"situation\" + 0.068*\"identify\" + 0.064*\"ncov\" + 0.064*\"wuhan\" + 0.058*\"2019\" + 0.055*\"outbreak\"\n",
      "Topic: 1 Word: 0.227*\"flu\" + 0.204*\"learn\" + 0.131*\"symptom\" + 0.092*\"2019ncov\" + 0.059*\"cause\" + 0.028*\"cdc\" + 0.024*\"one\" + 0.024*\"virus\" + 0.022*\"get\" + 0.021*\"amp\"\n",
      "Topic: 2 Word: 0.174*\"novel\" + 0.113*\"outbreak\" + 0.101*\"one\" + 0.088*\"case\" + 0.070*\"2019\" + 0.048*\"confirm\" + 0.043*\"ncov\" + 0.017*\"2019ncov\" + 0.017*\"virus\" + 0.016*\"spread\"\n",
      "Topic: 3 Word: 0.119*\"sick\" + 0.113*\"wuhan\" + 0.098*\"today\" + 0.085*\"ongoing\" + 0.065*\"begin\" + 0.065*\"proa\" + 0.065*\"brief\" + 0.061*\"early\" + 0.051*\"outbreak\" + 0.051*\"update\"\n",
      "Topic: 4 Word: 0.153*\"new\" + 0.104*\"year\" + 0.094*\"get\" + 0.089*\"amp\" + 0.077*\"cdc\" + 0.076*\"cancer\" + 0.057*\"one\" + 0.054*\"travel\" + 0.012*\"flu\" + 0.011*\"case\"\n",
      "Topic: 5 Word: 0.234*\"cancer\" + 0.160*\"cause\" + 0.097*\"risk\" + 0.079*\"situation\" + 0.078*\"us\" + 0.041*\"2019ncov\" + 0.021*\"learn\" + 0.019*\"today\" + 0.017*\"ncov\" + 0.016*\"new\"\n",
      "Topic: 6 Word: 0.191*\"state\" + 0.126*\"public\" + 0.121*\"health\" + 0.062*\"novel\" + 0.058*\"new\" + 0.057*\"identify\" + 0.045*\"risk\" + 0.035*\"us\" + 0.029*\"amp\" + 0.025*\"emergency\"\n",
      "Topic: 7 Word: 0.154*\"case\" + 0.103*\"amp\" + 0.099*\"confirm\" + 0.076*\"travel\" + 0.071*\"risk\" + 0.060*\"cdc\" + 0.056*\"us\" + 0.050*\"provide\" + 0.042*\"novel\" + 0.040*\"2019ncov\"\n",
      "Topic: 8 Word: 0.228*\"get\" + 0.145*\"year\" + 0.131*\"spread\" + 0.099*\"health\" + 0.040*\"outbreak\" + 0.035*\"symptom\" + 0.023*\"identify\" + 0.023*\"public\" + 0.021*\"state\" + 0.019*\"cancer\"\n",
      "Topic: 9 Word: 0.145*\"2019\" + 0.137*\"new\" + 0.136*\"ncov\" + 0.113*\"emergency\" + 0.101*\"virus\" + 0.041*\"spread\" + 0.035*\"novel\" + 0.034*\"one\" + 0.024*\"health\" + 0.024*\"wuhan\"\n",
      "CPU times: user 311 ms, sys: 174 ms, total: 485 ms\n",
      "Wall time: 921 ms\n"
     ]
    }
   ],
   "source": [
    "%%time\n",
    "# Only 2 topics this time for simplicity\n",
    "num_topics = 10\n",
    "lda_model_tfidf = models.LdaMulticore(corpus_tfidf, num_topics=num_topics, \n",
    "                                      id2word=dictionary, passes=4, workers=4)\n",
    "for idx, topic in lda_model_tfidf.print_topics(-1):\n",
    "    print('Topic: {} Word: {}'.format(idx, topic))"
   ]
  },
  {
   "cell_type": "code",
   "execution_count": null,
   "metadata": {},
   "outputs": [],
   "source": [
    "!pip install pyldavis"
   ]
  },
  {
   "cell_type": "code",
   "execution_count": 70,
   "metadata": {},
   "outputs": [],
   "source": [
    "import pyLDAvis\n",
    "import pyLDAvis.gensim"
   ]
  },
  {
   "cell_type": "code",
   "execution_count": 71,
   "metadata": {
    "collapsed": true
   },
   "outputs": [
    {
     "name": "stderr",
     "output_type": "stream",
     "text": [
      "/Users/herbert/opt/anaconda3/envs/networks/lib/python3.10/site-packages/pyLDAvis/_prepare.py:244: FutureWarning: In a future version of pandas all arguments of DataFrame.drop except for the argument 'labels' will be keyword-only.\n",
      "  by='saliency', ascending=False).head(R).drop('saliency', 1)\n"
     ]
    },
    {
     "data": {
      "text/html": [
       "\n",
       "<link rel=\"stylesheet\" type=\"text/css\" href=\"https://cdn.jsdelivr.net/gh/bmabey/pyLDAvis@3.4.0/pyLDAvis/js/ldavis.v1.0.0.css\">\n",
       "\n",
       "\n",
       "<div id=\"ldavis_el938631406086691472963393192194\" style=\"background-color:white;\"></div>\n",
       "<script type=\"text/javascript\">\n",
       "\n",
       "var ldavis_el938631406086691472963393192194_data = {\"mdsDat\": {\"x\": [0.1974844806350343, 0.18084515359831377, -0.03420558408818016, -0.0692627257242116, 0.032249507547505024, -0.14699847484116116, -0.07843655578193236, -0.05995790487676641, 0.03876939779195295, -0.060487294260554526], \"y\": [0.15711117392048876, -0.03254064876667381, -0.026100001910239493, -0.12993498494974284, -0.12745705788909795, 0.1655786509428544, 0.04105922071476883, 0.0072396245275058585, -0.06300736113541873, 0.008051384545555302], \"topics\": [1, 2, 3, 4, 5, 6, 7, 8, 9, 10], \"cluster\": [1, 1, 1, 1, 1, 1, 1, 1, 1, 1], \"Freq\": [14.384720065436507, 13.827896568346743, 11.886874590129107, 11.723576416156694, 10.743445689777012, 10.145156313413825, 7.7155735633506275, 7.259874464846219, 6.178118160880628, 6.134764167662632]}, \"tinfo\": {\"Term\": [\"flu\", \"cancer\", \"get\", \"new\", \"learn\", \"state\", \"case\", \"year\", \"novel\", \"cause\", \"2019\", \"health\", \"ncov\", \"amp\", \"spread\", \"public\", \"symptom\", \"outbreak\", \"risk\", \"one\", \"situation\", \"confirm\", \"emergency\", \"sick\", \"wuhan\", \"virus\", \"cdc\", \"us\", \"today\", \"travel\", \"sick\", \"today\", \"ongoing\", \"begin\", \"proa\", \"brief\", \"early\", \"wuhan\", \"update\", \"provide\", \"travel\", \"outbreak\", \"symptom\", \"get\", \"emerge\", \"first\", \"virus\", \"evolve\", \"rapidly\", \"confirm\", \"state\", \"emergency\", \"novel\", \"us\", \"public\", \"year\", \"situation\", \"spread\", \"one\", \"cause\", \"cdc\", \"2019ncov\", \"health\", \"learn\", \"cancer\", \"new\", \"case\", \"flu\", \"amp\", \"evolve\", \"rapidly\", \"first\", \"emerge\", \"situation\", \"identify\", \"update\", \"ncov\", \"cdc\", \"wuhan\", \"provide\", \"outbreak\", \"2019\", \"emergency\", \"brief\", \"begin\", \"proa\", \"early\", \"symptom\", \"2019ncov\", \"virus\", \"ongoing\", \"confirm\", \"today\", \"us\", \"public\", \"year\", \"spread\", \"one\", \"cause\", \"new\", \"novel\", \"travel\", \"health\", \"state\", \"case\", \"amp\", \"flu\", \"get\", \"learn\", \"case\", \"confirm\", \"amp\", \"travel\", \"risk\", \"us\", \"cdc\", \"provide\", \"2019ncov\", \"novel\", \"spread\", \"health\", \"emerge\", \"identify\", \"sick\", \"update\", \"proa\", \"brief\", \"begin\", \"early\", \"situation\", \"flu\", \"first\", \"virus\", \"evolve\", \"rapidly\", \"ongoing\", \"state\", \"emergency\", \"today\", \"ncov\", \"new\", \"2019\", \"outbreak\", \"cancer\", \"get\", \"wuhan\", \"learn\", \"year\", \"state\", \"public\", \"health\", \"identify\", \"novel\", \"risk\", \"us\", \"new\", \"emergency\", \"one\", \"early\", \"amp\", \"2019ncov\", \"outbreak\", \"travel\", \"first\", \"learn\", \"ongoing\", \"cdc\", \"confirm\", \"2019\", \"proa\", \"brief\", \"begin\", \"emerge\", \"ncov\", \"evolve\", \"rapidly\", \"wuhan\", \"sick\", \"situation\", \"update\", \"case\", \"emergency\", \"virus\", \"2019\", \"ncov\", \"new\", \"spread\", \"one\", \"novel\", \"health\", \"wuhan\", \"ongoing\", \"rapidly\", \"evolve\", \"today\", \"2019ncov\", \"symptom\", \"learn\", \"proa\", \"brief\", \"begin\", \"early\", \"public\", \"update\", \"sick\", \"emerge\", \"state\", \"first\", \"confirm\", \"cdc\", \"provide\", \"outbreak\", \"risk\", \"us\", \"flu\", \"learn\", \"symptom\", \"2019ncov\", \"cause\", \"virus\", \"one\", \"cdc\", \"amp\", \"get\", \"brief\", \"begin\", \"proa\", \"early\", \"ongoing\", \"year\", \"update\", \"today\", \"emerge\", \"first\", \"evolve\", \"rapidly\", \"confirm\", \"emergency\", \"provide\", \"us\", \"public\", \"situation\", \"spread\", \"identify\", \"new\", \"outbreak\", \"wuhan\", \"novel\", \"sick\", \"risk\", \"health\", \"state\", \"2019\", \"cancer\", \"cause\", \"risk\", \"us\", \"situation\", \"2019ncov\", \"today\", \"learn\", \"ncov\", \"virus\", \"2019\", \"new\", \"emerge\", \"emergency\", \"public\", \"proa\", \"begin\", \"brief\", \"first\", \"rapidly\", \"evolve\", \"early\", \"ongoing\", \"confirm\", \"health\", \"update\", \"wuhan\", \"identify\", \"year\", \"spread\", \"outbreak\", \"get\", \"state\", \"amp\", \"case\", \"novel\", \"flu\", \"sick\", \"get\", \"year\", \"spread\", \"health\", \"symptom\", \"outbreak\", \"public\", \"identify\", \"state\", \"cancer\", \"risk\", \"begin\", \"proa\", \"brief\", \"early\", \"confirm\", \"ongoing\", \"us\", \"cause\", \"update\", \"today\", \"case\", \"emerge\", \"first\", \"virus\", \"evolve\", \"rapidly\", \"sick\", \"travel\", \"emergency\", \"provide\", \"wuhan\", \"new\", \"novel\", \"flu\", \"learn\", \"novel\", \"one\", \"outbreak\", \"case\", \"confirm\", \"2019\", \"ncov\", \"virus\", \"spread\", \"2019ncov\", \"symptom\", \"proa\", \"brief\", \"begin\", \"emerge\", \"first\", \"rapidly\", \"evolve\", \"early\", \"learn\", \"us\", \"provide\", \"update\", \"situation\", \"ongoing\", \"emergency\", \"identify\", \"today\", \"public\", \"year\", \"cdc\", \"wuhan\", \"state\", \"new\", \"cancer\", \"health\", \"cause\", \"amp\", \"year\", \"new\", \"amp\", \"get\", \"cdc\", \"cancer\", \"one\", \"travel\", \"proa\", \"begin\", \"brief\", \"early\", \"ongoing\", \"update\", \"spread\", \"today\", \"emerge\", \"flu\", \"first\", \"virus\", \"rapidly\", \"evolve\", \"confirm\", \"emergency\", \"provide\", \"case\", \"us\", \"public\", \"situation\", \"cause\", \"outbreak\", \"wuhan\", \"state\", \"learn\", \"health\", \"risk\", \"novel\", \"ncov\", \"2019\", \"sick\"], \"Freq\": [4.0, 4.0, 4.0, 5.0, 4.0, 4.0, 4.0, 3.0, 5.0, 3.0, 5.0, 5.0, 5.0, 4.0, 3.0, 3.0, 3.0, 4.0, 4.0, 3.0, 3.0, 3.0, 3.0, 4.0, 5.0, 2.0, 4.0, 3.0, 3.0, 4.0, 2.8824092614522567, 2.372432477317884, 2.051599588227466, 1.5674402611205906, 1.5674397201122918, 1.5674395397761922, 1.4769262365118854, 2.744106621288944, 1.2232152552062385, 1.175836543606029, 1.1464829661694613, 1.225569903658758, 0.4068895914092554, 0.2603333286393017, 0.08456283751824564, 0.08456235850048108, 0.084562905144283, 0.08456886750657612, 0.0845680503586248, 0.08458166573414484, 0.12656726848163258, 0.08456406042242108, 0.12626109159752497, 0.08456403788040863, 0.08456406042242108, 0.08456607229703228, 0.08456358704015962, 0.0845643365620736, 0.08456413368396154, 0.08456668656687155, 0.08459882584112272, 0.08458752102187883, 0.084570062233236, 0.08457005096222978, 0.08456923944978156, 0.08456873789000453, 0.0845681856106995, 0.08456808417164348, 0.08456790947104699, 2.140164145488109, 2.1401636254219025, 2.1159529833024173, 1.818465578535429, 1.809747708712884, 1.5855305248953466, 1.0414651696884896, 1.4958435473550904, 1.2114566970120237, 1.4888203999447072, 1.0018144553143409, 1.2785605796265942, 1.3443254651143706, 0.1262187031869794, 0.08828913167176303, 0.0882890991676251, 0.08828884455187809, 0.08828916417590094, 0.12972004892343963, 0.12778828466815914, 0.0882905130976245, 0.08829744189635723, 0.08829055101911874, 0.08829935422313803, 0.08829818407417302, 0.08829594128865671, 0.08829230082520996, 0.08829173200279641, 0.08829235499877316, 0.08829385560647368, 0.11567545515255771, 0.08830534581922747, 0.08829788070221911, 0.08829722520210445, 0.08829614173084054, 0.08829551873486378, 0.08829540497038108, 0.0882953562141742, 0.08829490115624336, 0.08829484698268016, 3.0809846972714214, 1.9834535496560703, 2.0667687894280657, 1.517045752465549, 1.413977712510793, 1.1264908687886162, 1.2045270218274975, 1.0048078823349587, 0.8090490637873986, 0.8354857764092172, 0.5204606158618946, 0.7575450716428146, 0.39302703864058314, 0.4643002605886001, 0.4770880565228361, 0.3152689597257382, 0.06946844581343845, 0.06946835267499926, 0.06946834336115534, 0.06946860880570703, 0.09256948440345104, 0.11478891644041794, 0.06947355445682785, 0.06946938185475228, 0.06946875782720972, 0.06946844581343845, 0.06947595742855887, 0.10275073592013388, 0.06946954484702085, 0.0694706392236813, 0.0874674165878555, 0.08890297797873122, 0.08567255504012844, 0.06947965036767263, 0.06947332161072989, 0.06947285126161198, 0.06947266032781166, 0.06947254390476268, 0.0694719571325958, 3.766541040437601, 2.4788584111664838, 2.395600855273198, 1.1335215885556853, 1.2226249734179804, 0.8947916873155709, 0.6962902664570202, 1.1465488753703932, 0.49423599929933054, 0.493473423186351, 0.34876734889282524, 0.5687187857931387, 0.4704725344175649, 0.3851855207595977, 0.30008878369414593, 0.1860734952057838, 0.2827769390685966, 0.15203864926886948, 0.14775918962877457, 0.10144216142119485, 0.1678177081911796, 0.07203413049124698, 0.07203408915472741, 0.07203379979909043, 0.08708265369618892, 0.15243361512038944, 0.08708243323475123, 0.08708163406203959, 0.14784685060793717, 0.11156435438427814, 0.09431477174309055, 0.08505853293547827, 0.09150078358059263, 2.051389266906778, 1.8283729378440023, 2.615755003539272, 2.4557250644430906, 2.4835594267143066, 0.7326686742196615, 0.6133575005863587, 0.6392781662722142, 0.440663068077854, 0.42858227333722765, 0.186136337800386, 0.16821611514557702, 0.16821379179926338, 0.18614042891019913, 0.20564261470280237, 0.18804730697920422, 0.21807566578343202, 0.10434805734256063, 0.10434775429738928, 0.10434727447586799, 0.10311757609599843, 0.12338664294845542, 0.09966563063881037, 0.12015138320670074, 0.08416947472751451, 0.13872488707171607, 0.0841773875736552, 0.08417010607162148, 0.11126178880708404, 0.0990231496217939, 0.09652783359132892, 0.08418137766841124, 0.08418052745834718, 3.871446764470533, 3.48752452852499, 2.2435399383173062, 1.5713607308165602, 1.0012259388797133, 0.40356315604889104, 0.41705532278454427, 0.4769559224161071, 0.3536718879797433, 0.36820313419342865, 0.09989713090676534, 0.09989663011109293, 0.0998960577731816, 0.09871778094562975, 0.09772102267648593, 0.11231278567515751, 0.09541292696454211, 0.09772270789366931, 0.08057867552162981, 0.08057866757249216, 0.08057833370871054, 0.08057802369234189, 0.08057985994314076, 0.08057955787590979, 0.094798196302078, 0.08058849270663677, 0.08058090922931155, 0.08057952607935916, 0.0806405993039814, 0.08058051972156634, 0.10304963171551018, 0.09237328801225785, 0.09198234942226412, 0.0806038822371416, 0.08059675980980052, 0.08059558333742722, 0.08058429556195364, 0.08058378681714355, 0.08058355629215148, 3.0355047889248983, 2.071423269445447, 1.2557753482343517, 1.0136505350137164, 1.0230328984887762, 0.5281016178924447, 0.25247836806532487, 0.270923386806245, 0.2251386611730668, 0.11458238477586352, 0.20408850779140233, 0.21377120981560815, 0.10029652293996441, 0.1115438146959169, 0.11928137725021908, 0.08015340648582941, 0.08015331580390032, 0.08015326139474287, 0.10029505389271315, 0.10029568866621678, 0.10029545893866308, 0.08015393848648007, 0.08015419239588153, 0.08015492389677618, 0.13470268565663948, 0.08015416821403377, 0.1324376203409064, 0.09758694085329425, 0.08018344638620595, 0.08015578235237157, 0.09401470762065318, 0.08016686972956831, 0.0801597058571702, 0.08015858744671142, 0.0801582609917667, 0.08015802521875107, 0.08015716071769374, 0.08015630226209836, 2.7814727095526974, 1.7747851320972547, 1.6011379269428947, 1.2067860403708668, 0.4222094541711148, 0.48743528127550884, 0.27555988929958747, 0.2789357746786436, 0.25505073771267606, 0.23335047996453726, 0.19421032831257196, 0.09161655456505688, 0.09161628152169447, 0.09161599710152532, 0.09053621299450827, 0.10098797729124465, 0.08962064171635915, 0.10342236364953077, 0.10176384138230092, 0.08750505623728441, 0.0896224961358621, 0.12179203846315774, 0.07389962403965891, 0.07389980038016379, 0.07390010755394649, 0.07389965817007921, 0.07389963541646569, 0.1009909466378107, 0.09707126127212175, 0.07390117697378254, 0.08694026035376398, 0.10338689076603276, 0.07390551722556397, 0.0739052669358151, 0.0739048630591749, 0.0739039813566505, 1.8094807057072946, 1.0456916262919773, 1.1773344599205198, 0.9096506319189076, 0.49703546028121903, 0.7260028489145531, 0.44389083077376384, 0.17507090483535656, 0.16976995353631277, 0.18105473865169033, 0.16137477978056944, 0.08803812148929901, 0.08803804403643743, 0.08803804403643743, 0.10643080411943834, 0.10642973914259168, 0.10657235890557405, 0.10657188450679692, 0.08803789881232198, 0.15793527246696923, 0.11353488708076753, 0.12445035758894085, 0.1039568629046609, 0.10550400317783377, 0.0880415584600314, 0.08803958341206124, 0.10395930266980051, 0.08804365936890161, 0.08804103565321576, 0.08803976736260748, 0.10269099269829707, 0.10027399869999254, 0.08809175759593958, 0.08804490829629451, 0.08804483084343293, 0.0880442789917942, 0.08804373682176318, 0.08804325274137834, 1.0723163529028283, 1.581045156467562, 0.9161190045050485, 0.9670240714236769, 0.7982014382702173, 0.7793964104901124, 0.5894956937752026, 0.5532722753054943, 0.0991409276178218, 0.09914086993581077, 0.09914080264013124, 0.09797180939091679, 0.09698270710676973, 0.09469221213075601, 0.10315188470950792, 0.09698247637872562, 0.07996911435007618, 0.12632843983225112, 0.0799690614748994, 0.0799694460216396, 0.07996847984795485, 0.07996839813177256, 0.07997010455793221, 0.07996994112556763, 0.0940816095893232, 0.11578957109755907, 0.07997096498126342, 0.07997013820577198, 0.07996999400074441, 0.07997202248479898, 0.09167430854097254, 0.0912859740153776, 0.07997600735039434, 0.07997408942352757, 0.07997400290051103, 0.07997240222470493, 0.07997230608801988, 0.07997169081323555, 0.07997159948338475, 0.07997155141504222], \"Total\": [4.0, 4.0, 4.0, 5.0, 4.0, 4.0, 4.0, 3.0, 5.0, 3.0, 5.0, 5.0, 5.0, 4.0, 3.0, 3.0, 3.0, 4.0, 4.0, 3.0, 3.0, 3.0, 3.0, 4.0, 5.0, 2.0, 4.0, 3.0, 3.0, 4.0, 4.1092627921852785, 3.4132286991968392, 3.0000680969771656, 2.3604241923766276, 2.360423993199243, 2.360424103654673, 2.541986575112174, 5.398195638751202, 3.2263947746460313, 3.8464259870429105, 4.035215731659613, 4.998155533373863, 3.853422059075905, 4.859223533543877, 2.9084823240887285, 2.9814121015020256, 2.989816281032803, 2.9908117293119316, 2.9908120573301358, 3.180666359872464, 4.806742068975248, 3.2599116487457676, 5.036075539703186, 3.4709911280904797, 3.4880083275218228, 3.526177820655371, 3.528360284922213, 3.5328776936228263, 3.555456878705247, 3.740971625027645, 4.291509003573845, 4.131928907946813, 5.356767585910972, 4.813451305280083, 4.615430043442179, 5.9790718966265315, 4.737494786049831, 4.683744085725606, 4.404420193326224, 2.9908117293119316, 2.9908120573301358, 2.9814121015020256, 2.9084823240887285, 3.528360284922213, 3.9931228594173245, 3.2263947746460313, 5.17951905268059, 4.291509003573845, 5.398195638751202, 3.8464259870429105, 4.998155533373863, 5.462683883493639, 3.2599116487457676, 2.360424103654673, 2.3604241923766276, 2.360423993199243, 2.541986575112174, 3.853422059075905, 4.131928907946813, 2.989816281032803, 3.0000680969771656, 3.180666359872464, 3.4132286991968392, 3.4709911280904797, 3.4880083275218228, 3.526177820655371, 3.5328776936228263, 3.555456878705247, 3.740971625027645, 5.9790718966265315, 5.036075539703186, 4.035215731659613, 5.356767585910972, 4.806742068975248, 4.737494786049831, 4.404420193326224, 4.683744085725606, 4.859223533543877, 4.813451305280083, 4.737494786049831, 3.180666359872464, 4.404420193326224, 4.035215731659613, 4.264404133730911, 3.4709911280904797, 4.291509003573845, 3.8464259870429105, 4.131928907946813, 5.036075539703186, 3.5328776936228263, 5.356767585910972, 2.9084823240887285, 3.9931228594173245, 4.1092627921852785, 3.2263947746460313, 2.360423993199243, 2.360424103654673, 2.3604241923766276, 2.541986575112174, 3.528360284922213, 4.683744085725606, 2.9814121015020256, 2.989816281032803, 2.9908117293119316, 2.9908120573301358, 3.0000680969771656, 4.806742068975248, 3.2599116487457676, 3.4132286991968392, 5.17951905268059, 5.9790718966265315, 5.462683883493639, 4.998155533373863, 4.615430043442179, 4.859223533543877, 5.398195638751202, 4.813451305280083, 3.526177820655371, 4.806742068975248, 3.4880083275218228, 5.356767585910972, 3.9931228594173245, 5.036075539703186, 4.264404133730911, 3.4709911280904797, 5.9790718966265315, 3.2599116487457676, 3.555456878705247, 2.541986575112174, 4.404420193326224, 4.131928907946813, 4.998155533373863, 4.035215731659613, 2.9814121015020256, 4.813451305280083, 3.0000680969771656, 4.291509003573845, 3.180666359872464, 5.462683883493639, 2.360423993199243, 2.360424103654673, 2.3604241923766276, 2.9084823240887285, 5.17951905268059, 2.9908117293119316, 2.9908120573301358, 5.398195638751202, 4.1092627921852785, 3.528360284922213, 3.2263947746460313, 4.737494786049831, 3.2599116487457676, 2.989816281032803, 5.462683883493639, 5.17951905268059, 5.9790718966265315, 3.5328776936228263, 3.555456878705247, 5.036075539703186, 5.356767585910972, 5.398195638751202, 3.0000680969771656, 2.9908120573301358, 2.9908117293119316, 3.4132286991968392, 4.131928907946813, 3.853422059075905, 4.813451305280083, 2.360423993199243, 2.360424103654673, 2.3604241923766276, 2.541986575112174, 3.4880083275218228, 3.2263947746460313, 4.1092627921852785, 2.9084823240887285, 4.806742068975248, 2.9814121015020256, 3.180666359872464, 4.291509003573845, 3.8464259870429105, 4.998155533373863, 4.264404133730911, 3.4709911280904797, 4.683744085725606, 4.813451305280083, 3.853422059075905, 4.131928907946813, 3.740971625027645, 2.989816281032803, 3.555456878705247, 4.291509003573845, 4.404420193326224, 4.859223533543877, 2.360424103654673, 2.3604241923766276, 2.360423993199243, 2.541986575112174, 3.0000680969771656, 3.526177820655371, 3.2263947746460313, 3.4132286991968392, 2.9084823240887285, 2.9814121015020256, 2.9908117293119316, 2.9908120573301358, 3.180666359872464, 3.2599116487457676, 3.8464259870429105, 3.4709911280904797, 3.4880083275218228, 3.528360284922213, 3.5328776936228263, 3.9931228594173245, 5.9790718966265315, 4.998155533373863, 5.398195638751202, 5.036075539703186, 4.1092627921852785, 4.264404133730911, 5.356767585910972, 4.806742068975248, 5.462683883493639, 4.615430043442179, 3.740971625027645, 4.264404133730911, 3.4709911280904797, 3.528360284922213, 4.131928907946813, 3.4132286991968392, 4.813451305280083, 5.17951905268059, 2.989816281032803, 5.462683883493639, 5.9790718966265315, 2.9084823240887285, 3.2599116487457676, 3.4880083275218228, 2.360423993199243, 2.3604241923766276, 2.360424103654673, 2.9814121015020256, 2.9908120573301358, 2.9908117293119316, 2.541986575112174, 3.0000680969771656, 3.180666359872464, 5.356767585910972, 3.2263947746460313, 5.398195638751202, 3.9931228594173245, 3.526177820655371, 3.5328776936228263, 4.998155533373863, 4.859223533543877, 4.806742068975248, 4.404420193326224, 4.737494786049831, 5.036075539703186, 4.683744085725606, 4.1092627921852785, 4.859223533543877, 3.526177820655371, 3.5328776936228263, 5.356767585910972, 3.853422059075905, 4.998155533373863, 3.4880083275218228, 3.9931228594173245, 4.806742068975248, 4.615430043442179, 4.264404133730911, 2.3604241923766276, 2.360423993199243, 2.360424103654673, 2.541986575112174, 3.180666359872464, 3.0000680969771656, 3.4709911280904797, 3.740971625027645, 3.2263947746460313, 3.4132286991968392, 4.737494786049831, 2.9084823240887285, 2.9814121015020256, 2.989816281032803, 2.9908117293119316, 2.9908120573301358, 4.1092627921852785, 4.035215731659613, 3.2599116487457676, 3.8464259870429105, 5.398195638751202, 5.9790718966265315, 5.036075539703186, 4.683744085725606, 4.813451305280083, 5.036075539703186, 3.555456878705247, 4.998155533373863, 4.737494786049831, 3.180666359872464, 5.462683883493639, 5.17951905268059, 2.989816281032803, 3.5328776936228263, 4.131928907946813, 3.853422059075905, 2.360423993199243, 2.360424103654673, 2.3604241923766276, 2.9084823240887285, 2.9814121015020256, 2.9908120573301358, 2.9908117293119316, 2.541986575112174, 4.813451305280083, 3.4709911280904797, 3.8464259870429105, 3.2263947746460313, 3.528360284922213, 3.0000680969771656, 3.2599116487457676, 3.9931228594173245, 3.4132286991968392, 3.4880083275218228, 3.526177820655371, 4.291509003573845, 5.398195638751202, 4.806742068975248, 5.9790718966265315, 4.615430043442179, 5.356767585910972, 3.740971625027645, 4.404420193326224, 3.526177820655371, 5.9790718966265315, 4.404420193326224, 4.859223533543877, 4.291509003573845, 4.615430043442179, 3.555456878705247, 4.035215731659613, 2.360423993199243, 2.3604241923766276, 2.360424103654673, 2.541986575112174, 3.0000680969771656, 3.2263947746460313, 3.5328776936228263, 3.4132286991968392, 2.9084823240887285, 4.683744085725606, 2.9814121015020256, 2.989816281032803, 2.9908120573301358, 2.9908117293119316, 3.180666359872464, 3.2599116487457676, 3.8464259870429105, 4.737494786049831, 3.4709911280904797, 3.4880083275218228, 3.528360284922213, 3.740971625027645, 4.998155533373863, 5.398195638751202, 4.806742068975248, 4.813451305280083, 5.356767585910972, 4.264404133730911, 5.036075539703186, 5.17951905268059, 5.462683883493639, 4.1092627921852785], \"Category\": [\"Default\", \"Default\", \"Default\", \"Default\", \"Default\", \"Default\", \"Default\", \"Default\", \"Default\", \"Default\", \"Default\", \"Default\", \"Default\", \"Default\", \"Default\", \"Default\", \"Default\", \"Default\", \"Default\", \"Default\", \"Default\", \"Default\", \"Default\", \"Default\", \"Default\", \"Default\", \"Default\", \"Default\", \"Default\", \"Default\", \"Topic1\", \"Topic1\", \"Topic1\", \"Topic1\", \"Topic1\", \"Topic1\", \"Topic1\", \"Topic1\", \"Topic1\", \"Topic1\", \"Topic1\", \"Topic1\", \"Topic1\", \"Topic1\", \"Topic1\", \"Topic1\", \"Topic1\", \"Topic1\", \"Topic1\", \"Topic1\", \"Topic1\", \"Topic1\", \"Topic1\", \"Topic1\", \"Topic1\", \"Topic1\", \"Topic1\", \"Topic1\", \"Topic1\", \"Topic1\", \"Topic1\", \"Topic1\", \"Topic1\", \"Topic1\", \"Topic1\", \"Topic1\", \"Topic1\", \"Topic1\", \"Topic1\", \"Topic2\", \"Topic2\", \"Topic2\", \"Topic2\", \"Topic2\", \"Topic2\", \"Topic2\", \"Topic2\", \"Topic2\", \"Topic2\", \"Topic2\", \"Topic2\", \"Topic2\", \"Topic2\", \"Topic2\", \"Topic2\", \"Topic2\", \"Topic2\", \"Topic2\", \"Topic2\", \"Topic2\", \"Topic2\", \"Topic2\", \"Topic2\", \"Topic2\", \"Topic2\", \"Topic2\", \"Topic2\", \"Topic2\", \"Topic2\", \"Topic2\", \"Topic2\", \"Topic2\", \"Topic2\", \"Topic2\", \"Topic2\", \"Topic2\", \"Topic2\", \"Topic2\", \"Topic2\", \"Topic3\", \"Topic3\", \"Topic3\", \"Topic3\", \"Topic3\", \"Topic3\", \"Topic3\", \"Topic3\", \"Topic3\", \"Topic3\", \"Topic3\", \"Topic3\", \"Topic3\", \"Topic3\", \"Topic3\", \"Topic3\", \"Topic3\", \"Topic3\", \"Topic3\", \"Topic3\", \"Topic3\", \"Topic3\", \"Topic3\", \"Topic3\", \"Topic3\", \"Topic3\", \"Topic3\", \"Topic3\", \"Topic3\", \"Topic3\", \"Topic3\", \"Topic3\", \"Topic3\", \"Topic3\", \"Topic3\", \"Topic3\", \"Topic3\", \"Topic3\", \"Topic3\", \"Topic4\", \"Topic4\", \"Topic4\", \"Topic4\", \"Topic4\", \"Topic4\", \"Topic4\", \"Topic4\", \"Topic4\", \"Topic4\", \"Topic4\", \"Topic4\", \"Topic4\", \"Topic4\", \"Topic4\", \"Topic4\", \"Topic4\", \"Topic4\", \"Topic4\", \"Topic4\", \"Topic4\", \"Topic4\", \"Topic4\", \"Topic4\", \"Topic4\", \"Topic4\", \"Topic4\", \"Topic4\", \"Topic4\", \"Topic4\", \"Topic4\", \"Topic4\", \"Topic4\", \"Topic5\", \"Topic5\", \"Topic5\", \"Topic5\", \"Topic5\", \"Topic5\", \"Topic5\", \"Topic5\", \"Topic5\", \"Topic5\", \"Topic5\", \"Topic5\", \"Topic5\", \"Topic5\", \"Topic5\", \"Topic5\", \"Topic5\", \"Topic5\", \"Topic5\", \"Topic5\", \"Topic5\", \"Topic5\", \"Topic5\", \"Topic5\", \"Topic5\", \"Topic5\", \"Topic5\", \"Topic5\", \"Topic5\", \"Topic5\", \"Topic5\", \"Topic5\", \"Topic5\", \"Topic6\", \"Topic6\", \"Topic6\", \"Topic6\", \"Topic6\", \"Topic6\", \"Topic6\", \"Topic6\", \"Topic6\", \"Topic6\", \"Topic6\", \"Topic6\", \"Topic6\", \"Topic6\", \"Topic6\", \"Topic6\", \"Topic6\", \"Topic6\", \"Topic6\", \"Topic6\", \"Topic6\", \"Topic6\", \"Topic6\", \"Topic6\", \"Topic6\", \"Topic6\", \"Topic6\", \"Topic6\", \"Topic6\", \"Topic6\", \"Topic6\", \"Topic6\", \"Topic6\", \"Topic6\", \"Topic6\", \"Topic6\", \"Topic6\", \"Topic6\", \"Topic6\", \"Topic7\", \"Topic7\", \"Topic7\", \"Topic7\", \"Topic7\", \"Topic7\", \"Topic7\", \"Topic7\", \"Topic7\", \"Topic7\", \"Topic7\", \"Topic7\", \"Topic7\", \"Topic7\", \"Topic7\", \"Topic7\", \"Topic7\", \"Topic7\", \"Topic7\", \"Topic7\", \"Topic7\", \"Topic7\", \"Topic7\", \"Topic7\", \"Topic7\", \"Topic7\", \"Topic7\", \"Topic7\", \"Topic7\", \"Topic7\", \"Topic7\", \"Topic7\", \"Topic7\", \"Topic7\", \"Topic7\", \"Topic7\", \"Topic7\", \"Topic7\", \"Topic8\", \"Topic8\", \"Topic8\", \"Topic8\", \"Topic8\", \"Topic8\", \"Topic8\", \"Topic8\", \"Topic8\", \"Topic8\", \"Topic8\", \"Topic8\", \"Topic8\", \"Topic8\", \"Topic8\", \"Topic8\", \"Topic8\", \"Topic8\", \"Topic8\", \"Topic8\", \"Topic8\", \"Topic8\", \"Topic8\", \"Topic8\", \"Topic8\", \"Topic8\", \"Topic8\", \"Topic8\", \"Topic8\", \"Topic8\", \"Topic8\", \"Topic8\", \"Topic8\", \"Topic8\", \"Topic8\", \"Topic8\", \"Topic9\", \"Topic9\", \"Topic9\", \"Topic9\", \"Topic9\", \"Topic9\", \"Topic9\", \"Topic9\", \"Topic9\", \"Topic9\", \"Topic9\", \"Topic9\", \"Topic9\", \"Topic9\", \"Topic9\", \"Topic9\", \"Topic9\", \"Topic9\", \"Topic9\", \"Topic9\", \"Topic9\", \"Topic9\", \"Topic9\", \"Topic9\", \"Topic9\", \"Topic9\", \"Topic9\", \"Topic9\", \"Topic9\", \"Topic9\", \"Topic9\", \"Topic9\", \"Topic9\", \"Topic9\", \"Topic9\", \"Topic9\", \"Topic9\", \"Topic9\", \"Topic10\", \"Topic10\", \"Topic10\", \"Topic10\", \"Topic10\", \"Topic10\", \"Topic10\", \"Topic10\", \"Topic10\", \"Topic10\", \"Topic10\", \"Topic10\", \"Topic10\", \"Topic10\", \"Topic10\", \"Topic10\", \"Topic10\", \"Topic10\", \"Topic10\", \"Topic10\", \"Topic10\", \"Topic10\", \"Topic10\", \"Topic10\", \"Topic10\", \"Topic10\", \"Topic10\", \"Topic10\", \"Topic10\", \"Topic10\", \"Topic10\", \"Topic10\", \"Topic10\", \"Topic10\", \"Topic10\", \"Topic10\", \"Topic10\", \"Topic10\", \"Topic10\", \"Topic10\"], \"logprob\": [30.0, 29.0, 28.0, 27.0, 26.0, 25.0, 24.0, 23.0, 22.0, 21.0, 20.0, 19.0, 18.0, 17.0, 16.0, 15.0, 14.0, 13.0, 12.0, 11.0, 10.0, 9.0, 8.0, 7.0, 6.0, 5.0, 4.0, 3.0, 2.0, 1.0, -2.1279, -2.3226, -2.4679, -2.7371, -2.7371, -2.7371, -2.7966, -2.1771, -2.985, -3.0246, -3.0498, -2.9831, -4.0857, -4.5323, -5.6568, -5.6568, -5.6568, -5.6567, -5.6567, -5.6566, -5.2535, -5.6568, -5.2559, -5.6568, -5.6568, -5.6568, -5.6568, -5.6568, -5.6568, -5.6567, -5.6564, -5.6565, -5.6567, -5.6567, -5.6567, -5.6567, -5.6567, -5.6567, -5.6567, -2.3862, -2.3862, -2.3975, -2.5491, -2.5539, -2.6861, -3.1064, -2.7444, -2.9552, -2.7491, -3.1452, -2.9013, -2.8512, -5.2168, -5.5742, -5.5742, -5.5742, -5.5742, -5.1894, -5.2044, -5.5742, -5.5741, -5.5742, -5.5741, -5.5741, -5.5741, -5.5742, -5.5742, -5.5742, -5.5741, -5.304, -5.574, -5.5741, -5.5741, -5.5741, -5.5741, -5.5741, -5.5741, -5.5741, -5.5741, -1.8705, -2.311, -2.2698, -2.579, -2.6494, -2.8767, -2.8097, -2.991, -3.2077, -3.1755, -3.6488, -3.2735, -3.9297, -3.763, -3.7359, -4.1501, -5.6627, -5.6627, -5.6627, -5.6627, -5.3756, -5.1605, -5.6626, -5.6627, -5.6627, -5.6627, -5.6626, -5.2712, -5.6627, -5.6626, -5.4323, -5.416, -5.453, -5.6625, -5.6626, -5.6626, -5.6626, -5.6626, -5.6626, -1.6558, -2.0742, -2.1083, -2.8566, -2.781, -3.0931, -3.344, -2.8452, -3.6867, -3.6883, -4.0353, -3.5463, -3.736, -3.936, -4.1856, -4.6636, -4.2451, -4.8656, -4.8941, -5.2702, -4.7668, -5.6126, -5.6126, -5.6126, -5.4229, -4.863, -5.4229, -5.4229, -4.8935, -5.1751, -5.3431, -5.4464, -5.3734, -2.1761, -2.2912, -1.9331, -1.9962, -1.985, -3.2057, -3.3835, -3.3421, -3.7141, -3.7419, -4.5759, -4.6772, -4.6772, -4.5759, -4.4763, -4.5657, -4.4176, -5.1547, -5.1547, -5.1547, -5.1665, -4.9871, -5.2006, -5.0137, -5.3696, -4.8699, -5.3695, -5.3696, -5.0905, -5.2071, -5.2326, -5.3694, -5.3695, -1.4837, -1.5882, -2.0293, -2.3854, -2.8361, -3.7448, -3.7119, -3.5777, -3.8767, -3.8365, -5.141, -5.141, -5.141, -5.1529, -5.163, -5.0238, -5.1869, -5.163, -5.3559, -5.3559, -5.3559, -5.3559, -5.3559, -5.3559, -5.1934, -5.3558, -5.3559, -5.3559, -5.3551, -5.3559, -5.1099, -5.2193, -5.2235, -5.3556, -5.3557, -5.3557, -5.3558, -5.3558, -5.3558, -1.4532, -1.8354, -2.3359, -2.55, -2.5408, -3.2021, -3.94, -3.8695, -4.0546, -4.7301, -4.1528, -4.1065, -4.8632, -4.7569, -4.6899, -5.0874, -5.0874, -5.0874, -4.8632, -4.8632, -4.8632, -5.0874, -5.0874, -5.0874, -4.5683, -5.0874, -4.5852, -4.8906, -5.087, -5.0874, -4.9279, -5.0872, -5.0873, -5.0874, -5.0874, -5.0874, -5.0874, -5.0874, -1.4797, -1.929, -2.032, -2.3148, -3.365, -3.2213, -3.7917, -3.7795, -3.869, -3.9579, -4.1415, -4.8929, -4.8929, -4.8929, -4.9047, -4.7955, -4.9149, -4.7717, -4.7878, -4.9388, -4.9149, -4.6082, -5.1078, -5.1078, -5.1078, -5.1078, -5.1078, -4.7955, -4.835, -5.1078, -4.9453, -4.772, -5.1077, -5.1077, -5.1077, -5.1077, -1.7483, -2.2967, -2.1781, -2.4361, -3.0405, -2.6616, -3.1536, -4.0839, -4.1147, -4.0503, -4.1654, -4.7714, -4.7714, -4.7714, -4.5816, -4.5816, -4.5803, -4.5803, -4.7714, -4.1869, -4.517, -4.4252, -4.6052, -4.5904, -4.7713, -4.7713, -4.6051, -4.7713, -4.7713, -4.7713, -4.6174, -4.6412, -4.7708, -4.7713, -4.7713, -4.7713, -4.7713, -4.7713, -2.2645, -1.8762, -2.4219, -2.3679, -2.5597, -2.5836, -2.8628, -2.9262, -4.6455, -4.6455, -4.6455, -4.6574, -4.6676, -4.6915, -4.6059, -4.6676, -4.8605, -4.4032, -4.8605, -4.8604, -4.8605, -4.8605, -4.8604, -4.8604, -4.6979, -4.4903, -4.8604, -4.8604, -4.8604, -4.8604, -4.7238, -4.7281, -4.8604, -4.8604, -4.8604, -4.8604, -4.8604, -4.8604, -4.8604, -4.8604], \"loglift\": [30.0, 29.0, 28.0, 27.0, 26.0, 25.0, 24.0, 23.0, 22.0, 21.0, 20.0, 19.0, 18.0, 17.0, 16.0, 15.0, 14.0, 13.0, 12.0, 11.0, 10.0, 9.0, 8.0, 7.0, 6.0, 5.0, 4.0, 3.0, 2.0, 1.0, 1.5844, 1.5753, 1.559, 1.5296, 1.5296, 1.5296, 1.396, 1.2624, 0.9691, 0.7538, 0.6806, 0.5333, -0.3092, -0.9877, -1.5989, -1.6237, -1.6265, -1.6267, -1.6267, -1.6881, -1.698, -1.7129, -1.747, -1.7757, -1.7806, -1.7914, -1.7921, -1.7934, -1.7997, -1.8506, -1.9875, -1.9497, -2.2095, -2.1026, -2.0606, -2.3195, -2.0867, -2.0753, -2.0138, 1.6438, 1.6438, 1.6356, 1.5088, 1.3108, 1.0548, 0.8477, 0.7365, 0.7137, 0.6904, 0.6332, 0.6151, 0.5764, -1.273, -1.3075, -1.3075, -1.3075, -1.3816, -1.4129, -1.4976, -1.5439, -1.5472, -1.6057, -1.6762, -1.693, -1.6979, -1.7088, -1.7107, -1.7171, -1.7679, -1.9668, -2.0651, -1.8436, -2.1269, -2.0186, -2.0041, -1.9312, -1.9927, -2.0295, -2.02, 1.6995, 1.6575, 1.3731, 1.1514, 1.0258, 1.0044, 0.8592, 0.7874, 0.4991, 0.3334, 0.2146, 0.1737, 0.1282, -0.0221, -0.0236, -0.196, -1.396, -1.396, -1.396, -1.4701, -1.5109, -1.579, -1.6295, -1.6323, -1.6327, -1.6327, -1.6357, -1.7157, -1.7188, -1.7648, -1.9515, -2.0787, -2.0254, -2.1461, -2.0665, -2.118, -2.2232, -2.1085, -1.7973, 1.8997, 1.802, 1.3388, 0.8843, 0.7279, 0.5821, 0.5371, 0.4921, 0.2571, 0.1688, 0.1573, 0.0966, -0.0292, -0.4195, -0.4552, -0.6304, -0.6909, -0.8387, -1.2252, -1.3018, -1.3392, -1.3459, -1.3459, -1.3459, -1.365, -1.3822, -1.3929, -1.3929, -1.4541, -1.4628, -1.4784, -1.4922, -1.8033, 1.7677, 1.7391, 1.4945, 1.4846, 1.3523, 0.6577, 0.4736, 0.1668, -0.267, -0.3025, -0.549, -0.6472, -0.6472, -0.678, -0.7695, -0.7891, -0.8635, -0.888, -0.888, -0.888, -0.974, -1.1109, -1.2464, -1.3014, -1.3117, -1.3144, -1.3364, -1.4011, -1.4216, -1.4287, -1.7161, -1.6942, -1.4884, 2.0977, 1.966, 1.7473, 1.3214, 0.9701, 0.2855, 0.1452, 0.0912, -0.2338, -0.2918, -0.8743, -0.8743, -0.8743, -0.9603, -1.1361, -1.1585, -1.2327, -1.2651, -1.298, -1.3227, -1.3259, -1.3259, -1.3874, -1.412, -1.415, -1.4747, -1.4797, -1.4912, -1.4917, -1.6149, -1.7726, -1.7028, -1.784, -1.8467, -1.6434, -1.6804, -1.9086, -1.8003, -1.9282, 2.1429, 1.9708, 1.3394, 1.331, 1.3239, 0.5047, -0.0422, -0.3154, -0.5738, -0.6997, -0.7252, -0.7692, -0.8053, -0.8131, -0.8137, -0.8207, -0.8207, -0.8207, -0.8301, -0.8332, -0.8333, -0.8948, -1.0605, -1.119, -1.1211, -1.1332, -1.1458, -1.1497, -1.2217, -1.224, -1.4114, -1.5426, -1.5318, -1.4444, -1.5173, -1.5785, -1.5059, -1.3751, 2.0649, 1.9363, 1.8314, 1.1324, 0.4116, 0.2951, 0.0845, -0.0385, -0.3135, -0.3618, -0.4663, -0.6262, -0.6262, -0.6262, -0.7121, -0.827, -0.888, -0.8906, -0.9816, -0.9846, -1.017, -1.0381, -1.0499, -1.0746, -1.0774, -1.0778, -1.0778, -1.0832, -1.1046, -1.1639, -1.1669, -1.3325, -1.7704, -1.5988, -1.5263, -1.5536, 1.7606, 1.5604, 1.3383, 1.134, 0.928, 0.766, 0.3273, -0.0536, -0.2513, -0.3435, -0.3888, -0.5047, -0.5047, -0.5047, -0.5237, -0.5485, -0.5503, -0.5503, -0.5788, -0.6328, -0.6359, -0.6468, -0.651, -0.7257, -0.7444, -0.8275, -0.8642, -0.8734, -0.8951, -0.906, -0.9485, -1.2018, -1.2152, -1.434, -1.1752, -1.3241, -0.9651, -1.1284, 1.6008, 1.461, 1.221, 1.1768, 1.1092, 1.0126, 0.9942, 0.8042, -0.3789, -0.3789, -0.3789, -0.4648, -0.6407, -0.7373, -0.7425, -0.7697, -0.8025, -0.8218, -0.8273, -0.8301, -0.8305, -0.8305, -0.892, -0.9166, -0.9195, -0.9203, -0.9793, -0.9842, -0.9957, -1.0542, -1.2074, -1.2886, -1.3048, -1.3063, -1.4132, -1.1852, -1.3515, -1.3796, -1.4328, -1.1481]}, \"token.table\": {\"Topic\": [2, 5, 9, 3, 6, 7, 3, 4, 10, 1, 1, 7, 10, 3, 9, 6, 7, 2, 3, 10, 3, 1, 2, 5, 2, 2, 6, 8, 10, 3, 4, 8, 2, 4, 6, 2, 5, 4, 5, 10, 3, 4, 5, 9, 5, 9, 10, 1, 1, 2, 9, 1, 1, 2, 3, 4, 2, 3, 4, 7, 1, 2, 7, 3, 5, 8, 4, 6, 1, 1, 3, 10, 1, 2, 3, 4, 7, 5, 1, 2, 8, 10], \"Freq\": [0.18306019922215483, 0.5491805976664644, 0.18306019922215483, 0.2420177167319434, 0.4840354334638868, 0.2420177167319434, 0.4540892812703225, 0.22704464063516125, 0.22704464063516125, 0.8473053303127989, 0.8473053621607134, 0.6499936022781977, 0.21666453409273256, 0.6332460795173621, 0.2110820265057874, 0.2673102338734286, 0.5346204677468572, 0.2330182691373195, 0.2330182691373195, 0.2330182691373195, 0.6287990545730155, 0.3933931082841661, 0.6876438558472692, 0.6135135597216227, 0.6687147774628133, 0.6708230636725485, 0.8540176249574745, 0.617382587833343, 0.20579419594444767, 0.18667974370031215, 0.3733594874006243, 0.18667974370031215, 0.5008611230889699, 0.25043056154448495, 0.6232534224890092, 0.193068118840583, 0.386136237681166, 0.1672500376796293, 0.3345000753592586, 0.3345000753592586, 0.1985673153860074, 0.1985673153860074, 0.1985673153860074, 0.3971346307720148, 0.2812578057096728, 0.2812578057096728, 0.2812578057096728, 0.6666515343485627, 0.20007380589154625, 0.20007380589154625, 0.20007380589154625, 0.8473054018101487, 0.25998160457749736, 0.25998160457749736, 0.25998160457749736, 0.5733931264496062, 0.6687147041213206, 0.23449935058690224, 0.23449935058690224, 0.23449935058690224, 0.7300579572825567, 0.5668355378974833, 0.28341776894874166, 0.2830553692263656, 0.2830553692263656, 0.5661107384527312, 0.8321644770202455, 0.5190191910822307, 0.5859554621905694, 0.2478182249722539, 0.4956364499445078, 0.2478182249722539, 0.30994347246601595, 0.30994347246601595, 0.2881021480887901, 0.2881021480887901, 0.2881021480887901, 0.6689374235761133, 0.5557412514775046, 0.18524708382583485, 0.5671863705467589, 0.28359318527337946], \"Term\": [\"2019\", \"2019\", \"2019\", \"2019ncov\", \"2019ncov\", \"2019ncov\", \"amp\", \"amp\", \"amp\", \"begin\", \"brief\", \"cancer\", \"cancer\", \"case\", \"case\", \"cause\", \"cause\", \"cdc\", \"cdc\", \"cdc\", \"confirm\", \"early\", \"emerge\", \"emergency\", \"evolve\", \"first\", \"flu\", \"get\", \"get\", \"health\", \"health\", \"health\", \"identify\", \"identify\", \"learn\", \"ncov\", \"ncov\", \"new\", \"new\", \"new\", \"novel\", \"novel\", \"novel\", \"novel\", \"one\", \"one\", \"one\", \"ongoing\", \"outbreak\", \"outbreak\", \"outbreak\", \"proa\", \"provide\", \"provide\", \"provide\", \"public\", \"rapidly\", \"risk\", \"risk\", \"risk\", \"sick\", \"situation\", \"situation\", \"spread\", \"spread\", \"spread\", \"state\", \"symptom\", \"today\", \"travel\", \"travel\", \"travel\", \"update\", \"update\", \"us\", \"us\", \"us\", \"virus\", \"wuhan\", \"wuhan\", \"year\", \"year\"]}, \"R\": 30, \"lambda.step\": 0.01, \"plot.opts\": {\"xlab\": \"PC1\", \"ylab\": \"PC2\"}, \"topic.order\": [4, 1, 8, 7, 10, 2, 6, 9, 3, 5]};\n",
       "\n",
       "function LDAvis_load_lib(url, callback){\n",
       "  var s = document.createElement('script');\n",
       "  s.src = url;\n",
       "  s.async = true;\n",
       "  s.onreadystatechange = s.onload = callback;\n",
       "  s.onerror = function(){console.warn(\"failed to load library \" + url);};\n",
       "  document.getElementsByTagName(\"head\")[0].appendChild(s);\n",
       "}\n",
       "\n",
       "if(typeof(LDAvis) !== \"undefined\"){\n",
       "   // already loaded: just create the visualization\n",
       "   !function(LDAvis){\n",
       "       new LDAvis(\"#\" + \"ldavis_el938631406086691472963393192194\", ldavis_el938631406086691472963393192194_data);\n",
       "   }(LDAvis);\n",
       "}else if(typeof define === \"function\" && define.amd){\n",
       "   // require.js is available: use it to load d3/LDAvis\n",
       "   require.config({paths: {d3: \"https://d3js.org/d3.v5\"}});\n",
       "   require([\"d3\"], function(d3){\n",
       "      window.d3 = d3;\n",
       "      LDAvis_load_lib(\"https://cdn.jsdelivr.net/gh/bmabey/pyLDAvis@3.4.0/pyLDAvis/js/ldavis.v3.0.0.js\", function(){\n",
       "        new LDAvis(\"#\" + \"ldavis_el938631406086691472963393192194\", ldavis_el938631406086691472963393192194_data);\n",
       "      });\n",
       "    });\n",
       "}else{\n",
       "    // require.js not available: dynamically load d3 & LDAvis\n",
       "    LDAvis_load_lib(\"https://d3js.org/d3.v5.js\", function(){\n",
       "         LDAvis_load_lib(\"https://cdn.jsdelivr.net/gh/bmabey/pyLDAvis@3.4.0/pyLDAvis/js/ldavis.v3.0.0.js\", function(){\n",
       "                 new LDAvis(\"#\" + \"ldavis_el938631406086691472963393192194\", ldavis_el938631406086691472963393192194_data);\n",
       "            })\n",
       "         });\n",
       "}\n",
       "</script>"
      ],
      "text/plain": [
       "PreparedData(topic_coordinates=              x         y  topics  cluster       Freq\n",
       "topic                                                \n",
       "3      0.197484  0.157111       1        1  14.384720\n",
       "0      0.180845 -0.032541       2        1  13.827897\n",
       "7     -0.034206 -0.026100       3        1  11.886875\n",
       "6     -0.069263 -0.129935       4        1  11.723576\n",
       "9      0.032250 -0.127457       5        1  10.743446\n",
       "1     -0.146998  0.165579       6        1  10.145156\n",
       "5     -0.078437  0.041059       7        1   7.715574\n",
       "8     -0.059958  0.007240       8        1   7.259874\n",
       "2      0.038769 -0.063007       9        1   6.178118\n",
       "4     -0.060487  0.008051      10        1   6.134764, topic_info=      Term      Freq     Total Category  logprob  loglift\n",
       "16     flu  4.000000  4.000000  Default  30.0000  30.0000\n",
       "39  cancer  4.000000  4.000000  Default  29.0000  29.0000\n",
       "11     get  4.000000  4.000000  Default  28.0000  28.0000\n",
       "2      new  5.000000  5.000000  Default  27.0000  27.0000\n",
       "19   learn  4.000000  4.000000  Default  26.0000  26.0000\n",
       "..     ...       ...       ...      ...      ...      ...\n",
       "3     risk  0.079972  4.264404  Topic10  -4.8604  -1.1852\n",
       "24   novel  0.079972  5.036076  Topic10  -4.8604  -1.3515\n",
       "1     ncov  0.079972  5.179519  Topic10  -4.8604  -1.3796\n",
       "0     2019  0.079972  5.462684  Topic10  -4.8604  -1.4328\n",
       "7     sick  0.079972  4.109263  Topic10  -4.8604  -1.1481\n",
       "\n",
       "[405 rows x 6 columns], token_table=      Topic      Freq      Term\n",
       "term                           \n",
       "0         2  0.183060      2019\n",
       "0         5  0.549181      2019\n",
       "0         9  0.183060      2019\n",
       "32        3  0.242018  2019ncov\n",
       "32        6  0.484035  2019ncov\n",
       "...     ...       ...       ...\n",
       "20        5  0.668937     virus\n",
       "31        1  0.555741     wuhan\n",
       "31        2  0.185247     wuhan\n",
       "21        8  0.567186      year\n",
       "21       10  0.283593      year\n",
       "\n",
       "[82 rows x 3 columns], R=30, lambda_step=0.01, plot_opts={'xlab': 'PC1', 'ylab': 'PC2'}, topic_order=[4, 1, 8, 7, 10, 2, 6, 9, 3, 5])"
      ]
     },
     "execution_count": 71,
     "metadata": {},
     "output_type": "execute_result"
    }
   ],
   "source": [
    "pyLDAvis.enable_notebook()\n",
    "pyLDAvis.gensim.prepare(lda_model_tfidf, corpus_tfidf, dictionary)"
   ]
  },
  {
   "cell_type": "code",
   "execution_count": null,
   "metadata": {},
   "outputs": [],
   "source": []
  },
  {
   "cell_type": "code",
   "execution_count": null,
   "metadata": {},
   "outputs": [],
   "source": []
  },
  {
   "cell_type": "code",
   "execution_count": null,
   "metadata": {},
   "outputs": [],
   "source": []
  },
  {
   "cell_type": "code",
   "execution_count": null,
   "metadata": {},
   "outputs": [],
   "source": []
  },
  {
   "cell_type": "code",
   "execution_count": null,
   "metadata": {},
   "outputs": [],
   "source": []
  }
 ],
 "metadata": {
  "kernelspec": {
   "display_name": "Python 3 (ipykernel)",
   "language": "python",
   "name": "python3"
  },
  "language_info": {
   "codemirror_mode": {
    "name": "ipython",
    "version": 3
   },
   "file_extension": ".py",
   "mimetype": "text/x-python",
   "name": "python",
   "nbconvert_exporter": "python",
   "pygments_lexer": "ipython3",
   "version": "3.9.12"
  }
 },
 "nbformat": 4,
 "nbformat_minor": 2
}
