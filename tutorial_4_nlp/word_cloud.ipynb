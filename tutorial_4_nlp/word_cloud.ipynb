{
 "cells": [
  {
   "cell_type": "code",
   "execution_count": null,
   "id": "5c520ce2",
   "metadata": {},
   "outputs": [],
   "source": [
    "from wordcloud import WordCloud, STOPWORDS\n",
    "import matplotlib.pyplot as plt\n",
    "import pandas as pd\n",
    "import matplotlib.colors as mcolors\n",
    "import re\n",
    "import unicodedata"
   ]
  },
  {
   "cell_type": "code",
   "execution_count": null,
   "id": "d1f801d5",
   "metadata": {},
   "outputs": [],
   "source": [
    "df = pd.read_pickle(\"../tutorial_3_twitter_networks_and_visualization/Raw_Tweets.pkl\")\n",
    "df = df[0:1000]"
   ]
  },
  {
   "cell_type": "code",
   "execution_count": null,
   "id": "93ab257e",
   "metadata": {},
   "outputs": [],
   "source": [
    "# pre-process tweets\n",
    "def strip_links(text):\n",
    "    link_regex    = re.compile('((https?):((//)|(\\\\\\\\))+([\\w\\d:#@%/;$()~_?\\+-=\\\\\\.&](#!)?)*)', re.DOTALL)\n",
    "    links         = re.findall(link_regex, text)\n",
    "    for link in links:\n",
    "        text = text.replace(link[0], ' ')    \n",
    "    return text\n",
    "\n",
    "def remove_special_characters(text, remove_digits=False):\n",
    "    pattern = r'[^a-zA-z0-9\\s]' if not remove_digits else r'[^a-zA-z\\s]'\n",
    "    text = re.sub(pattern, '', text)\n",
    "    text = unicodedata.normalize('NFKD', text).encode('ascii', 'ignore').decode('utf-8', 'ignore')\n",
    "    return text\n",
    "\n",
    "def process_tweets(tweet):\n",
    "    tweet = strip_links(tweet)\n",
    "    tweet = remove_special_characters(tweet)\n",
    "    return tweet\n",
    "\n",
    "df.loc[:, 'text'] = df.text.apply(process_tweets)"
   ]
  },
  {
   "cell_type": "code",
   "execution_count": null,
   "id": "ffc87000",
   "metadata": {},
   "outputs": [],
   "source": [
    "text = ' '.join(df.text.tolist()).lower()"
   ]
  },
  {
   "cell_type": "code",
   "execution_count": null,
   "id": "73612209",
   "metadata": {},
   "outputs": [],
   "source": [
    "# create the wordcloud object \n",
    "wordcloud = WordCloud(width = 800, height = 800,\n",
    "                background_color ='white',\n",
    "                stopwords = STOPWORDS,\n",
    "                max_words=25,\n",
    "                colormap='Set2', # Blues\n",
    "                collocations = True,\n",
    "                # prefer_horizontal=1.0,\n",
    "                min_font_size = 10).generate(text)\n",
    "\n",
    "# plot word cloud\n",
    "plt.figure(figsize = (5, 5), facecolor = None)\n",
    "plt.imshow(wordcloud, interpolation='bilinear')\n",
    "plt.margins(x=0, y=0)\n",
    "plt.axis(\"off\")\n",
    "plt.tight_layout(pad = 0)"
   ]
  },
  {
   "cell_type": "code",
   "execution_count": null,
   "id": "6fc48ffb",
   "metadata": {},
   "outputs": [],
   "source": []
  }
 ],
 "metadata": {
  "kernelspec": {
   "display_name": "Python 3",
   "language": "python",
   "name": "python3"
  },
  "language_info": {
   "codemirror_mode": {
    "name": "ipython",
    "version": 3
   },
   "file_extension": ".py",
   "mimetype": "text/x-python",
   "name": "python",
   "nbconvert_exporter": "python",
   "pygments_lexer": "ipython3",
   "version": "3.10.9"
  }
 },
 "nbformat": 4,
 "nbformat_minor": 5
}
