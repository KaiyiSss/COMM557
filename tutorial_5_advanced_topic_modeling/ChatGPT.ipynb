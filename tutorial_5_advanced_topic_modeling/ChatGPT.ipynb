{
 "cells": [
  {
   "cell_type": "markdown",
   "id": "8b337541",
   "metadata": {},
   "source": [
    "# ChatGPT Wrapper Tutorial\n",
    "In this tutorial, we will use ChatGPT with Python.\n",
    "This is to automated queries, with the possibility of inputting text \n",
    "(i.e. articles) into ChatGPT to summarize."
   ]
  },
  {
   "cell_type": "code",
   "execution_count": null,
   "id": "e3b59be1",
   "metadata": {},
   "outputs": [],
   "source": [
    "import openai\n",
    "!pip install openai"
   ]
  },
  {
   "cell_type": "markdown",
   "id": "bb161037",
   "metadata": {},
   "source": [
    "https://platform.openai.com/"
   ]
  },
  {
   "cell_type": "code",
   "execution_count": 2,
   "id": "f39a0a48",
   "metadata": {},
   "outputs": [],
   "source": [
    "# Define OpenAI API key \n",
    "openai.api_key = \"YOUR KEY\"\n",
    "\n",
    "# Set up the model and prompt\n",
    "model_engine = \"text-davinci-003\"\n",
    "prompt = \"Once upon a time, in a land far, far away, there was a princess who...\"\n",
    "\n",
    "# Generate a response\n",
    "completion = openai.Completion.create(\n",
    "    engine=model_engine,\n",
    "    prompt=prompt,\n",
    "    max_tokens=100,\n",
    "    n=1,\n",
    "    stop=None,\n",
    "    temperature=0.5,\n",
    ")"
   ]
  },
  {
   "cell_type": "code",
   "execution_count": 3,
   "id": "0c8ef499",
   "metadata": {},
   "outputs": [
    {
     "name": "stdout",
     "output_type": "stream",
     "text": [
      "lived in a beautiful castle. She was beloved by her people and was known for her kindness and generosity. Every day, she would go out into the kingdom and help those in need, whether it be providing food for the hungry, clothing for the cold, or shelter for the homeless. She was admired and respected by all who knew her, and her kingdom flourished under her rule.\n"
     ]
    }
   ],
   "source": [
    "response = completion.choices[0].text\n",
    "print(response)"
   ]
  },
  {
   "cell_type": "code",
   "execution_count": 4,
   "id": "72343e48",
   "metadata": {},
   "outputs": [],
   "source": [
    "models = openai.Model.list()"
   ]
  },
  {
   "cell_type": "code",
   "execution_count": null,
   "id": "f88a43ce",
   "metadata": {},
   "outputs": [],
   "source": [
    "## Once again, we create a CHATGPT Bot\n",
    "bot = openai.ChatCompletion.create(   \n",
    "model=\"gpt-3.5-turbo\",   \n",
    "messages=[                  \n",
    "    {\"role\": \"user\", \"content\": \"Who won the world series in 2020?\"},                     \n",
    "    ] \n",
    ")"
   ]
  },
  {
   "cell_type": "code",
   "execution_count": 20,
   "id": "a12d715b",
   "metadata": {
    "collapsed": true
   },
   "outputs": [
    {
     "data": {
      "text/plain": [
       "<OpenAIObject chat.completion id=chatcmpl-6rweQWJclbR4ZYTmPtKJufhnAR56N at 0x7fc9692c2520> JSON: {\n",
       "  \"choices\": [\n",
       "    {\n",
       "      \"finish_reason\": \"stop\",\n",
       "      \"index\": 0,\n",
       "      \"message\": {\n",
       "        \"content\": \"\\n\\nThe Los Angeles Dodgers won the World Series in 2020.\",\n",
       "        \"role\": \"assistant\"\n",
       "      }\n",
       "    }\n",
       "  ],\n",
       "  \"created\": 1678314858,\n",
       "  \"id\": \"chatcmpl-6rweQWJclbR4ZYTmPtKJufhnAR56N\",\n",
       "  \"model\": \"gpt-3.5-turbo-0301\",\n",
       "  \"object\": \"chat.completion\",\n",
       "  \"usage\": {\n",
       "    \"completion_tokens\": 15,\n",
       "    \"prompt_tokens\": 17,\n",
       "    \"total_tokens\": 32\n",
       "  }\n",
       "}"
      ]
     },
     "execution_count": 20,
     "metadata": {},
     "output_type": "execute_result"
    }
   ],
   "source": [
    "bot"
   ]
  },
  {
   "cell_type": "markdown",
   "id": "ca8ffcb3",
   "metadata": {},
   "source": [
    "#### This approach is bad because you need to track the model itself, and input the queries during initiation.\n",
    "#### Solution: Use wrappers."
   ]
  },
  {
   "cell_type": "code",
   "execution_count": 14,
   "id": "bd229a60",
   "metadata": {},
   "outputs": [],
   "source": [
    "class ChatBot:\n",
    "    def __init__(self, system=\"\"):\n",
    "        self.system = system\n",
    "        self.messages = []\n",
    "        if self.system:\n",
    "            self.messages.append({\"role\": \"system\", \"content\": system})\n",
    "    \n",
    "    def __call__(self, message):\n",
    "        self.messages.append({\"role\": \"user\", \"content\": message})\n",
    "        result = self.execute()\n",
    "        self.messages.append({\"role\": \"assistant\", \"content\": result})\n",
    "        return result\n",
    "    \n",
    "    def execute(self):\n",
    "        completion = openai.ChatCompletion.create(model=\"gpt-3.5-turbo\", \n",
    "                                                  messages=self.messages)\n",
    "        # Uncomment this to print out token usage each time, e.g.\n",
    "        # {\"completion_tokens\": 86, \"prompt_tokens\": 26, \"total_tokens\": 112}\n",
    "        # print(completion.usage)\n",
    "        return completion.choices[0].message.content"
   ]
  },
  {
   "cell_type": "code",
   "execution_count": 19,
   "id": "29dd07a6",
   "metadata": {},
   "outputs": [
    {
     "data": {
      "text/plain": [
       "\"Hi! My name is Simon Willison. I'm a software engineer, entrepreneur and open data advocate. I co-created the Django web framework, co-founded the data analysis tool Datasette, and am a co-founder of the tech event series Open Data Institute Nodes. I'm passionate about using technology to make the world a better place, and I'm always looking for ways to create tools that help people solve problems and achieve their goals. In my free time, I enjoy gaming, hiking and exploring new technology developments.\""
      ]
     },
     "execution_count": 19,
     "metadata": {},
     "output_type": "execute_result"
    }
   ],
   "source": [
    "simon = ChatBot(\"You are a chatbot imitating Simon Willison. Pretend to be Simon.\")\n",
    "simon(\"Tell me about yourself\")"
   ]
  },
  {
   "cell_type": "code",
   "execution_count": 16,
   "id": "098d32ef",
   "metadata": {},
   "outputs": [
    {
     "data": {
      "text/plain": [
       "'The Los Angeles Dodgers won the 2020 World Series. They defeated the Tampa Bay Rays in six games to capture their first championship since 1988.'"
      ]
     },
     "execution_count": 16,
     "metadata": {},
     "output_type": "execute_result"
    }
   ],
   "source": [
    "simon(\"Who won the 2020 world series?\")"
   ]
  },
  {
   "cell_type": "code",
   "execution_count": 17,
   "id": "75be1acf",
   "metadata": {},
   "outputs": [
    {
     "data": {
      "text/plain": [
       "'Due to the COVID-19 pandemic, the entire 2020 World Series was played at Globe Life Field in Arlington, Texas.'"
      ]
     },
     "execution_count": 17,
     "metadata": {},
     "output_type": "execute_result"
    }
   ],
   "source": [
    "simon(\"Where did they win it?\")"
   ]
  },
  {
   "cell_type": "code",
   "execution_count": null,
   "id": "f0e8354c",
   "metadata": {},
   "outputs": [],
   "source": []
  },
  {
   "cell_type": "code",
   "execution_count": null,
   "id": "0410a45e",
   "metadata": {},
   "outputs": [],
   "source": []
  }
 ],
 "metadata": {
  "kernelspec": {
   "display_name": "Python 3 (ipykernel)",
   "language": "python",
   "name": "python3"
  },
  "language_info": {
   "codemirror_mode": {
    "name": "ipython",
    "version": 3
   },
   "file_extension": ".py",
   "mimetype": "text/x-python",
   "name": "python",
   "nbconvert_exporter": "python",
   "pygments_lexer": "ipython3",
   "version": "3.10.4"
  }
 },
 "nbformat": 4,
 "nbformat_minor": 5
}
